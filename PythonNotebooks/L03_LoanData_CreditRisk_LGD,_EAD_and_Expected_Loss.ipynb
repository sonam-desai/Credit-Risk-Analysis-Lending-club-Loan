{
  "cells": [
    {
      "cell_type": "markdown",
      "metadata": {
        "id": "LgXHo67lZeFx"
      },
      "source": [
        "# Credit Risk Modeling | Part 3: Loss Given Default, Exposure at Default and Expected Loss\n",
        "\n",
        "<img src=\"http://www.alll.com/wp-content/uploads/2015/11/pdlgd1.png\">\n",
        "\n",
        "**Loss given default (LGD)**  \n",
        "\n",
        "LGD is the amount outstanding we expect to lose. It is a proportion of the total exposure when borrower defaults. It is a percentage of total exposure at the time of default or a single dollar value of potential loss. It is calculated by (1 - Recovery Rate). \n",
        "\n",
        "**Exposure at default (EAD)**  \n",
        "\n",
        "EAD is the predicted amount of loss a bank is exposed to.  \n",
        "\n",
        "**Expected Loss**  \n",
        "\n",
        "EL =  PD x EAD  x LGD\n",
        "\n"
      ]
    },
    {
      "cell_type": "markdown",
      "metadata": {
        "id": "1dwhNLue83Yk"
      },
      "source": [
        "# 1 Data Preparation"
      ]
    },
    {
      "cell_type": "markdown",
      "metadata": {
        "id": "KyZ92MJsOmjj"
      },
      "source": [
        "## a Import Libraries\n",
        "\n",
        "\n",
        "\n",
        "\n"
      ]
    },
    {
      "cell_type": "code",
      "execution_count": 1,
      "metadata": {
        "colab": {
          "base_uri": "https://localhost:8080/"
        },
        "id": "wbPSxQTlQaWu",
        "outputId": "e2ea31b0-1536-4eec-b8f4-00753799554b"
      },
      "outputs": [
        {
          "name": "stdout",
          "output_type": "stream",
          "text": [
            "Looking in indexes: https://pypi.org/simple, https://us-python.pkg.dev/colab-wheels/public/simple/\n",
            "Requirement already satisfied: gdown in /usr/local/lib/python3.8/dist-packages (4.6.0)\n",
            "Requirement already satisfied: filelock in /usr/local/lib/python3.8/dist-packages (from gdown) (3.8.2)\n",
            "Requirement already satisfied: six in /usr/local/lib/python3.8/dist-packages (from gdown) (1.15.0)\n",
            "Requirement already satisfied: tqdm in /usr/local/lib/python3.8/dist-packages (from gdown) (4.64.1)\n",
            "Requirement already satisfied: beautifulsoup4 in /usr/local/lib/python3.8/dist-packages (from gdown) (4.6.3)\n",
            "Requirement already satisfied: requests[socks] in /usr/local/lib/python3.8/dist-packages (from gdown) (2.23.0)\n",
            "Requirement already satisfied: urllib3!=1.25.0,!=1.25.1,<1.26,>=1.21.1 in /usr/local/lib/python3.8/dist-packages (from requests[socks]->gdown) (1.24.3)\n",
            "Requirement already satisfied: idna<3,>=2.5 in /usr/local/lib/python3.8/dist-packages (from requests[socks]->gdown) (2.10)\n",
            "Requirement already satisfied: certifi>=2017.4.17 in /usr/local/lib/python3.8/dist-packages (from requests[socks]->gdown) (2022.12.7)\n",
            "Requirement already satisfied: chardet<4,>=3.0.2 in /usr/local/lib/python3.8/dist-packages (from requests[socks]->gdown) (3.0.4)\n",
            "Requirement already satisfied: PySocks!=1.5.7,>=1.5.6 in /usr/local/lib/python3.8/dist-packages (from requests[socks]->gdown) (1.7.1)\n",
            "Looking in indexes: https://pypi.org/simple, https://us-python.pkg.dev/colab-wheels/public/simple/\n",
            "Requirement already satisfied: gdown in /usr/local/lib/python3.8/dist-packages (4.6.0)\n",
            "Requirement already satisfied: filelock in /usr/local/lib/python3.8/dist-packages (from gdown) (3.8.2)\n",
            "Requirement already satisfied: six in /usr/local/lib/python3.8/dist-packages (from gdown) (1.15.0)\n",
            "Requirement already satisfied: requests[socks] in /usr/local/lib/python3.8/dist-packages (from gdown) (2.23.0)\n",
            "Requirement already satisfied: beautifulsoup4 in /usr/local/lib/python3.8/dist-packages (from gdown) (4.6.3)\n",
            "Requirement already satisfied: tqdm in /usr/local/lib/python3.8/dist-packages (from gdown) (4.64.1)\n",
            "Requirement already satisfied: chardet<4,>=3.0.2 in /usr/local/lib/python3.8/dist-packages (from requests[socks]->gdown) (3.0.4)\n",
            "Requirement already satisfied: certifi>=2017.4.17 in /usr/local/lib/python3.8/dist-packages (from requests[socks]->gdown) (2022.12.7)\n",
            "Requirement already satisfied: urllib3!=1.25.0,!=1.25.1,<1.26,>=1.21.1 in /usr/local/lib/python3.8/dist-packages (from requests[socks]->gdown) (1.24.3)\n",
            "Requirement already satisfied: idna<3,>=2.5 in /usr/local/lib/python3.8/dist-packages (from requests[socks]->gdown) (2.10)\n",
            "Requirement already satisfied: PySocks!=1.5.7,>=1.5.6 in /usr/local/lib/python3.8/dist-packages (from requests[socks]->gdown) (1.7.1)\n"
          ]
        }
      ],
      "source": [
        "#installing gdown package to download dataset stored in G Drive\n",
        "!pip install gdown\n",
        "\n",
        "# to upgrade\n",
        "!pip install --upgrade gdown"
      ]
    },
    {
      "cell_type": "code",
      "execution_count": 2,
      "metadata": {
        "id": "TxipeE9VOmju"
      },
      "outputs": [],
      "source": [
        "import numpy as np\n",
        "import pandas as pd\n",
        "\n",
        "#libs for plotting\n",
        "import matplotlib.pyplot as plt\n",
        "import seaborn as sns\n",
        "sns.set()\n",
        "\n",
        "#ML model\n",
        "from sklearn.model_selection import train_test_split\n",
        "from sklearn import linear_model\n",
        "from sklearn.metrics import roc_curve, roc_auc_score\n",
        "\n",
        "import scipy.stats as stat\n",
        "\n",
        "#exporting ML model\n",
        "import pickle\n",
        "\n",
        "#lib to download dataset on g drive\n",
        "import gdown\n",
        "\n",
        "#setting display option max rows\n",
        "#pd.options.display.max_rows = None"
      ]
    },
    {
      "cell_type": "markdown",
      "metadata": {
        "id": "FKX0JRBQOmjy"
      },
      "source": [
        "## b Import Data\n",
        "\n",
        "Please note that if you have already run the first notebook of this series, you don't need to run the codes below and so download the data sets."
      ]
    },
    {
      "cell_type": "code",
      "execution_count": 4,
      "metadata": {
        "colab": {
          "base_uri": "https://localhost:8080/"
        },
        "id": "3ppaGS83Po_1",
        "outputId": "118a44b7-17de-49a8-d05a-4d7213211885"
      },
      "outputs": [
        {
          "name": "stderr",
          "output_type": "stream",
          "text": [
            "Downloading...\n",
            "From: https://drive.google.com/uc?id=1v45P0HhUxZ1x4HmD0bWblpUyUWuiC0_5\n",
            "To: /content/loan_data_inputs_train.csv\n",
            "100%|██████████| 436M/436M [00:02<00:00, 159MB/s]\n",
            "Downloading...\n",
            "From: https://drive.google.com/uc?id=1KvP7EXfVNdekotGFqgp9UUlNXBLCKy9i\n",
            "To: /content/loan_data_targets_train.csv\n",
            "100%|██████████| 3.27M/3.27M [00:00<00:00, 100MB/s]\n"
          ]
        }
      ],
      "source": [
        "# 1st file\n",
        "url = \"https://drive.google.com/file/d/1v45P0HhUxZ1x4HmD0bWblpUyUWuiC0_5/view?usp=share_link\"\n",
        "output = \"loan_data_inputs_train.csv\"\n",
        "g_down (url,output)\n",
        "\n",
        "# 2nd file\n",
        "url = \"https://drive.google.com/file/d/1KvP7EXfVNdekotGFqgp9UUlNXBLCKy9i/view?usp=share_link\"\n",
        "output = \"loan_data_targets_train.csv\"\n",
        "g_down (url,output)"
      ]
    },
    {
      "cell_type": "code",
      "execution_count": 5,
      "metadata": {
        "colab": {
          "base_uri": "https://localhost:8080/"
        },
        "id": "xA4nQaqOTqFS",
        "outputId": "561513b1-8f5e-4097-bce5-ccee8dbb13d4"
      },
      "outputs": [
        {
          "name": "stderr",
          "output_type": "stream",
          "text": [
            "Downloading...\n",
            "From: https://drive.google.com/uc?id=1M-VHZM612ihx-elO6dw3SVYJh0cWD5E6\n",
            "To: /content/loan_data_inputs_test.csv\n",
            "100%|██████████| 109M/109M [00:01<00:00, 86.3MB/s]\n",
            "Downloading...\n",
            "From: https://drive.google.com/uc?id=1wTkfTDyCxcMcddsz-Fk-AO_Y6owLhzWp\n",
            "To: /content/loan_data_targets_test.csv\n",
            "100%|██████████| 817k/817k [00:00<00:00, 19.4MB/s]\n"
          ]
        }
      ],
      "source": [
        "\n",
        "# 3rd file\n",
        "url = \"https://drive.google.com/file/d/1M-VHZM612ihx-elO6dw3SVYJh0cWD5E6/view?usp=share_link\"\n",
        "output = \"loan_data_inputs_test.csv\"\n",
        "g_down (url,output)\n",
        "\n",
        "# 4th file\n",
        "url = \"https://drive.google.com/file/d/1wTkfTDyCxcMcddsz-Fk-AO_Y6owLhzWp/view?usp=share_link\"\n",
        "output = \"loan_data_targets_test.csv\"\n",
        "g_down (url,output)\n"
      ]
    },
    {
      "cell_type": "code",
      "execution_count": 6,
      "metadata": {
        "id": "fIUclm0yS_nT"
      },
      "outputs": [],
      "source": [
        "#import data\n",
        "df1 = pd.read_csv(\"loan_data_inputs_train.csv\", index_col = 0)\n",
        "df2 = pd.read_csv(\"loan_data_inputs_test.csv\", index_col = 0)\n",
        "loan_data_preprocessed  = pd.concat([df1,df2],axis=0) #'loan_data_2007_2014_preprocessed.csv')\n",
        "df1, df2 = [], [] #deleting the df s that use a large amount of ram source"
      ]
    },
    {
      "cell_type": "markdown",
      "metadata": {
        "id": "XrTAFCnJOmj1"
      },
      "source": [
        "## c Filtering defaulted account data"
      ]
    },
    {
      "cell_type": "code",
      "execution_count": 7,
      "metadata": {
        "id": "o7r3Xq1zOmj-"
      },
      "outputs": [],
      "source": [
        "# We only need the data on the accounts that were charged-off (written-off).\n",
        "loan_data_defaults = loan_data_preprocessed[loan_data_preprocessed['loan_status'].\\\n",
        "                                            isin(['Charged Off','Does not meet the credit policy. Status:Charged Off'])]"
      ]
    },
    {
      "cell_type": "code",
      "execution_count": 8,
      "metadata": {
        "colab": {
          "base_uri": "https://localhost:8080/"
        },
        "id": "f1Szy2OIOmkA",
        "outputId": "06aba8bb-7d6d-4837-d7e7-b754fadeaf9f",
        "scrolled": false
      },
      "outputs": [
        {
          "data": {
            "text/plain": [
              "(43236, 315)"
            ]
          },
          "execution_count": 8,
          "metadata": {},
          "output_type": "execute_result"
        }
      ],
      "source": [
        "loan_data_defaults.shape"
      ]
    },
    {
      "cell_type": "markdown",
      "metadata": {
        "id": "KI8PkpTGOmkE"
      },
      "source": [
        "##d Independent Variables"
      ]
    },
    {
      "cell_type": "code",
      "execution_count": 9,
      "metadata": {
        "colab": {
          "base_uri": "https://localhost:8080/"
        },
        "id": "cPrWm2gdOmkF",
        "outputId": "6cb43ca9-b922-4223-9763-4e594a9937dc",
        "scrolled": true
      },
      "outputs": [
        {
          "name": "stderr",
          "output_type": "stream",
          "text": [
            "/usr/local/lib/python3.8/dist-packages/pandas/core/generic.py:6392: SettingWithCopyWarning: \n",
            "A value is trying to be set on a copy of a slice from a DataFrame\n",
            "\n",
            "See the caveats in the documentation: https://pandas.pydata.org/pandas-docs/stable/user_guide/indexing.html#returning-a-view-versus-a-copy\n",
            "  return self._update_inplace(result)\n"
          ]
        }
      ],
      "source": [
        "# Let's fill missing values with zeroes.\n",
        "loan_data_defaults['mths_since_last_delinq'].fillna(0, inplace = True)"
      ]
    },
    {
      "cell_type": "code",
      "execution_count": 10,
      "metadata": {
        "id": "yZ4VMa_uOmkG"
      },
      "outputs": [],
      "source": [
        "# Let's fill the missing values with zeroes.\n",
        "loan_data_defaults['mths_since_last_record'].fillna(0, inplace=True)"
      ]
    },
    {
      "cell_type": "markdown",
      "metadata": {
        "id": "q9hdYdMwRuOJ"
      },
      "source": [
        "## e Dependent Variables"
      ]
    },
    {
      "cell_type": "markdown",
      "metadata": {
        "id": "LEMJzsXFhiwl"
      },
      "source": [
        "### i- Recovery rate"
      ]
    },
    {
      "cell_type": "code",
      "execution_count": 11,
      "metadata": {
        "colab": {
          "base_uri": "https://localhost:8080/"
        },
        "id": "ew9njkbVRuOK",
        "outputId": "513fea4f-f558-488c-9ce6-b974175f32be",
        "scrolled": true
      },
      "outputs": [
        {
          "name": "stderr",
          "output_type": "stream",
          "text": [
            "<ipython-input-11-474190805694>:3: SettingWithCopyWarning: \n",
            "A value is trying to be set on a copy of a slice from a DataFrame.\n",
            "Try using .loc[row_indexer,col_indexer] = value instead\n",
            "\n",
            "See the caveats in the documentation: https://pandas.pydata.org/pandas-docs/stable/user_guide/indexing.html#returning-a-view-versus-a-copy\n",
            "  loan_data_defaults['recovery_rate'] = loan_data_defaults['recoveries'] / loan_data_defaults['funded_amnt']\n"
          ]
        }
      ],
      "source": [
        "# For the LGD model, We need to calculate the dependent variable recovery rate.\n",
        "# It is the ratio of recoveries and funded amount.\n",
        "loan_data_defaults['recovery_rate'] = loan_data_defaults['recoveries'] / loan_data_defaults['funded_amnt']"
      ]
    },
    {
      "cell_type": "code",
      "execution_count": 12,
      "metadata": {
        "colab": {
          "base_uri": "https://localhost:8080/"
        },
        "id": "yK1LTEHsRuOM",
        "outputId": "4bbfd577-0c1c-472c-f79e-78d45fda9ac6"
      },
      "outputs": [
        {
          "data": {
            "text/plain": [
              "count    43236.000000\n",
              "mean         0.060820\n",
              "std          0.089770\n",
              "min          0.000000\n",
              "25%          0.000000\n",
              "50%          0.029466\n",
              "75%          0.114044\n",
              "max          1.220774\n",
              "Name: recovery_rate, dtype: float64"
            ]
          },
          "execution_count": 12,
          "metadata": {},
          "output_type": "execute_result"
        }
      ],
      "source": [
        "# Let's check out some descriptive statisics for the values of a column.\n",
        "loan_data_defaults['recovery_rate'].describe()"
      ]
    },
    {
      "cell_type": "code",
      "execution_count": 13,
      "metadata": {
        "colab": {
          "base_uri": "https://localhost:8080/"
        },
        "id": "YwOuB4fyRuOQ",
        "outputId": "f5408a72-22c4-4b6e-c296-af1559165cec"
      },
      "outputs": [
        {
          "name": "stderr",
          "output_type": "stream",
          "text": [
            "<ipython-input-13-48e53ac265c0>:3: SettingWithCopyWarning: \n",
            "A value is trying to be set on a copy of a slice from a DataFrame.\n",
            "Try using .loc[row_indexer,col_indexer] = value instead\n",
            "\n",
            "See the caveats in the documentation: https://pandas.pydata.org/pandas-docs/stable/user_guide/indexing.html#returning-a-view-versus-a-copy\n",
            "  loan_data_defaults['recovery_rate'] = np.where(loan_data_defaults['recovery_rate'] > 1, 1, loan_data_defaults['recovery_rate'])\n",
            "<ipython-input-13-48e53ac265c0>:5: SettingWithCopyWarning: \n",
            "A value is trying to be set on a copy of a slice from a DataFrame.\n",
            "Try using .loc[row_indexer,col_indexer] = value instead\n",
            "\n",
            "See the caveats in the documentation: https://pandas.pydata.org/pandas-docs/stable/user_guide/indexing.html#returning-a-view-versus-a-copy\n",
            "  loan_data_defaults['recovery_rate'] = np.where(loan_data_defaults['recovery_rate'] < 0, 0, loan_data_defaults['recovery_rate'])\n"
          ]
        }
      ],
      "source": [
        "# We have some recovery rate data > 1.0.\n",
        "# We need to set recovery rates that are greater than 1 to 1 \n",
        "loan_data_defaults['recovery_rate'] = np.where(loan_data_defaults['recovery_rate'] > 1, 1, loan_data_defaults['recovery_rate'])\n",
        "# We need to set recovery rates that are less than 0 to 0. (this part is kept for a future dataset)\n",
        "loan_data_defaults['recovery_rate'] = np.where(loan_data_defaults['recovery_rate'] < 0, 0, loan_data_defaults['recovery_rate'])\n"
      ]
    },
    {
      "cell_type": "code",
      "execution_count": 14,
      "metadata": {
        "colab": {
          "base_uri": "https://localhost:8080/"
        },
        "id": "DOKEPqT7RuOU",
        "outputId": "2748cae2-2724-4bcd-bcf9-0821ce677920"
      },
      "outputs": [
        {
          "data": {
            "text/plain": [
              "count    43236.000000\n",
              "mean         0.060770\n",
              "std          0.089202\n",
              "min          0.000000\n",
              "25%          0.000000\n",
              "50%          0.029466\n",
              "75%          0.114044\n",
              "max          1.000000\n",
              "Name: recovery_rate, dtype: float64"
            ]
          },
          "execution_count": 14,
          "metadata": {},
          "output_type": "execute_result"
        }
      ],
      "source": [
        "#let's check if all is good after data cleaning\n",
        "loan_data_defaults['recovery_rate'].describe()"
      ]
    },
    {
      "cell_type": "markdown",
      "metadata": {
        "id": "MIOrzOYRheSr"
      },
      "source": [
        "### ii- CCF"
      ]
    },
    {
      "cell_type": "code",
      "execution_count": 15,
      "metadata": {
        "colab": {
          "base_uri": "https://localhost:8080/"
        },
        "id": "ye_dyYmLRuOW",
        "outputId": "84d4a8f5-8f14-4201-a225-cf400cae6c5f"
      },
      "outputs": [
        {
          "name": "stderr",
          "output_type": "stream",
          "text": [
            "<ipython-input-15-d3c02e470742>:3: SettingWithCopyWarning: \n",
            "A value is trying to be set on a copy of a slice from a DataFrame.\n",
            "Try using .loc[row_indexer,col_indexer] = value instead\n",
            "\n",
            "See the caveats in the documentation: https://pandas.pydata.org/pandas-docs/stable/user_guide/indexing.html#returning-a-view-versus-a-copy\n",
            "  loan_data_defaults['CCF'] = (loan_data_defaults['funded_amnt'] - \\\n"
          ]
        }
      ],
      "source": [
        "# let's calculate the dependent variable for the EAD model: credit conversion factor.\n",
        "# It is the ratio of the difference of the amount used at the moment of default to the total funded amount.\n",
        "loan_data_defaults['CCF'] = (loan_data_defaults['funded_amnt'] - \\\n",
        "                             loan_data_defaults['total_rec_prncp']) / loan_data_defaults['funded_amnt']\n"
      ]
    },
    {
      "cell_type": "code",
      "execution_count": 16,
      "metadata": {
        "colab": {
          "base_uri": "https://localhost:8080/"
        },
        "id": "FutqPuU0RuOX",
        "outputId": "e15f7768-366c-46e9-c794-71b0dd702e21"
      },
      "outputs": [
        {
          "data": {
            "text/plain": [
              "count    43236.000000\n",
              "mean         0.735952\n",
              "std          0.200742\n",
              "min          0.000438\n",
              "25%          0.632088\n",
              "50%          0.789908\n",
              "75%          0.888543\n",
              "max          1.000000\n",
              "Name: CCF, dtype: float64"
            ]
          },
          "execution_count": 16,
          "metadata": {},
          "output_type": "execute_result"
        }
      ],
      "source": [
        "loan_data_defaults['CCF'].describe()\n",
        "# Shows some descriptive statisics for the values of a column."
      ]
    },
    {
      "cell_type": "code",
      "execution_count": 16,
      "metadata": {
        "id": "BCFx-5qRjSll"
      },
      "outputs": [],
      "source": []
    },
    {
      "cell_type": "code",
      "execution_count": 17,
      "metadata": {
        "colab": {
          "base_uri": "https://localhost:8080/",
          "height": 772
        },
        "id": "Fw18inl1UM9_",
        "outputId": "e5fd09df-6d01-4365-f922-e366d6abaf57"
      },
      "outputs": [
        {
          "data": {
            "text/plain": [
              "(array([  10.,   21.,   49.,   21.,   51.,   54.,   21.,  103.,   30.,\n",
              "          93.,   73.,   62.,   96.,   63.,  135.,   99.,  116.,  145.,\n",
              "         125.,  162.,  140.,  178.,  162.,  178.,  213.,  194.,  228.,\n",
              "         209.,  258.,  248.,  275.,  263.,  295.,  326.,  372.,  312.,\n",
              "         409.,  367.,  382.,  420.,  454.,  475.,  528.,  525.,  515.,\n",
              "         573.,  554.,  655.,  636.,  718.,  742.,  861.,  809.,  965.,\n",
              "         873., 1105., 1033., 1182., 1130., 1270., 1317., 1360., 1477.,\n",
              "        1327., 1715., 1457., 1803., 1463., 1874., 1520., 1393., 1568.,\n",
              "         750.,  999.,  652.]),\n",
              " array([4.38000000e-04, 1.37654933e-02, 2.70929867e-02, 4.04204800e-02,\n",
              "        5.37479733e-02, 6.70754667e-02, 8.04029600e-02, 9.37304533e-02,\n",
              "        1.07057947e-01, 1.20385440e-01, 1.33712933e-01, 1.47040427e-01,\n",
              "        1.60367920e-01, 1.73695413e-01, 1.87022907e-01, 2.00350400e-01,\n",
              "        2.13677893e-01, 2.27005387e-01, 2.40332880e-01, 2.53660373e-01,\n",
              "        2.66987867e-01, 2.80315360e-01, 2.93642853e-01, 3.06970347e-01,\n",
              "        3.20297840e-01, 3.33625333e-01, 3.46952827e-01, 3.60280320e-01,\n",
              "        3.73607813e-01, 3.86935307e-01, 4.00262800e-01, 4.13590293e-01,\n",
              "        4.26917787e-01, 4.40245280e-01, 4.53572773e-01, 4.66900267e-01,\n",
              "        4.80227760e-01, 4.93555253e-01, 5.06882747e-01, 5.20210240e-01,\n",
              "        5.33537733e-01, 5.46865227e-01, 5.60192720e-01, 5.73520213e-01,\n",
              "        5.86847707e-01, 6.00175200e-01, 6.13502693e-01, 6.26830187e-01,\n",
              "        6.40157680e-01, 6.53485173e-01, 6.66812667e-01, 6.80140160e-01,\n",
              "        6.93467653e-01, 7.06795147e-01, 7.20122640e-01, 7.33450133e-01,\n",
              "        7.46777627e-01, 7.60105120e-01, 7.73432613e-01, 7.86760107e-01,\n",
              "        8.00087600e-01, 8.13415093e-01, 8.26742587e-01, 8.40070080e-01,\n",
              "        8.53397573e-01, 8.66725067e-01, 8.80052560e-01, 8.93380053e-01,\n",
              "        9.06707547e-01, 9.20035040e-01, 9.33362533e-01, 9.46690027e-01,\n",
              "        9.60017520e-01, 9.73345013e-01, 9.86672507e-01, 1.00000000e+00]),\n",
              " <a list of 75 Patch objects>)"
            ]
          },
          "execution_count": 17,
          "metadata": {},
          "output_type": "execute_result"
        },
        {
          "data": {
            "image/png": "[encoded data removed]",
            "text/plain": [
              "<Figure size 432x288 with 1 Axes>"
            ]
          },
          "metadata": {},
          "output_type": "display_data"
        }
      ],
      "source": [
        "# Plotting a histogram of CCF\n",
        "plt.hist(loan_data_defaults['CCF'], bins = 75)"
      ]
    },
    {
      "cell_type": "code",
      "execution_count": 18,
      "metadata": {
        "colab": {
          "base_uri": "https://localhost:8080/"
        },
        "id": "R0VTnrgnjUaV",
        "outputId": "1bc2aa98-a615-4f20-c6bc-ba3beb91013f"
      },
      "outputs": [
        {
          "name": "stderr",
          "output_type": "stream",
          "text": [
            "<ipython-input-18-c5132e951376>:2: SettingWithCopyWarning: \n",
            "A value is trying to be set on a copy of a slice from a DataFrame.\n",
            "Try using .loc[row_indexer,col_indexer] = value instead\n",
            "\n",
            "See the caveats in the documentation: https://pandas.pydata.org/pandas-docs/stable/user_guide/indexing.html#returning-a-view-versus-a-copy\n",
            "  loan_data_defaults['recovery_rate_0_1'] = np.where(loan_data_defaults['recovery_rate'] == 0, 0, 1)\n"
          ]
        }
      ],
      "source": [
        "# Creating a new variable showing 0 for recovery rate being 0 and 1 otherwise.\n",
        "loan_data_defaults['recovery_rate_0_1'] = np.where(loan_data_defaults['recovery_rate'] == 0, 0, 1)"
      ]
    },
    {
      "cell_type": "markdown",
      "metadata": {
        "id": "NN3AJ7ZjUM99"
      },
      "source": [
        "## f Exporting data"
      ]
    },
    {
      "cell_type": "code",
      "execution_count": 19,
      "metadata": {
        "id": "vKe7ycwUUM-A"
      },
      "outputs": [],
      "source": [
        "#saving the data in a csv file\n",
        "loan_data_defaults.to_csv('../data/loan_data_defaults.csv')"
      ]
    },
    {
      "cell_type": "markdown",
      "metadata": {
        "id": "2vV9wtKscC90"
      },
      "source": [
        "#2 LGD Model\n",
        "\n",
        "LGD is the amount outstanding we expect to lose. It is a proportion of the total exposure when borrower defaults. It is a percentage of total exposure at the time of default or a single dollar value of potential loss. It is calculated by (1 - Recovery Rate). \n",
        "\n",
        "The model will be created in two steps:\n",
        "*  Step 1- recovery rate is equal to/greater than 0\n",
        "\n",
        "*  Step 2- recovery rate is equal to/greater than 1"
      ]
    },
    {
      "cell_type": "markdown",
      "metadata": {
        "id": "rfLYqp1LcC91"
      },
      "source": [
        "### a Step 1 --- Logistic Regression"
      ]
    },
    {
      "cell_type": "code",
      "execution_count": 20,
      "metadata": {
        "id": "OeBuYCbey5uX"
      },
      "outputs": [],
      "source": [
        "# LGD model step 1 datasets: recovery rate 0 or greater than 0.\n",
        "# Considering a set of inputs [all cols except recovery rate and CCF] and outputs[recovery_rate_0_1]. Splits the inputs and the targets into four dataframes:\n",
        "# Inputs - Train n Test, Targets - Train n Test\n",
        "lgd_X_S1 = loan_data_defaults.drop([ 'recovery_rate','recovery_rate_0_1', 'CCF'], axis = 1)\n",
        "lgs_Y_S1 = loan_data_defaults['recovery_rate_0_1']\n",
        "\n",
        "lgd_X_S1_train, lgd_X_S1_test, lgd_Y_S1_train, lgd_Y_S1_test = train_test_split(lgd_X_S1, lgs_Y_S1, test_size = 0.2, random_state = 42)"
      ]
    },
    {
      "cell_type": "code",
      "execution_count": 21,
      "metadata": {
        "id": "60ouR-X-cC92"
      },
      "outputs": [],
      "source": [
        "# List of all X variables for the models.\n",
        "features_all = ['grade:A',\n",
        "'grade:B',\n",
        "'grade:C',\n",
        "'grade:D',\n",
        "'grade:E',\n",
        "'grade:F',\n",
        "'grade:G',\n",
        "'home_ownership:MORTGAGE',\n",
        "'home_ownership:NONE',\n",
        "'home_ownership:OTHER',\n",
        "'home_ownership:OWN',\n",
        "'home_ownership:RENT',\n",
        "'verification_status:Not Verified',\n",
        "'verification_status:Source Verified',\n",
        "'verification_status:Verified',\n",
        "'purpose:car',\n",
        "'purpose:credit_card',\n",
        "'purpose:debt_consolidation',\n",
        "'purpose:educational',\n",
        "'purpose:home_improvement',\n",
        "'purpose:house',\n",
        "'purpose:major_purchase',\n",
        "'purpose:medical',\n",
        "'purpose:moving',\n",
        "'purpose:other',\n",
        "'purpose:renewable_energy',\n",
        "'purpose:small_business',\n",
        "'purpose:vacation',\n",
        "'purpose:wedding',\n",
        "'initial_list_status:f',\n",
        "'initial_list_status:w',\n",
        "'term_int',\n",
        "'emp_length_int',\n",
        "'mths_since_issue_d',\n",
        "'mths_since_earliest_cr_line',\n",
        "'funded_amnt',\n",
        "'int_rate',\n",
        "'installment',\n",
        "'annual_inc',\n",
        "'dti',\n",
        "'delinq_2yrs',\n",
        "'inq_last_6mths',\n",
        "'mths_since_last_delinq',\n",
        "'mths_since_last_record',\n",
        "'open_acc',\n",
        "'pub_rec',\n",
        "'total_acc',\n",
        "'acc_now_delinq',\n",
        "'total_rev_hi_lim']"
      ]
    },
    {
      "cell_type": "code",
      "execution_count": 22,
      "metadata": {
        "id": "awo_k4xpcC93"
      },
      "outputs": [],
      "source": [
        "# List of the dummy X variables, avoiding dummy trick reference categories. \n",
        "features_reference_cat = ['grade:G',\n",
        "'home_ownership:RENT',\n",
        "'verification_status:Verified',\n",
        "'purpose:credit_card',\n",
        "'initial_list_status:f']\n"
      ]
    },
    {
      "cell_type": "code",
      "execution_count": 23,
      "metadata": {
        "id": "GDPIid8ZcC93"
      },
      "outputs": [],
      "source": [
        "# Here we keep only the variables we need for the model.\n",
        "lgd_X_S1_train = lgd_X_S1_train[features_all]\n",
        "# Here we remove the dummy variable reference categories.\n",
        "lgd_X_S1_train = lgd_X_S1_train.drop(features_reference_cat, axis = 1)\n"
      ]
    },
    {
      "cell_type": "code",
      "execution_count": 24,
      "metadata": {
        "colab": {
          "base_uri": "https://localhost:8080/"
        },
        "id": "IrUqnGy7cC94",
        "outputId": "8fb17d5e-9690-4c34-ecd7-94c2ecbf2585"
      },
      "outputs": [
        {
          "data": {
            "text/plain": [
              "grade:A                                0\n",
              "grade:B                                0\n",
              "grade:C                                0\n",
              "grade:D                                0\n",
              "grade:E                                0\n",
              "grade:F                                0\n",
              "home_ownership:MORTGAGE                0\n",
              "home_ownership:NONE                    0\n",
              "home_ownership:OTHER                   0\n",
              "home_ownership:OWN                     0\n",
              "verification_status:Not Verified       0\n",
              "verification_status:Source Verified    0\n",
              "purpose:car                            0\n",
              "purpose:debt_consolidation             0\n",
              "purpose:educational                    0\n",
              "purpose:home_improvement               0\n",
              "purpose:house                          0\n",
              "purpose:major_purchase                 0\n",
              "purpose:medical                        0\n",
              "purpose:moving                         0\n",
              "purpose:other                          0\n",
              "purpose:renewable_energy               0\n",
              "purpose:small_business                 0\n",
              "purpose:vacation                       0\n",
              "purpose:wedding                        0\n",
              "initial_list_status:w                  0\n",
              "term_int                               0\n",
              "emp_length_int                         0\n",
              "mths_since_issue_d                     0\n",
              "mths_since_earliest_cr_line            0\n",
              "funded_amnt                            0\n",
              "int_rate                               0\n",
              "installment                            0\n",
              "annual_inc                             0\n",
              "dti                                    0\n",
              "delinq_2yrs                            0\n",
              "inq_last_6mths                         0\n",
              "mths_since_last_delinq                 0\n",
              "mths_since_last_record                 0\n",
              "open_acc                               0\n",
              "pub_rec                                0\n",
              "total_acc                              0\n",
              "acc_now_delinq                         0\n",
              "total_rev_hi_lim                       0\n",
              "dtype: int64"
            ]
          },
          "execution_count": 24,
          "metadata": {},
          "output_type": "execute_result"
        }
      ],
      "source": [
        "lgd_X_S1_train.isnull().sum()\n",
        "# Check for missing values. We check whether the value of each row for each column is missing or not,\n",
        "# then sum accross columns."
      ]
    },
    {
      "cell_type": "code",
      "execution_count": 26,
      "metadata": {
        "colab": {
          "base_uri": "https://localhost:8080/"
        },
        "id": "TJk21b85cC95",
        "outputId": "dd593ddf-8b03-46ff-d087-d908f0337e98"
      },
      "outputs": [
        {
          "name": "stderr",
          "output_type": "stream",
          "text": [
            "/usr/local/lib/python3.8/dist-packages/sklearn/linear_model/_logistic.py:814: ConvergenceWarning: lbfgs failed to converge (status=1):\n",
            "STOP: TOTAL NO. of ITERATIONS REACHED LIMIT.\n",
            "\n",
            "Increase the number of iterations (max_iter) or scale the data as shown in:\n",
            "    https://scikit-learn.org/stable/modules/preprocessing.html\n",
            "Please also refer to the documentation for alternative solver options:\n",
            "    https://scikit-learn.org/stable/modules/linear_model.html#logistic-regression\n",
            "  n_iter_i = _check_optimize_result(\n"
          ]
        }
      ],
      "source": [
        "# We create an instance of an object from the 'LogisticRegression' class.\n",
        "reg_lgd_st_1 = LogisticRegression_with_p_values()\n",
        "\n",
        "# Estimating the coefficients of the object from the 'LogisticRegression' class\n",
        "# with X (independent variables) from the first dataframe\n",
        "# and Y (dependent variables) from the second dataframe.\n",
        "reg_lgd_st_1.fit(lgd_X_S1_train, lgd_Y_S1_train)\n"
      ]
    },
    {
      "cell_type": "code",
      "execution_count": 27,
      "metadata": {
        "id": "MetBXSJFcC96"
      },
      "outputs": [],
      "source": [
        "\n",
        "# Stores the names of the columns of a dataframe in a variable.\n",
        "feature_name = lgd_X_S1_train.columns.values"
      ]
    },
    {
      "cell_type": "code",
      "execution_count": 28,
      "metadata": {
        "colab": {
          "base_uri": "https://localhost:8080/",
          "height": 1000
        },
        "id": "9L1ar_RHcC96",
        "outputId": "c2b94768-09e1-491a-ba26-e8abd7487599"
      },
      "outputs": [
        {
          "data": {
            "text/html": [
              "\n",
              "  <div id=\"df-8c07a6e8-7e08-4c52-a24b-9d7622320b74\">\n",
              "    <div class=\"colab-df-container\">\n",
              "      <div>\n",
              "<style scoped>\n",
              "    .dataframe tbody tr th:only-of-type {\n",
              "        vertical-align: middle;\n",
              "    }\n",
              "\n",
              "    .dataframe tbody tr th {\n",
              "        vertical-align: top;\n",
              "    }\n",
              "\n",
              "    .dataframe thead th {\n",
              "        text-align: right;\n",
              "    }\n",
              "</style>\n",
              "<table border=\"1\" class=\"dataframe\">\n",
              "  <thead>\n",
              "    <tr style=\"text-align: right;\">\n",
              "      <th></th>\n",
              "      <th>Feature name</th>\n",
              "      <th>Coefficients</th>\n",
              "      <th>p_values</th>\n",
              "    </tr>\n",
              "  </thead>\n",
              "  <tbody>\n",
              "    <tr>\n",
              "      <th>0</th>\n",
              "      <td>Intercept</td>\n",
              "      <td>-8.109924e-05</td>\n",
              "      <td>NaN</td>\n",
              "    </tr>\n",
              "    <tr>\n",
              "      <th>1</th>\n",
              "      <td>grade:A</td>\n",
              "      <td>-1.784447e-05</td>\n",
              "      <td>9.998330e-01</td>\n",
              "    </tr>\n",
              "    <tr>\n",
              "      <th>2</th>\n",
              "      <td>grade:B</td>\n",
              "      <td>-6.594759e-05</td>\n",
              "      <td>9.992320e-01</td>\n",
              "    </tr>\n",
              "    <tr>\n",
              "      <th>3</th>\n",
              "      <td>grade:C</td>\n",
              "      <td>-1.249210e-04</td>\n",
              "      <td>9.984856e-01</td>\n",
              "    </tr>\n",
              "    <tr>\n",
              "      <th>4</th>\n",
              "      <td>grade:D</td>\n",
              "      <td>1.168450e-05</td>\n",
              "      <td>9.998636e-01</td>\n",
              "    </tr>\n",
              "    <tr>\n",
              "      <th>5</th>\n",
              "      <td>grade:E</td>\n",
              "      <td>3.166267e-05</td>\n",
              "      <td>9.996646e-01</td>\n",
              "    </tr>\n",
              "    <tr>\n",
              "      <th>6</th>\n",
              "      <td>grade:F</td>\n",
              "      <td>7.347620e-05</td>\n",
              "      <td>9.993251e-01</td>\n",
              "    </tr>\n",
              "    <tr>\n",
              "      <th>7</th>\n",
              "      <td>home_ownership:MORTGAGE</td>\n",
              "      <td>-4.543531e-05</td>\n",
              "      <td>9.985820e-01</td>\n",
              "    </tr>\n",
              "    <tr>\n",
              "      <th>8</th>\n",
              "      <td>home_ownership:NONE</td>\n",
              "      <td>1.285601e-06</td>\n",
              "      <td>9.999989e-01</td>\n",
              "    </tr>\n",
              "    <tr>\n",
              "      <th>9</th>\n",
              "      <td>home_ownership:OTHER</td>\n",
              "      <td>1.147944e-06</td>\n",
              "      <td>9.999979e-01</td>\n",
              "    </tr>\n",
              "    <tr>\n",
              "      <th>10</th>\n",
              "      <td>home_ownership:OWN</td>\n",
              "      <td>1.143895e-05</td>\n",
              "      <td>9.997811e-01</td>\n",
              "    </tr>\n",
              "    <tr>\n",
              "      <th>11</th>\n",
              "      <td>verification_status:Not Verified</td>\n",
              "      <td>-3.949165e-05</td>\n",
              "      <td>9.989618e-01</td>\n",
              "    </tr>\n",
              "    <tr>\n",
              "      <th>12</th>\n",
              "      <td>verification_status:Source Verified</td>\n",
              "      <td>-2.261045e-04</td>\n",
              "      <td>9.934057e-01</td>\n",
              "    </tr>\n",
              "    <tr>\n",
              "      <th>13</th>\n",
              "      <td>purpose:car</td>\n",
              "      <td>1.399747e-05</td>\n",
              "      <td>9.999068e-01</td>\n",
              "    </tr>\n",
              "    <tr>\n",
              "      <th>14</th>\n",
              "      <td>purpose:debt_consolidation</td>\n",
              "      <td>-1.729238e-04</td>\n",
              "      <td>9.955012e-01</td>\n",
              "    </tr>\n",
              "    <tr>\n",
              "      <th>15</th>\n",
              "      <td>purpose:educational</td>\n",
              "      <td>1.996061e-06</td>\n",
              "      <td>9.999949e-01</td>\n",
              "    </tr>\n",
              "    <tr>\n",
              "      <th>16</th>\n",
              "      <td>purpose:home_improvement</td>\n",
              "      <td>2.000410e-05</td>\n",
              "      <td>9.997251e-01</td>\n",
              "    </tr>\n",
              "    <tr>\n",
              "      <th>17</th>\n",
              "      <td>purpose:house</td>\n",
              "      <td>1.286105e-05</td>\n",
              "      <td>9.999295e-01</td>\n",
              "    </tr>\n",
              "    <tr>\n",
              "      <th>18</th>\n",
              "      <td>purpose:major_purchase</td>\n",
              "      <td>1.941164e-05</td>\n",
              "      <td>9.998247e-01</td>\n",
              "    </tr>\n",
              "    <tr>\n",
              "      <th>19</th>\n",
              "      <td>purpose:medical</td>\n",
              "      <td>4.271035e-06</td>\n",
              "      <td>9.999680e-01</td>\n",
              "    </tr>\n",
              "    <tr>\n",
              "      <th>20</th>\n",
              "      <td>purpose:moving</td>\n",
              "      <td>5.749152e-06</td>\n",
              "      <td>9.999626e-01</td>\n",
              "    </tr>\n",
              "    <tr>\n",
              "      <th>21</th>\n",
              "      <td>purpose:other</td>\n",
              "      <td>4.503753e-05</td>\n",
              "      <td>9.993256e-01</td>\n",
              "    </tr>\n",
              "    <tr>\n",
              "      <th>22</th>\n",
              "      <td>purpose:renewable_energy</td>\n",
              "      <td>2.738920e-06</td>\n",
              "      <td>9.999935e-01</td>\n",
              "    </tr>\n",
              "    <tr>\n",
              "      <th>23</th>\n",
              "      <td>purpose:small_business</td>\n",
              "      <td>7.253496e-05</td>\n",
              "      <td>9.991924e-01</td>\n",
              "    </tr>\n",
              "    <tr>\n",
              "      <th>24</th>\n",
              "      <td>purpose:vacation</td>\n",
              "      <td>4.086752e-06</td>\n",
              "      <td>9.999777e-01</td>\n",
              "    </tr>\n",
              "    <tr>\n",
              "      <th>25</th>\n",
              "      <td>purpose:wedding</td>\n",
              "      <td>1.108238e-05</td>\n",
              "      <td>9.999422e-01</td>\n",
              "    </tr>\n",
              "    <tr>\n",
              "      <th>26</th>\n",
              "      <td>initial_list_status:w</td>\n",
              "      <td>-9.448612e-04</td>\n",
              "      <td>9.721610e-01</td>\n",
              "    </tr>\n",
              "    <tr>\n",
              "      <th>27</th>\n",
              "      <td>term_int</td>\n",
              "      <td>-1.307557e-03</td>\n",
              "      <td>6.051704e-01</td>\n",
              "    </tr>\n",
              "    <tr>\n",
              "      <th>28</th>\n",
              "      <td>emp_length_int</td>\n",
              "      <td>-4.999726e-04</td>\n",
              "      <td>8.711508e-01</td>\n",
              "    </tr>\n",
              "    <tr>\n",
              "      <th>29</th>\n",
              "      <td>mths_since_issue_d</td>\n",
              "      <td>2.288494e-02</td>\n",
              "      <td>4.840886e-143</td>\n",
              "    </tr>\n",
              "    <tr>\n",
              "      <th>30</th>\n",
              "      <td>mths_since_earliest_cr_line</td>\n",
              "      <td>-2.741475e-03</td>\n",
              "      <td>4.730149e-76</td>\n",
              "    </tr>\n",
              "    <tr>\n",
              "      <th>31</th>\n",
              "      <td>funded_amnt</td>\n",
              "      <td>8.117447e-06</td>\n",
              "      <td>4.194118e-01</td>\n",
              "    </tr>\n",
              "    <tr>\n",
              "      <th>32</th>\n",
              "      <td>int_rate</td>\n",
              "      <td>6.395607e-04</td>\n",
              "      <td>9.133966e-01</td>\n",
              "    </tr>\n",
              "    <tr>\n",
              "      <th>33</th>\n",
              "      <td>installment</td>\n",
              "      <td>3.086566e-05</td>\n",
              "      <td>9.214176e-01</td>\n",
              "    </tr>\n",
              "    <tr>\n",
              "      <th>34</th>\n",
              "      <td>annual_inc</td>\n",
              "      <td>5.243418e-07</td>\n",
              "      <td>1.328536e-01</td>\n",
              "    </tr>\n",
              "    <tr>\n",
              "      <th>35</th>\n",
              "      <td>dti</td>\n",
              "      <td>-6.079228e-03</td>\n",
              "      <td>2.056364e-04</td>\n",
              "    </tr>\n",
              "    <tr>\n",
              "      <th>36</th>\n",
              "      <td>delinq_2yrs</td>\n",
              "      <td>-7.781250e-05</td>\n",
              "      <td>9.957942e-01</td>\n",
              "    </tr>\n",
              "    <tr>\n",
              "      <th>37</th>\n",
              "      <td>inq_last_6mths</td>\n",
              "      <td>2.692315e-04</td>\n",
              "      <td>9.775483e-01</td>\n",
              "    </tr>\n",
              "    <tr>\n",
              "      <th>38</th>\n",
              "      <td>mths_since_last_delinq</td>\n",
              "      <td>-1.515987e-03</td>\n",
              "      <td>3.042724e-03</td>\n",
              "    </tr>\n",
              "    <tr>\n",
              "      <th>39</th>\n",
              "      <td>mths_since_last_record</td>\n",
              "      <td>-5.578967e-03</td>\n",
              "      <td>1.019509e-18</td>\n",
              "    </tr>\n",
              "    <tr>\n",
              "      <th>40</th>\n",
              "      <td>open_acc</td>\n",
              "      <td>-2.303002e-03</td>\n",
              "      <td>4.860621e-01</td>\n",
              "    </tr>\n",
              "    <tr>\n",
              "      <th>41</th>\n",
              "      <td>pub_rec</td>\n",
              "      <td>-9.283699e-05</td>\n",
              "      <td>9.982024e-01</td>\n",
              "    </tr>\n",
              "    <tr>\n",
              "      <th>42</th>\n",
              "      <td>total_acc</td>\n",
              "      <td>-6.165517e-03</td>\n",
              "      <td>2.501708e-05</td>\n",
              "    </tr>\n",
              "    <tr>\n",
              "      <th>43</th>\n",
              "      <td>acc_now_delinq</td>\n",
              "      <td>3.546268e-06</td>\n",
              "      <td>9.999820e-01</td>\n",
              "    </tr>\n",
              "    <tr>\n",
              "      <th>44</th>\n",
              "      <td>total_rev_hi_lim</td>\n",
              "      <td>-3.047923e-06</td>\n",
              "      <td>8.089765e-06</td>\n",
              "    </tr>\n",
              "  </tbody>\n",
              "</table>\n",
              "</div>\n",
              "      <button class=\"colab-df-convert\" onclick=\"convertToInteractive('df-8c07a6e8-7e08-4c52-a24b-9d7622320b74')\"\n",
              "              title=\"Convert this dataframe to an interactive table.\"\n",
              "              style=\"display:none;\">\n",
              "        \n",
              "  <svg xmlns=\"http://www.w3.org/2000/svg\" height=\"24px\"viewBox=\"0 0 24 24\"\n",
              "       width=\"24px\">\n",
              "    <path d=\"M0 0h24v24H0V0z\" fill=\"none\"/>\n",
              "    <path d=\"M18.56 5.44l.94 2.06.94-2.06 2.06-.94-2.06-.94-.94-2.06-.94 2.06-2.06.94zm-11 1L8.5 8.5l.94-2.06 2.06-.94-2.06-.94L8.5 2.5l-.94 2.06-2.06.94zm10 10l.94 2.06.94-2.06 2.06-.94-2.06-.94-.94-2.06-.94 2.06-2.06.94z\"/><path d=\"M17.41 7.96l-1.37-1.37c-.4-.4-.92-.59-1.43-.59-.52 0-1.04.2-1.43.59L10.3 9.45l-7.72 7.72c-.78.78-.78 2.05 0 2.83L4 21.41c.39.39.9.59 1.41.59.51 0 1.02-.2 1.41-.59l7.78-7.78 2.81-2.81c.8-.78.8-2.07 0-2.86zM5.41 20L4 18.59l7.72-7.72 1.47 1.35L5.41 20z\"/>\n",
              "  </svg>\n",
              "      </button>\n",
              "      \n",
              "  <style>\n",
              "    .colab-df-container {\n",
              "      display:flex;\n",
              "      flex-wrap:wrap;\n",
              "      gap: 12px;\n",
              "    }\n",
              "\n",
              "    .colab-df-convert {\n",
              "      background-color: #E8F0FE;\n",
              "      border: none;\n",
              "      border-radius: 50%;\n",
              "      cursor: pointer;\n",
              "      display: none;\n",
              "      fill: #1967D2;\n",
              "      height: 32px;\n",
              "      padding: 0 0 0 0;\n",
              "      width: 32px;\n",
              "    }\n",
              "\n",
              "    .colab-df-convert:hover {\n",
              "      background-color: #E2EBFA;\n",
              "      box-shadow: 0px 1px 2px rgba(60, 64, 67, 0.3), 0px 1px 3px 1px rgba(60, 64, 67, 0.15);\n",
              "      fill: #174EA6;\n",
              "    }\n",
              "\n",
              "    [theme=dark] .colab-df-convert {\n",
              "      background-color: #3B4455;\n",
              "      fill: #D2E3FC;\n",
              "    }\n",
              "\n",
              "    [theme=dark] .colab-df-convert:hover {\n",
              "      background-color: #434B5C;\n",
              "      box-shadow: 0px 1px 3px 1px rgba(0, 0, 0, 0.15);\n",
              "      filter: drop-shadow(0px 1px 2px rgba(0, 0, 0, 0.3));\n",
              "      fill: #FFFFFF;\n",
              "    }\n",
              "  </style>\n",
              "\n",
              "      <script>\n",
              "        const buttonEl =\n",
              "          document.querySelector('#df-8c07a6e8-7e08-4c52-a24b-9d7622320b74 button.colab-df-convert');\n",
              "        buttonEl.style.display =\n",
              "          google.colab.kernel.accessAllowed ? 'block' : 'none';\n",
              "\n",
              "        async function convertToInteractive(key) {\n",
              "          const element = document.querySelector('#df-8c07a6e8-7e08-4c52-a24b-9d7622320b74');\n",
              "          const dataTable =\n",
              "            await google.colab.kernel.invokeFunction('convertToInteractive',\n",
              "                                                     [key], {});\n",
              "          if (!dataTable) return;\n",
              "\n",
              "          const docLinkHtml = 'Like what you see? Visit the ' +\n",
              "            '<a target=\"_blank\" href=https://colab.research.google.com/notebooks/data_table.ipynb>data table notebook</a>'\n",
              "            + ' to learn more about interactive tables.';\n",
              "          element.innerHTML = '';\n",
              "          dataTable['output_type'] = 'display_data';\n",
              "          await google.colab.output.renderOutput(dataTable, element);\n",
              "          const docLink = document.createElement('div');\n",
              "          docLink.innerHTML = docLinkHtml;\n",
              "          element.appendChild(docLink);\n",
              "        }\n",
              "      </script>\n",
              "    </div>\n",
              "  </div>\n",
              "  "
            ],
            "text/plain": [
              "                           Feature name  Coefficients       p_values\n",
              "0                             Intercept -8.109924e-05            NaN\n",
              "1                               grade:A -1.784447e-05   9.998330e-01\n",
              "2                               grade:B -6.594759e-05   9.992320e-01\n",
              "3                               grade:C -1.249210e-04   9.984856e-01\n",
              "4                               grade:D  1.168450e-05   9.998636e-01\n",
              "5                               grade:E  3.166267e-05   9.996646e-01\n",
              "6                               grade:F  7.347620e-05   9.993251e-01\n",
              "7               home_ownership:MORTGAGE -4.543531e-05   9.985820e-01\n",
              "8                   home_ownership:NONE  1.285601e-06   9.999989e-01\n",
              "9                  home_ownership:OTHER  1.147944e-06   9.999979e-01\n",
              "10                   home_ownership:OWN  1.143895e-05   9.997811e-01\n",
              "11     verification_status:Not Verified -3.949165e-05   9.989618e-01\n",
              "12  verification_status:Source Verified -2.261045e-04   9.934057e-01\n",
              "13                          purpose:car  1.399747e-05   9.999068e-01\n",
              "14           purpose:debt_consolidation -1.729238e-04   9.955012e-01\n",
              "15                  purpose:educational  1.996061e-06   9.999949e-01\n",
              "16             purpose:home_improvement  2.000410e-05   9.997251e-01\n",
              "17                        purpose:house  1.286105e-05   9.999295e-01\n",
              "18               purpose:major_purchase  1.941164e-05   9.998247e-01\n",
              "19                      purpose:medical  4.271035e-06   9.999680e-01\n",
              "20                       purpose:moving  5.749152e-06   9.999626e-01\n",
              "21                        purpose:other  4.503753e-05   9.993256e-01\n",
              "22             purpose:renewable_energy  2.738920e-06   9.999935e-01\n",
              "23               purpose:small_business  7.253496e-05   9.991924e-01\n",
              "24                     purpose:vacation  4.086752e-06   9.999777e-01\n",
              "25                      purpose:wedding  1.108238e-05   9.999422e-01\n",
              "26                initial_list_status:w -9.448612e-04   9.721610e-01\n",
              "27                             term_int -1.307557e-03   6.051704e-01\n",
              "28                       emp_length_int -4.999726e-04   8.711508e-01\n",
              "29                   mths_since_issue_d  2.288494e-02  4.840886e-143\n",
              "30          mths_since_earliest_cr_line -2.741475e-03   4.730149e-76\n",
              "31                          funded_amnt  8.117447e-06   4.194118e-01\n",
              "32                             int_rate  6.395607e-04   9.133966e-01\n",
              "33                          installment  3.086566e-05   9.214176e-01\n",
              "34                           annual_inc  5.243418e-07   1.328536e-01\n",
              "35                                  dti -6.079228e-03   2.056364e-04\n",
              "36                          delinq_2yrs -7.781250e-05   9.957942e-01\n",
              "37                       inq_last_6mths  2.692315e-04   9.775483e-01\n",
              "38               mths_since_last_delinq -1.515987e-03   3.042724e-03\n",
              "39               mths_since_last_record -5.578967e-03   1.019509e-18\n",
              "40                             open_acc -2.303002e-03   4.860621e-01\n",
              "41                              pub_rec -9.283699e-05   9.982024e-01\n",
              "42                            total_acc -6.165517e-03   2.501708e-05\n",
              "43                       acc_now_delinq  3.546268e-06   9.999820e-01\n",
              "44                     total_rev_hi_lim -3.047923e-06   8.089765e-06"
            ]
          },
          "execution_count": 28,
          "metadata": {},
          "output_type": "execute_result"
        }
      ],
      "source": [
        "# Creating a df with a column 'Feature name' and values of the 'feature_name' variable.\n",
        "summary_table = pd.DataFrame(columns = ['Feature name'], data = feature_name)\n",
        "# Creates a new column called 'Coefficients',\n",
        "# with row values the transposed coefs from the 'LogisticRegression' object.\n",
        "summary_table['Coefficients'] = np.transpose(reg_lgd_st_1.coef_)\n",
        "# Increasing the index of every row of the df with 1.\n",
        "summary_table.index = summary_table.index + 1\n",
        "# Assigning values of the row with index 0 of the df.\n",
        "summary_table.loc[0] = ['Intercept', reg_lgd_st_1.intercept_[0]]\n",
        "# Sorts the df by index.\n",
        "summary_table = summary_table.sort_index()\n",
        "# We take the result of the newly added method 'p_values' and store it in a variable 'p_values'.\n",
        "p_values = reg_lgd_st_1.p_values\n",
        "# We add the value 'NaN' in the beginning of the variable with p-values.\n",
        "p_values = np.append(np.nan,np.array(p_values))\n",
        "# In the 'summary_table' df, we add a new column, called 'p_values', containing the values from the 'p_values' variable.\n",
        "summary_table['p_values'] = p_values\n",
        "\n",
        "summary_table"
      ]
    },
    {
      "cell_type": "markdown",
      "metadata": {
        "id": "_7whUcSqc60Y"
      },
      "source": [
        "### b Step 1 ---Testing the Model"
      ]
    },
    {
      "cell_type": "code",
      "execution_count": 29,
      "metadata": {
        "id": "W1zK3Pc-40gH"
      },
      "outputs": [],
      "source": [
        "# Here we keep only the variables [features_all] that we need for the model.\n",
        "lgd_X_S1_test = lgd_X_S1_test[features_all]\n",
        "# Then we remove the dummy variable reference categories.\n",
        "lgd_X_S1_test = lgd_X_S1_test.drop(features_reference_cat, axis = 1)"
      ]
    },
    {
      "cell_type": "code",
      "execution_count": 30,
      "metadata": {
        "id": "cwHILMm6c60Z"
      },
      "outputs": [],
      "source": [
        "# Calculating the predicted vals for the Y (targets) given X (inputs)\n",
        "y_hat_test_lgd_step_1 = reg_lgd_st_1.model.predict(lgd_X_S1_test)"
      ]
    },
    {
      "cell_type": "code",
      "execution_count": 31,
      "metadata": {
        "colab": {
          "base_uri": "https://localhost:8080/"
        },
        "id": "S6UWpWcfc60Z",
        "outputId": "bcf1f7b8-d653-4873-befe-66175a2b35d7"
      },
      "outputs": [
        {
          "data": {
            "text/plain": [
              "array([0, 1, 1, ..., 1, 1, 1])"
            ]
          },
          "execution_count": 31,
          "metadata": {},
          "output_type": "execute_result"
        }
      ],
      "source": [
        "y_hat_test_lgd_step_1"
      ]
    },
    {
      "cell_type": "code",
      "execution_count": 32,
      "metadata": {
        "id": "B9UjF8Zgc60a"
      },
      "outputs": [],
      "source": [
        "# Calculates the predicted probability for Y (targets) given X (inputs)\n",
        "y_hat_test_proba_lgd_step_1 = reg_lgd_st_1.model.predict_proba(lgd_X_S1_test)"
      ]
    },
    {
      "cell_type": "code",
      "execution_count": 33,
      "metadata": {
        "colab": {
          "base_uri": "https://localhost:8080/"
        },
        "id": "MMWtKgfTc60a",
        "outputId": "98f7aa66-ff46-4e51-863f-b7ba3407207d"
      },
      "outputs": [
        {
          "data": {
            "text/plain": [
              "array([[0.56074912, 0.43925088],\n",
              "       [0.40487422, 0.59512578],\n",
              "       [0.38201719, 0.61798281],\n",
              "       ...,\n",
              "       [0.43472837, 0.56527163],\n",
              "       [0.35297444, 0.64702556],\n",
              "       [0.37926079, 0.62073921]])"
            ]
          },
          "execution_count": 33,
          "metadata": {},
          "output_type": "execute_result"
        }
      ],
      "source": [
        "# arrays of predicted class probabilities\n",
        "# first val of arrays  is the probability for the observation belonging to the first class, i.e. 0,\n",
        "# and the second value is the probability for the observation belonging to 1\n",
        "y_hat_test_proba_lgd_step_1"
      ]
    },
    {
      "cell_type": "code",
      "execution_count": 34,
      "metadata": {
        "id": "drqDISx7c60b"
      },
      "outputs": [],
      "source": [
        "# we consider only the probabilities for being 1.\n",
        "y_hat_test_proba_lgd_step_1 = y_hat_test_proba_lgd_step_1[: ][: , 1]"
      ]
    },
    {
      "cell_type": "code",
      "execution_count": 35,
      "metadata": {
        "colab": {
          "base_uri": "https://localhost:8080/"
        },
        "id": "yLKc69b3c60b",
        "outputId": "450d838f-6e75-4c54-a89e-9264a9c6b27e"
      },
      "outputs": [
        {
          "data": {
            "text/plain": [
              "array([0.43925088, 0.59512578, 0.61798281, ..., 0.56527163, 0.64702556,\n",
              "       0.62073921])"
            ]
          },
          "execution_count": 35,
          "metadata": {},
          "output_type": "execute_result"
        }
      ],
      "source": [
        "y_hat_test_proba_lgd_step_1"
      ]
    },
    {
      "cell_type": "code",
      "execution_count": 36,
      "metadata": {
        "id": "nyI28lS2c60b"
      },
      "outputs": [],
      "source": [
        "lgd_Y_S1_test_temp = lgd_Y_S1_test"
      ]
    },
    {
      "cell_type": "code",
      "execution_count": 37,
      "metadata": {
        "id": "sXLB3z6Ic60c"
      },
      "outputs": [],
      "source": [
        "# resetting the index of a dataframe.\n",
        "lgd_Y_S1_test_temp.reset_index(drop = True, inplace = True)"
      ]
    },
    {
      "cell_type": "code",
      "execution_count": 38,
      "metadata": {
        "id": "2ut7f9LOc60c"
      },
      "outputs": [],
      "source": [
        "# Concatenating two dataframes.\n",
        "df_actual_predicted_probs = pd.concat([lgd_Y_S1_test_temp, pd.DataFrame(y_hat_test_proba_lgd_step_1)], axis = 1)"
      ]
    },
    {
      "cell_type": "code",
      "execution_count": 39,
      "metadata": {
        "id": "KE1ayp0zc60d"
      },
      "outputs": [],
      "source": [
        "df_actual_predicted_probs.columns = ['lgd_targets_step_1_test', 'y_hat_test_proba_lgd_step_1']"
      ]
    },
    {
      "cell_type": "code",
      "execution_count": 40,
      "metadata": {
        "id": "2578Oya6c60d"
      },
      "outputs": [],
      "source": [
        "# Making the indices eqv to each other\n",
        "df_actual_predicted_probs.index = lgd_X_S1_test.index"
      ]
    },
    {
      "cell_type": "code",
      "execution_count": 41,
      "metadata": {
        "colab": {
          "base_uri": "https://localhost:8080/",
          "height": 206
        },
        "id": "53xufvzrc60e",
        "outputId": "e317090a-4ca5-4096-da91-2d9f0a3406f2"
      },
      "outputs": [
        {
          "data": {
            "text/html": [
              "\n",
              "  <div id=\"df-36ee12c1-85c9-4266-b8e2-a75bbf34d73e\">\n",
              "    <div class=\"colab-df-container\">\n",
              "      <div>\n",
              "<style scoped>\n",
              "    .dataframe tbody tr th:only-of-type {\n",
              "        vertical-align: middle;\n",
              "    }\n",
              "\n",
              "    .dataframe tbody tr th {\n",
              "        vertical-align: top;\n",
              "    }\n",
              "\n",
              "    .dataframe thead th {\n",
              "        text-align: right;\n",
              "    }\n",
              "</style>\n",
              "<table border=\"1\" class=\"dataframe\">\n",
              "  <thead>\n",
              "    <tr style=\"text-align: right;\">\n",
              "      <th></th>\n",
              "      <th>lgd_targets_step_1_test</th>\n",
              "      <th>y_hat_test_proba_lgd_step_1</th>\n",
              "    </tr>\n",
              "  </thead>\n",
              "  <tbody>\n",
              "    <tr>\n",
              "      <th>273771</th>\n",
              "      <td>1</td>\n",
              "      <td>0.439251</td>\n",
              "    </tr>\n",
              "    <tr>\n",
              "      <th>353045</th>\n",
              "      <td>0</td>\n",
              "      <td>0.595126</td>\n",
              "    </tr>\n",
              "    <tr>\n",
              "      <th>437319</th>\n",
              "      <td>0</td>\n",
              "      <td>0.617983</td>\n",
              "    </tr>\n",
              "    <tr>\n",
              "      <th>193344</th>\n",
              "      <td>1</td>\n",
              "      <td>0.644178</td>\n",
              "    </tr>\n",
              "    <tr>\n",
              "      <th>173478</th>\n",
              "      <td>0</td>\n",
              "      <td>0.674074</td>\n",
              "    </tr>\n",
              "  </tbody>\n",
              "</table>\n",
              "</div>\n",
              "      <button class=\"colab-df-convert\" onclick=\"convertToInteractive('df-36ee12c1-85c9-4266-b8e2-a75bbf34d73e')\"\n",
              "              title=\"Convert this dataframe to an interactive table.\"\n",
              "              style=\"display:none;\">\n",
              "        \n",
              "  <svg xmlns=\"http://www.w3.org/2000/svg\" height=\"24px\"viewBox=\"0 0 24 24\"\n",
              "       width=\"24px\">\n",
              "    <path d=\"M0 0h24v24H0V0z\" fill=\"none\"/>\n",
              "    <path d=\"M18.56 5.44l.94 2.06.94-2.06 2.06-.94-2.06-.94-.94-2.06-.94 2.06-2.06.94zm-11 1L8.5 8.5l.94-2.06 2.06-.94-2.06-.94L8.5 2.5l-.94 2.06-2.06.94zm10 10l.94 2.06.94-2.06 2.06-.94-2.06-.94-.94-2.06-.94 2.06-2.06.94z\"/><path d=\"M17.41 7.96l-1.37-1.37c-.4-.4-.92-.59-1.43-.59-.52 0-1.04.2-1.43.59L10.3 9.45l-7.72 7.72c-.78.78-.78 2.05 0 2.83L4 21.41c.39.39.9.59 1.41.59.51 0 1.02-.2 1.41-.59l7.78-7.78 2.81-2.81c.8-.78.8-2.07 0-2.86zM5.41 20L4 18.59l7.72-7.72 1.47 1.35L5.41 20z\"/>\n",
              "  </svg>\n",
              "      </button>\n",
              "      \n",
              "  <style>\n",
              "    .colab-df-container {\n",
              "      display:flex;\n",
              "      flex-wrap:wrap;\n",
              "      gap: 12px;\n",
              "    }\n",
              "\n",
              "    .colab-df-convert {\n",
              "      background-color: #E8F0FE;\n",
              "      border: none;\n",
              "      border-radius: 50%;\n",
              "      cursor: pointer;\n",
              "      display: none;\n",
              "      fill: #1967D2;\n",
              "      height: 32px;\n",
              "      padding: 0 0 0 0;\n",
              "      width: 32px;\n",
              "    }\n",
              "\n",
              "    .colab-df-convert:hover {\n",
              "      background-color: #E2EBFA;\n",
              "      box-shadow: 0px 1px 2px rgba(60, 64, 67, 0.3), 0px 1px 3px 1px rgba(60, 64, 67, 0.15);\n",
              "      fill: #174EA6;\n",
              "    }\n",
              "\n",
              "    [theme=dark] .colab-df-convert {\n",
              "      background-color: #3B4455;\n",
              "      fill: #D2E3FC;\n",
              "    }\n",
              "\n",
              "    [theme=dark] .colab-df-convert:hover {\n",
              "      background-color: #434B5C;\n",
              "      box-shadow: 0px 1px 3px 1px rgba(0, 0, 0, 0.15);\n",
              "      filter: drop-shadow(0px 1px 2px rgba(0, 0, 0, 0.3));\n",
              "      fill: #FFFFFF;\n",
              "    }\n",
              "  </style>\n",
              "\n",
              "      <script>\n",
              "        const buttonEl =\n",
              "          document.querySelector('#df-36ee12c1-85c9-4266-b8e2-a75bbf34d73e button.colab-df-convert');\n",
              "        buttonEl.style.display =\n",
              "          google.colab.kernel.accessAllowed ? 'block' : 'none';\n",
              "\n",
              "        async function convertToInteractive(key) {\n",
              "          const element = document.querySelector('#df-36ee12c1-85c9-4266-b8e2-a75bbf34d73e');\n",
              "          const dataTable =\n",
              "            await google.colab.kernel.invokeFunction('convertToInteractive',\n",
              "                                                     [key], {});\n",
              "          if (!dataTable) return;\n",
              "\n",
              "          const docLinkHtml = 'Like what you see? Visit the ' +\n",
              "            '<a target=\"_blank\" href=https://colab.research.google.com/notebooks/data_table.ipynb>data table notebook</a>'\n",
              "            + ' to learn more about interactive tables.';\n",
              "          element.innerHTML = '';\n",
              "          dataTable['output_type'] = 'display_data';\n",
              "          await google.colab.output.renderOutput(dataTable, element);\n",
              "          const docLink = document.createElement('div');\n",
              "          docLink.innerHTML = docLinkHtml;\n",
              "          element.appendChild(docLink);\n",
              "        }\n",
              "      </script>\n",
              "    </div>\n",
              "  </div>\n",
              "  "
            ],
            "text/plain": [
              "        lgd_targets_step_1_test  y_hat_test_proba_lgd_step_1\n",
              "273771                        1                     0.439251\n",
              "353045                        0                     0.595126\n",
              "437319                        0                     0.617983\n",
              "193344                        1                     0.644178\n",
              "173478                        0                     0.674074"
            ]
          },
          "execution_count": 41,
          "metadata": {},
          "output_type": "execute_result"
        }
      ],
      "source": [
        "df_actual_predicted_probs.head()"
      ]
    },
    {
      "cell_type": "markdown",
      "metadata": {
        "id": "faY3B5Andt5J"
      },
      "source": [
        "### c Step 1 --- Estimating the Аccuracy of the Мodel"
      ]
    },
    {
      "cell_type": "code",
      "execution_count": 42,
      "metadata": {
        "id": "6ivkpi3adt5M"
      },
      "outputs": [],
      "source": [
        "tr = 0.5\n",
        "# Indicator column created to give '1' for the cases where predicted proba is greater than threshold\n",
        "df_actual_predicted_probs['y_hat_test_lgd_step_1'] = np.where(df_actual_predicted_probs['y_hat_test_proba_lgd_step_1'] > tr, 1, 0)"
      ]
    },
    {
      "cell_type": "code",
      "execution_count": 43,
      "metadata": {
        "colab": {
          "base_uri": "https://localhost:8080/",
          "height": 144
        },
        "id": "5RQFmB5Udt5N",
        "outputId": "09b8905a-df90-425f-8042-60e6d6eabdd8",
        "scrolled": true
      },
      "outputs": [
        {
          "data": {
            "text/html": [
              "\n",
              "  <div id=\"df-77bdc46d-0d0e-4e7f-b004-12bfbcbd412e\">\n",
              "    <div class=\"colab-df-container\">\n",
              "      <div>\n",
              "<style scoped>\n",
              "    .dataframe tbody tr th:only-of-type {\n",
              "        vertical-align: middle;\n",
              "    }\n",
              "\n",
              "    .dataframe tbody tr th {\n",
              "        vertical-align: top;\n",
              "    }\n",
              "\n",
              "    .dataframe thead th {\n",
              "        text-align: right;\n",
              "    }\n",
              "</style>\n",
              "<table border=\"1\" class=\"dataframe\">\n",
              "  <thead>\n",
              "    <tr style=\"text-align: right;\">\n",
              "      <th>Predicted</th>\n",
              "      <th>0</th>\n",
              "      <th>1</th>\n",
              "    </tr>\n",
              "    <tr>\n",
              "      <th>Actual</th>\n",
              "      <th></th>\n",
              "      <th></th>\n",
              "    </tr>\n",
              "  </thead>\n",
              "  <tbody>\n",
              "    <tr>\n",
              "      <th>0</th>\n",
              "      <td>1203</td>\n",
              "      <td>2615</td>\n",
              "    </tr>\n",
              "    <tr>\n",
              "      <th>1</th>\n",
              "      <td>885</td>\n",
              "      <td>3945</td>\n",
              "    </tr>\n",
              "  </tbody>\n",
              "</table>\n",
              "</div>\n",
              "      <button class=\"colab-df-convert\" onclick=\"convertToInteractive('df-77bdc46d-0d0e-4e7f-b004-12bfbcbd412e')\"\n",
              "              title=\"Convert this dataframe to an interactive table.\"\n",
              "              style=\"display:none;\">\n",
              "        \n",
              "  <svg xmlns=\"http://www.w3.org/2000/svg\" height=\"24px\"viewBox=\"0 0 24 24\"\n",
              "       width=\"24px\">\n",
              "    <path d=\"M0 0h24v24H0V0z\" fill=\"none\"/>\n",
              "    <path d=\"M18.56 5.44l.94 2.06.94-2.06 2.06-.94-2.06-.94-.94-2.06-.94 2.06-2.06.94zm-11 1L8.5 8.5l.94-2.06 2.06-.94-2.06-.94L8.5 2.5l-.94 2.06-2.06.94zm10 10l.94 2.06.94-2.06 2.06-.94-2.06-.94-.94-2.06-.94 2.06-2.06.94z\"/><path d=\"M17.41 7.96l-1.37-1.37c-.4-.4-.92-.59-1.43-.59-.52 0-1.04.2-1.43.59L10.3 9.45l-7.72 7.72c-.78.78-.78 2.05 0 2.83L4 21.41c.39.39.9.59 1.41.59.51 0 1.02-.2 1.41-.59l7.78-7.78 2.81-2.81c.8-.78.8-2.07 0-2.86zM5.41 20L4 18.59l7.72-7.72 1.47 1.35L5.41 20z\"/>\n",
              "  </svg>\n",
              "      </button>\n",
              "      \n",
              "  <style>\n",
              "    .colab-df-container {\n",
              "      display:flex;\n",
              "      flex-wrap:wrap;\n",
              "      gap: 12px;\n",
              "    }\n",
              "\n",
              "    .colab-df-convert {\n",
              "      background-color: #E8F0FE;\n",
              "      border: none;\n",
              "      border-radius: 50%;\n",
              "      cursor: pointer;\n",
              "      display: none;\n",
              "      fill: #1967D2;\n",
              "      height: 32px;\n",
              "      padding: 0 0 0 0;\n",
              "      width: 32px;\n",
              "    }\n",
              "\n",
              "    .colab-df-convert:hover {\n",
              "      background-color: #E2EBFA;\n",
              "      box-shadow: 0px 1px 2px rgba(60, 64, 67, 0.3), 0px 1px 3px 1px rgba(60, 64, 67, 0.15);\n",
              "      fill: #174EA6;\n",
              "    }\n",
              "\n",
              "    [theme=dark] .colab-df-convert {\n",
              "      background-color: #3B4455;\n",
              "      fill: #D2E3FC;\n",
              "    }\n",
              "\n",
              "    [theme=dark] .colab-df-convert:hover {\n",
              "      background-color: #434B5C;\n",
              "      box-shadow: 0px 1px 3px 1px rgba(0, 0, 0, 0.15);\n",
              "      filter: drop-shadow(0px 1px 2px rgba(0, 0, 0, 0.3));\n",
              "      fill: #FFFFFF;\n",
              "    }\n",
              "  </style>\n",
              "\n",
              "      <script>\n",
              "        const buttonEl =\n",
              "          document.querySelector('#df-77bdc46d-0d0e-4e7f-b004-12bfbcbd412e button.colab-df-convert');\n",
              "        buttonEl.style.display =\n",
              "          google.colab.kernel.accessAllowed ? 'block' : 'none';\n",
              "\n",
              "        async function convertToInteractive(key) {\n",
              "          const element = document.querySelector('#df-77bdc46d-0d0e-4e7f-b004-12bfbcbd412e');\n",
              "          const dataTable =\n",
              "            await google.colab.kernel.invokeFunction('convertToInteractive',\n",
              "                                                     [key], {});\n",
              "          if (!dataTable) return;\n",
              "\n",
              "          const docLinkHtml = 'Like what you see? Visit the ' +\n",
              "            '<a target=\"_blank\" href=https://colab.research.google.com/notebooks/data_table.ipynb>data table notebook</a>'\n",
              "            + ' to learn more about interactive tables.';\n",
              "          element.innerHTML = '';\n",
              "          dataTable['output_type'] = 'display_data';\n",
              "          await google.colab.output.renderOutput(dataTable, element);\n",
              "          const docLink = document.createElement('div');\n",
              "          docLink.innerHTML = docLinkHtml;\n",
              "          element.appendChild(docLink);\n",
              "        }\n",
              "      </script>\n",
              "    </div>\n",
              "  </div>\n",
              "  "
            ],
            "text/plain": [
              "Predicted     0     1\n",
              "Actual               \n",
              "0          1203  2615\n",
              "1           885  3945"
            ]
          },
          "execution_count": 43,
          "metadata": {},
          "output_type": "execute_result"
        }
      ],
      "source": [
        "# Creating a cross-table, a Confusion Matrix where the actual vals are displayed by rows and the predicted vals by columns.\n",
        "pd.crosstab(df_actual_predicted_probs['lgd_targets_step_1_test'], df_actual_predicted_probs['y_hat_test_lgd_step_1'], rownames = ['Actual'], colnames = ['Predicted'])"
      ]
    },
    {
      "cell_type": "code",
      "execution_count": 44,
      "metadata": {
        "colab": {
          "base_uri": "https://localhost:8080/",
          "height": 144
        },
        "id": "QJmYR3SUdt5N",
        "outputId": "cc5f8cf1-4f02-4d4d-ab12-6b49c07ad47a"
      },
      "outputs": [
        {
          "data": {
            "text/html": [
              "\n",
              "  <div id=\"df-bda9960e-8c53-4b47-90f2-b2ed72008c94\">\n",
              "    <div class=\"colab-df-container\">\n",
              "      <div>\n",
              "<style scoped>\n",
              "    .dataframe tbody tr th:only-of-type {\n",
              "        vertical-align: middle;\n",
              "    }\n",
              "\n",
              "    .dataframe tbody tr th {\n",
              "        vertical-align: top;\n",
              "    }\n",
              "\n",
              "    .dataframe thead th {\n",
              "        text-align: right;\n",
              "    }\n",
              "</style>\n",
              "<table border=\"1\" class=\"dataframe\">\n",
              "  <thead>\n",
              "    <tr style=\"text-align: right;\">\n",
              "      <th>Predicted</th>\n",
              "      <th>0</th>\n",
              "      <th>1</th>\n",
              "    </tr>\n",
              "    <tr>\n",
              "      <th>Actual</th>\n",
              "      <th></th>\n",
              "      <th></th>\n",
              "    </tr>\n",
              "  </thead>\n",
              "  <tbody>\n",
              "    <tr>\n",
              "      <th>0</th>\n",
              "      <td>0.139107</td>\n",
              "      <td>0.302382</td>\n",
              "    </tr>\n",
              "    <tr>\n",
              "      <th>1</th>\n",
              "      <td>0.102336</td>\n",
              "      <td>0.456175</td>\n",
              "    </tr>\n",
              "  </tbody>\n",
              "</table>\n",
              "</div>\n",
              "      <button class=\"colab-df-convert\" onclick=\"convertToInteractive('df-bda9960e-8c53-4b47-90f2-b2ed72008c94')\"\n",
              "              title=\"Convert this dataframe to an interactive table.\"\n",
              "              style=\"display:none;\">\n",
              "        \n",
              "  <svg xmlns=\"http://www.w3.org/2000/svg\" height=\"24px\"viewBox=\"0 0 24 24\"\n",
              "       width=\"24px\">\n",
              "    <path d=\"M0 0h24v24H0V0z\" fill=\"none\"/>\n",
              "    <path d=\"M18.56 5.44l.94 2.06.94-2.06 2.06-.94-2.06-.94-.94-2.06-.94 2.06-2.06.94zm-11 1L8.5 8.5l.94-2.06 2.06-.94-2.06-.94L8.5 2.5l-.94 2.06-2.06.94zm10 10l.94 2.06.94-2.06 2.06-.94-2.06-.94-.94-2.06-.94 2.06-2.06.94z\"/><path d=\"M17.41 7.96l-1.37-1.37c-.4-.4-.92-.59-1.43-.59-.52 0-1.04.2-1.43.59L10.3 9.45l-7.72 7.72c-.78.78-.78 2.05 0 2.83L4 21.41c.39.39.9.59 1.41.59.51 0 1.02-.2 1.41-.59l7.78-7.78 2.81-2.81c.8-.78.8-2.07 0-2.86zM5.41 20L4 18.59l7.72-7.72 1.47 1.35L5.41 20z\"/>\n",
              "  </svg>\n",
              "      </button>\n",
              "      \n",
              "  <style>\n",
              "    .colab-df-container {\n",
              "      display:flex;\n",
              "      flex-wrap:wrap;\n",
              "      gap: 12px;\n",
              "    }\n",
              "\n",
              "    .colab-df-convert {\n",
              "      background-color: #E8F0FE;\n",
              "      border: none;\n",
              "      border-radius: 50%;\n",
              "      cursor: pointer;\n",
              "      display: none;\n",
              "      fill: #1967D2;\n",
              "      height: 32px;\n",
              "      padding: 0 0 0 0;\n",
              "      width: 32px;\n",
              "    }\n",
              "\n",
              "    .colab-df-convert:hover {\n",
              "      background-color: #E2EBFA;\n",
              "      box-shadow: 0px 1px 2px rgba(60, 64, 67, 0.3), 0px 1px 3px 1px rgba(60, 64, 67, 0.15);\n",
              "      fill: #174EA6;\n",
              "    }\n",
              "\n",
              "    [theme=dark] .colab-df-convert {\n",
              "      background-color: #3B4455;\n",
              "      fill: #D2E3FC;\n",
              "    }\n",
              "\n",
              "    [theme=dark] .colab-df-convert:hover {\n",
              "      background-color: #434B5C;\n",
              "      box-shadow: 0px 1px 3px 1px rgba(0, 0, 0, 0.15);\n",
              "      filter: drop-shadow(0px 1px 2px rgba(0, 0, 0, 0.3));\n",
              "      fill: #FFFFFF;\n",
              "    }\n",
              "  </style>\n",
              "\n",
              "      <script>\n",
              "        const buttonEl =\n",
              "          document.querySelector('#df-bda9960e-8c53-4b47-90f2-b2ed72008c94 button.colab-df-convert');\n",
              "        buttonEl.style.display =\n",
              "          google.colab.kernel.accessAllowed ? 'block' : 'none';\n",
              "\n",
              "        async function convertToInteractive(key) {\n",
              "          const element = document.querySelector('#df-bda9960e-8c53-4b47-90f2-b2ed72008c94');\n",
              "          const dataTable =\n",
              "            await google.colab.kernel.invokeFunction('convertToInteractive',\n",
              "                                                     [key], {});\n",
              "          if (!dataTable) return;\n",
              "\n",
              "          const docLinkHtml = 'Like what you see? Visit the ' +\n",
              "            '<a target=\"_blank\" href=https://colab.research.google.com/notebooks/data_table.ipynb>data table notebook</a>'\n",
              "            + ' to learn more about interactive tables.';\n",
              "          element.innerHTML = '';\n",
              "          dataTable['output_type'] = 'display_data';\n",
              "          await google.colab.output.renderOutput(dataTable, element);\n",
              "          const docLink = document.createElement('div');\n",
              "          docLink.innerHTML = docLinkHtml;\n",
              "          element.appendChild(docLink);\n",
              "        }\n",
              "      </script>\n",
              "    </div>\n",
              "  </div>\n",
              "  "
            ],
            "text/plain": [
              "Predicted         0         1\n",
              "Actual                       \n",
              "0          0.139107  0.302382\n",
              "1          0.102336  0.456175"
            ]
          },
          "execution_count": 44,
          "metadata": {},
          "output_type": "execute_result"
        }
      ],
      "source": [
        "# Gettign rates by dividing values by the tot number of observations,\n",
        "cmatrix_p = pd.crosstab(df_actual_predicted_probs['lgd_targets_step_1_test'], \\\n",
        "                        df_actual_predicted_probs['y_hat_test_lgd_step_1'], \\\n",
        "                        rownames = ['Actual'], colnames = ['Predicted']) / df_actual_predicted_probs.shape[0]\n",
        "cmatrix_p"
      ]
    },
    {
      "cell_type": "code",
      "execution_count": 45,
      "metadata": {
        "colab": {
          "base_uri": "https://localhost:8080/"
        },
        "id": "cotfFv6Tdt5O",
        "outputId": "5be2b8a0-9abc-4ff6-ec19-7344bcea096f"
      },
      "outputs": [
        {
          "data": {
            "text/plain": [
              "0.5952821461609621"
            ]
          },
          "execution_count": 45,
          "metadata": {},
          "output_type": "execute_result"
        }
      ],
      "source": [
        "# Calculating accuracy of the model = sum of the diagonal rates.\n",
        "cmatrix_p.iloc[0, 0] + cmatrix_p.iloc[1, 1]"
      ]
    },
    {
      "cell_type": "code",
      "execution_count": 46,
      "metadata": {
        "id": "EguEyDbCdt5P"
      },
      "outputs": [],
      "source": [
        "# Getting Receiver Operating Characteristic (ROC) Curve: the false positive rates, the true positive rates, and the thresholds.\n",
        "fpr, tpr, thresholds = roc_curve(df_actual_predicted_probs['lgd_targets_step_1_test'], df_actual_predicted_probs['y_hat_test_proba_lgd_step_1'])\n"
      ]
    },
    {
      "cell_type": "code",
      "execution_count": 47,
      "metadata": {
        "colab": {
          "base_uri": "https://localhost:8080/",
          "height": 318
        },
        "id": "sWbyONMudt5P",
        "outputId": "a98a78f8-9e22-464b-a0ed-69bb499dbe22"
      },
      "outputs": [
        {
          "data": {
            "text/plain": [
              "Text(0.5, 1.0, 'ROC curve')"
            ]
          },
          "execution_count": 47,
          "metadata": {},
          "output_type": "execute_result"
        },
        {
          "data": {
            "image/png": "[encoded data removed]",
            "text/plain": [
              "<Figure size 432x288 with 1 Axes>"
            ]
          },
          "metadata": {},
          "output_type": "display_data"
        }
      ],
      "source": [
        "# We plot the ROC: false positive rate along the x-axis and the true positive rate along the y-axis,\n",
        "plt.plot(fpr, tpr)\n",
        "plt.plot(fpr, fpr, linestyle = '--', color = 'k')\n",
        "plt.xlabel('False positive rate')\n",
        "plt.ylabel('True positive rate')\n",
        "plt.title('ROC curve')"
      ]
    },
    {
      "cell_type": "code",
      "execution_count": 48,
      "metadata": {
        "colab": {
          "base_uri": "https://localhost:8080/"
        },
        "id": "O-Wz3NlMdt5Q",
        "outputId": "7742ab42-bbd6-4dcb-c6a5-9c2bc23b5063"
      },
      "outputs": [
        {
          "data": {
            "text/plain": [
              "0.6401916605118828"
            ]
          },
          "execution_count": 48,
          "metadata": {},
          "output_type": "execute_result"
        }
      ],
      "source": [
        "# Calculating the Area Under the Receiver Operating Characteristic Curve (AUROC)\n",
        "AUROC = roc_auc_score(df_actual_predicted_probs['lgd_targets_step_1_test'], df_actual_predicted_probs['y_hat_test_proba_lgd_step_1'])\n",
        "AUROC"
      ]
    },
    {
      "cell_type": "markdown",
      "metadata": {
        "id": "2o7Q6eXew3i0"
      },
      "source": [
        "ROC being 0.64 shows a better performance of 1:1 line, a dummy model of probability of 0.50. We keep the trained model."
      ]
    },
    {
      "cell_type": "markdown",
      "metadata": {
        "id": "kPm097XQeARU"
      },
      "source": [
        "### d Step 1 --- Saving the Model"
      ]
    },
    {
      "cell_type": "code",
      "execution_count": 49,
      "metadata": {
        "id": "FgdIJYEceARU"
      },
      "outputs": [],
      "source": [
        "# Exporting our model to a 'SAV' file\n",
        "pickle.dump(reg_lgd_st_1, open('../models/lgd_model_step_1.sav', 'wb'))"
      ]
    },
    {
      "cell_type": "markdown",
      "metadata": {
        "id": "cT82crh6eOBR"
      },
      "source": [
        "### e Step 2 --- Linear Regression"
      ]
    },
    {
      "cell_type": "code",
      "execution_count": 50,
      "metadata": {
        "id": "-3I9WhyheOBR"
      },
      "outputs": [],
      "source": [
        "# Here we take only rows where the original recovery rate variable is greater than one,\n",
        "# i.e. where the indicator variable we created is equal to 1.\n",
        "lgd_step_2_data = loan_data_defaults[loan_data_defaults['recovery_rate_0_1'] == 1]"
      ]
    },
    {
      "cell_type": "code",
      "execution_count": 51,
      "metadata": {
        "id": "qipydKn6eOBR"
      },
      "outputs": [],
      "source": [
        "# LGD model stage 2 datasets: how much more than 0 is the recovery rate\n",
        "lgd_X_S2 = lgd_step_2_data.drop([ 'recovery_rate','recovery_rate_0_1', 'CCF'], axis = 1)\n",
        "lgd_Y_S2 = lgd_step_2_data['recovery_rate']\n",
        "# splitting Inputs - Train + Test and  Targets - Train + Test.\n",
        "lgd_X_S2_train, lgd_X_S2_test, lgd_Y_S2_train, lgd_Y_S2_test = train_test_split(lgd_X_S2, lgd_Y_S2, test_size = 0.2, random_state = 42)\n",
        "# freeing the memory used by following arrays\n",
        "lgd_x_S2, lgd_Y_S2  = [],[]"
      ]
    },
    {
      "cell_type": "code",
      "execution_count": 53,
      "metadata": {
        "id": "Q4uyqt-GeOBU"
      },
      "outputs": [],
      "source": [
        "# keeping the variables needed for the model.\n",
        "lgd_X_S2_train = lgd_X_S2_train[features_all]\n",
        "# removing the dummy variable reference categories.\n",
        "lgd_X_S2_train = lgd_X_S2_train.drop(features_reference_cat, axis = 1)"
      ]
    },
    {
      "cell_type": "code",
      "execution_count": 54,
      "metadata": {
        "colab": {
          "base_uri": "https://localhost:8080/"
        },
        "id": "gmjq-4bmeOBV",
        "outputId": "4b788b0f-f612-4ff1-c6ab-426b7de458e6"
      },
      "outputs": [
        {
          "name": "stderr",
          "output_type": "stream",
          "text": [
            "/usr/local/lib/python3.8/dist-packages/sklearn/linear_model/_base.py:148: FutureWarning: 'normalize' was deprecated in version 1.0 and will be removed in 1.2. Please leave the normalize parameter to its default value to silence this warning. The default behavior of this estimator is to not do any normalization. If normalization is needed please use sklearn.preprocessing.StandardScaler instead.\n",
            "  warnings.warn(\n"
          ]
        },
        {
          "data": {
            "text/plain": [
              "LinearRegression()"
            ]
          },
          "execution_count": 54,
          "metadata": {},
          "output_type": "execute_result"
        }
      ],
      "source": [
        "# creating an instance of an object from the 'LogisticRegression' class.\n",
        "reg_lgd_st_2 = LinearRegression()\n",
        "# Estimating the coeffs w X_train and Y_train\n",
        "reg_lgd_st_2.fit(lgd_X_S2_train, lgd_Y_S2_train)"
      ]
    },
    {
      "cell_type": "code",
      "execution_count": 55,
      "metadata": {
        "id": "lqB18L5weOBV"
      },
      "outputs": [],
      "source": [
        "# Storing the names of the columns\n",
        "feature_name = lgd_X_S2_train.columns.values"
      ]
    },
    {
      "cell_type": "code",
      "execution_count": 56,
      "metadata": {
        "colab": {
          "base_uri": "https://localhost:8080/",
          "height": 1000
        },
        "id": "LHaw9ALbeOBW",
        "outputId": "eaa0e29d-29bb-450c-cbe1-3fda894034a9"
      },
      "outputs": [
        {
          "data": {
            "text/html": [
              "\n",
              "  <div id=\"df-c05d5e3b-627f-4189-ab0a-1ae1b4cf83ef\">\n",
              "    <div class=\"colab-df-container\">\n",
              "      <div>\n",
              "<style scoped>\n",
              "    .dataframe tbody tr th:only-of-type {\n",
              "        vertical-align: middle;\n",
              "    }\n",
              "\n",
              "    .dataframe tbody tr th {\n",
              "        vertical-align: top;\n",
              "    }\n",
              "\n",
              "    .dataframe thead th {\n",
              "        text-align: right;\n",
              "    }\n",
              "</style>\n",
              "<table border=\"1\" class=\"dataframe\">\n",
              "  <thead>\n",
              "    <tr style=\"text-align: right;\">\n",
              "      <th></th>\n",
              "      <th>Feature name</th>\n",
              "      <th>Coefficients</th>\n",
              "      <th>p_values</th>\n",
              "    </tr>\n",
              "  </thead>\n",
              "  <tbody>\n",
              "    <tr>\n",
              "      <th>0</th>\n",
              "      <td>Intercept</td>\n",
              "      <td>2.596884e-01</td>\n",
              "      <td>NaN</td>\n",
              "    </tr>\n",
              "    <tr>\n",
              "      <th>1</th>\n",
              "      <td>grade:A</td>\n",
              "      <td>-8.542627e-02</td>\n",
              "      <td>0.000</td>\n",
              "    </tr>\n",
              "    <tr>\n",
              "      <th>2</th>\n",
              "      <td>grade:B</td>\n",
              "      <td>-6.188063e-02</td>\n",
              "      <td>0.000</td>\n",
              "    </tr>\n",
              "    <tr>\n",
              "      <th>3</th>\n",
              "      <td>grade:C</td>\n",
              "      <td>-4.839424e-02</td>\n",
              "      <td>0.000</td>\n",
              "    </tr>\n",
              "    <tr>\n",
              "      <th>4</th>\n",
              "      <td>grade:D</td>\n",
              "      <td>-3.485896e-02</td>\n",
              "      <td>0.000</td>\n",
              "    </tr>\n",
              "    <tr>\n",
              "      <th>5</th>\n",
              "      <td>grade:E</td>\n",
              "      <td>-1.903644e-02</td>\n",
              "      <td>0.000</td>\n",
              "    </tr>\n",
              "    <tr>\n",
              "      <th>6</th>\n",
              "      <td>grade:F</td>\n",
              "      <td>-1.049845e-02</td>\n",
              "      <td>0.029</td>\n",
              "    </tr>\n",
              "    <tr>\n",
              "      <th>7</th>\n",
              "      <td>home_ownership:MORTGAGE</td>\n",
              "      <td>2.436369e-03</td>\n",
              "      <td>0.101</td>\n",
              "    </tr>\n",
              "    <tr>\n",
              "      <th>8</th>\n",
              "      <td>home_ownership:NONE</td>\n",
              "      <td>1.435086e-01</td>\n",
              "      <td>0.000</td>\n",
              "    </tr>\n",
              "    <tr>\n",
              "      <th>9</th>\n",
              "      <td>home_ownership:OTHER</td>\n",
              "      <td>5.398011e-02</td>\n",
              "      <td>0.007</td>\n",
              "    </tr>\n",
              "    <tr>\n",
              "      <th>10</th>\n",
              "      <td>home_ownership:OWN</td>\n",
              "      <td>5.473096e-03</td>\n",
              "      <td>0.022</td>\n",
              "    </tr>\n",
              "    <tr>\n",
              "      <th>11</th>\n",
              "      <td>verification_status:Not Verified</td>\n",
              "      <td>2.126970e-03</td>\n",
              "      <td>0.226</td>\n",
              "    </tr>\n",
              "    <tr>\n",
              "      <th>12</th>\n",
              "      <td>verification_status:Source Verified</td>\n",
              "      <td>-3.158117e-03</td>\n",
              "      <td>0.048</td>\n",
              "    </tr>\n",
              "    <tr>\n",
              "      <th>13</th>\n",
              "      <td>purpose:car</td>\n",
              "      <td>-3.971207e-03</td>\n",
              "      <td>0.513</td>\n",
              "    </tr>\n",
              "    <tr>\n",
              "      <th>14</th>\n",
              "      <td>purpose:debt_consolidation</td>\n",
              "      <td>-5.667790e-04</td>\n",
              "      <td>0.757</td>\n",
              "    </tr>\n",
              "    <tr>\n",
              "      <th>15</th>\n",
              "      <td>purpose:educational</td>\n",
              "      <td>6.092530e-02</td>\n",
              "      <td>0.000</td>\n",
              "    </tr>\n",
              "    <tr>\n",
              "      <th>16</th>\n",
              "      <td>purpose:home_improvement</td>\n",
              "      <td>-1.195862e-03</td>\n",
              "      <td>0.717</td>\n",
              "    </tr>\n",
              "    <tr>\n",
              "      <th>17</th>\n",
              "      <td>purpose:house</td>\n",
              "      <td>-9.238732e-04</td>\n",
              "      <td>0.903</td>\n",
              "    </tr>\n",
              "    <tr>\n",
              "      <th>18</th>\n",
              "      <td>purpose:major_purchase</td>\n",
              "      <td>3.138416e-03</td>\n",
              "      <td>0.501</td>\n",
              "    </tr>\n",
              "    <tr>\n",
              "      <th>19</th>\n",
              "      <td>purpose:medical</td>\n",
              "      <td>5.475246e-03</td>\n",
              "      <td>0.366</td>\n",
              "    </tr>\n",
              "    <tr>\n",
              "      <th>20</th>\n",
              "      <td>purpose:moving</td>\n",
              "      <td>6.605317e-03</td>\n",
              "      <td>0.338</td>\n",
              "    </tr>\n",
              "    <tr>\n",
              "      <th>21</th>\n",
              "      <td>purpose:other</td>\n",
              "      <td>3.388669e-03</td>\n",
              "      <td>0.252</td>\n",
              "    </tr>\n",
              "    <tr>\n",
              "      <th>22</th>\n",
              "      <td>purpose:renewable_energy</td>\n",
              "      <td>5.566989e-03</td>\n",
              "      <td>0.720</td>\n",
              "    </tr>\n",
              "    <tr>\n",
              "      <th>23</th>\n",
              "      <td>purpose:small_business</td>\n",
              "      <td>1.602584e-03</td>\n",
              "      <td>0.662</td>\n",
              "    </tr>\n",
              "    <tr>\n",
              "      <th>24</th>\n",
              "      <td>purpose:vacation</td>\n",
              "      <td>9.167981e-04</td>\n",
              "      <td>0.910</td>\n",
              "    </tr>\n",
              "    <tr>\n",
              "      <th>25</th>\n",
              "      <td>purpose:wedding</td>\n",
              "      <td>2.228507e-02</td>\n",
              "      <td>0.003</td>\n",
              "    </tr>\n",
              "    <tr>\n",
              "      <th>26</th>\n",
              "      <td>initial_list_status:w</td>\n",
              "      <td>1.444444e-02</td>\n",
              "      <td>0.000</td>\n",
              "    </tr>\n",
              "    <tr>\n",
              "      <th>27</th>\n",
              "      <td>term_int</td>\n",
              "      <td>2.524359e-04</td>\n",
              "      <td>0.073</td>\n",
              "    </tr>\n",
              "    <tr>\n",
              "      <th>28</th>\n",
              "      <td>emp_length_int</td>\n",
              "      <td>2.559182e-04</td>\n",
              "      <td>0.158</td>\n",
              "    </tr>\n",
              "    <tr>\n",
              "      <th>29</th>\n",
              "      <td>mths_since_issue_d</td>\n",
              "      <td>-1.506583e-03</td>\n",
              "      <td>0.000</td>\n",
              "    </tr>\n",
              "    <tr>\n",
              "      <th>30</th>\n",
              "      <td>mths_since_earliest_cr_line</td>\n",
              "      <td>1.695662e-05</td>\n",
              "      <td>0.051</td>\n",
              "    </tr>\n",
              "    <tr>\n",
              "      <th>31</th>\n",
              "      <td>funded_amnt</td>\n",
              "      <td>1.250686e-07</td>\n",
              "      <td>0.822</td>\n",
              "    </tr>\n",
              "    <tr>\n",
              "      <th>32</th>\n",
              "      <td>int_rate</td>\n",
              "      <td>-2.895122e-03</td>\n",
              "      <td>0.000</td>\n",
              "    </tr>\n",
              "    <tr>\n",
              "      <th>33</th>\n",
              "      <td>installment</td>\n",
              "      <td>-2.186489e-05</td>\n",
              "      <td>0.206</td>\n",
              "    </tr>\n",
              "    <tr>\n",
              "      <th>34</th>\n",
              "      <td>annual_inc</td>\n",
              "      <td>6.741557e-08</td>\n",
              "      <td>0.000</td>\n",
              "    </tr>\n",
              "    <tr>\n",
              "      <th>35</th>\n",
              "      <td>dti</td>\n",
              "      <td>2.690228e-04</td>\n",
              "      <td>0.005</td>\n",
              "    </tr>\n",
              "    <tr>\n",
              "      <th>36</th>\n",
              "      <td>delinq_2yrs</td>\n",
              "      <td>1.057573e-03</td>\n",
              "      <td>0.239</td>\n",
              "    </tr>\n",
              "    <tr>\n",
              "      <th>37</th>\n",
              "      <td>inq_last_6mths</td>\n",
              "      <td>1.025954e-03</td>\n",
              "      <td>0.052</td>\n",
              "    </tr>\n",
              "    <tr>\n",
              "      <th>38</th>\n",
              "      <td>mths_since_last_delinq</td>\n",
              "      <td>1.296869e-06</td>\n",
              "      <td>0.965</td>\n",
              "    </tr>\n",
              "    <tr>\n",
              "      <th>39</th>\n",
              "      <td>mths_since_last_record</td>\n",
              "      <td>-3.823514e-05</td>\n",
              "      <td>0.346</td>\n",
              "    </tr>\n",
              "    <tr>\n",
              "      <th>40</th>\n",
              "      <td>open_acc</td>\n",
              "      <td>-1.206111e-03</td>\n",
              "      <td>0.000</td>\n",
              "    </tr>\n",
              "    <tr>\n",
              "      <th>41</th>\n",
              "      <td>pub_rec</td>\n",
              "      <td>2.214952e-03</td>\n",
              "      <td>0.404</td>\n",
              "    </tr>\n",
              "    <tr>\n",
              "      <th>42</th>\n",
              "      <td>total_acc</td>\n",
              "      <td>5.032409e-04</td>\n",
              "      <td>0.000</td>\n",
              "    </tr>\n",
              "    <tr>\n",
              "      <th>43</th>\n",
              "      <td>acc_now_delinq</td>\n",
              "      <td>-4.341145e-03</td>\n",
              "      <td>0.667</td>\n",
              "    </tr>\n",
              "    <tr>\n",
              "      <th>44</th>\n",
              "      <td>total_rev_hi_lim</td>\n",
              "      <td>2.507701e-07</td>\n",
              "      <td>0.000</td>\n",
              "    </tr>\n",
              "  </tbody>\n",
              "</table>\n",
              "</div>\n",
              "      <button class=\"colab-df-convert\" onclick=\"convertToInteractive('df-c05d5e3b-627f-4189-ab0a-1ae1b4cf83ef')\"\n",
              "              title=\"Convert this dataframe to an interactive table.\"\n",
              "              style=\"display:none;\">\n",
              "        \n",
              "  <svg xmlns=\"http://www.w3.org/2000/svg\" height=\"24px\"viewBox=\"0 0 24 24\"\n",
              "       width=\"24px\">\n",
              "    <path d=\"M0 0h24v24H0V0z\" fill=\"none\"/>\n",
              "    <path d=\"M18.56 5.44l.94 2.06.94-2.06 2.06-.94-2.06-.94-.94-2.06-.94 2.06-2.06.94zm-11 1L8.5 8.5l.94-2.06 2.06-.94-2.06-.94L8.5 2.5l-.94 2.06-2.06.94zm10 10l.94 2.06.94-2.06 2.06-.94-2.06-.94-.94-2.06-.94 2.06-2.06.94z\"/><path d=\"M17.41 7.96l-1.37-1.37c-.4-.4-.92-.59-1.43-.59-.52 0-1.04.2-1.43.59L10.3 9.45l-7.72 7.72c-.78.78-.78 2.05 0 2.83L4 21.41c.39.39.9.59 1.41.59.51 0 1.02-.2 1.41-.59l7.78-7.78 2.81-2.81c.8-.78.8-2.07 0-2.86zM5.41 20L4 18.59l7.72-7.72 1.47 1.35L5.41 20z\"/>\n",
              "  </svg>\n",
              "      </button>\n",
              "      \n",
              "  <style>\n",
              "    .colab-df-container {\n",
              "      display:flex;\n",
              "      flex-wrap:wrap;\n",
              "      gap: 12px;\n",
              "    }\n",
              "\n",
              "    .colab-df-convert {\n",
              "      background-color: #E8F0FE;\n",
              "      border: none;\n",
              "      border-radius: 50%;\n",
              "      cursor: pointer;\n",
              "      display: none;\n",
              "      fill: #1967D2;\n",
              "      height: 32px;\n",
              "      padding: 0 0 0 0;\n",
              "      width: 32px;\n",
              "    }\n",
              "\n",
              "    .colab-df-convert:hover {\n",
              "      background-color: #E2EBFA;\n",
              "      box-shadow: 0px 1px 2px rgba(60, 64, 67, 0.3), 0px 1px 3px 1px rgba(60, 64, 67, 0.15);\n",
              "      fill: #174EA6;\n",
              "    }\n",
              "\n",
              "    [theme=dark] .colab-df-convert {\n",
              "      background-color: #3B4455;\n",
              "      fill: #D2E3FC;\n",
              "    }\n",
              "\n",
              "    [theme=dark] .colab-df-convert:hover {\n",
              "      background-color: #434B5C;\n",
              "      box-shadow: 0px 1px 3px 1px rgba(0, 0, 0, 0.15);\n",
              "      filter: drop-shadow(0px 1px 2px rgba(0, 0, 0, 0.3));\n",
              "      fill: #FFFFFF;\n",
              "    }\n",
              "  </style>\n",
              "\n",
              "      <script>\n",
              "        const buttonEl =\n",
              "          document.querySelector('#df-c05d5e3b-627f-4189-ab0a-1ae1b4cf83ef button.colab-df-convert');\n",
              "        buttonEl.style.display =\n",
              "          google.colab.kernel.accessAllowed ? 'block' : 'none';\n",
              "\n",
              "        async function convertToInteractive(key) {\n",
              "          const element = document.querySelector('#df-c05d5e3b-627f-4189-ab0a-1ae1b4cf83ef');\n",
              "          const dataTable =\n",
              "            await google.colab.kernel.invokeFunction('convertToInteractive',\n",
              "                                                     [key], {});\n",
              "          if (!dataTable) return;\n",
              "\n",
              "          const docLinkHtml = 'Like what you see? Visit the ' +\n",
              "            '<a target=\"_blank\" href=https://colab.research.google.com/notebooks/data_table.ipynb>data table notebook</a>'\n",
              "            + ' to learn more about interactive tables.';\n",
              "          element.innerHTML = '';\n",
              "          dataTable['output_type'] = 'display_data';\n",
              "          await google.colab.output.renderOutput(dataTable, element);\n",
              "          const docLink = document.createElement('div');\n",
              "          docLink.innerHTML = docLinkHtml;\n",
              "          element.appendChild(docLink);\n",
              "        }\n",
              "      </script>\n",
              "    </div>\n",
              "  </div>\n",
              "  "
            ],
            "text/plain": [
              "                           Feature name  Coefficients  p_values\n",
              "0                             Intercept  2.596884e-01       NaN\n",
              "1                               grade:A -8.542627e-02     0.000\n",
              "2                               grade:B -6.188063e-02     0.000\n",
              "3                               grade:C -4.839424e-02     0.000\n",
              "4                               grade:D -3.485896e-02     0.000\n",
              "5                               grade:E -1.903644e-02     0.000\n",
              "6                               grade:F -1.049845e-02     0.029\n",
              "7               home_ownership:MORTGAGE  2.436369e-03     0.101\n",
              "8                   home_ownership:NONE  1.435086e-01     0.000\n",
              "9                  home_ownership:OTHER  5.398011e-02     0.007\n",
              "10                   home_ownership:OWN  5.473096e-03     0.022\n",
              "11     verification_status:Not Verified  2.126970e-03     0.226\n",
              "12  verification_status:Source Verified -3.158117e-03     0.048\n",
              "13                          purpose:car -3.971207e-03     0.513\n",
              "14           purpose:debt_consolidation -5.667790e-04     0.757\n",
              "15                  purpose:educational  6.092530e-02     0.000\n",
              "16             purpose:home_improvement -1.195862e-03     0.717\n",
              "17                        purpose:house -9.238732e-04     0.903\n",
              "18               purpose:major_purchase  3.138416e-03     0.501\n",
              "19                      purpose:medical  5.475246e-03     0.366\n",
              "20                       purpose:moving  6.605317e-03     0.338\n",
              "21                        purpose:other  3.388669e-03     0.252\n",
              "22             purpose:renewable_energy  5.566989e-03     0.720\n",
              "23               purpose:small_business  1.602584e-03     0.662\n",
              "24                     purpose:vacation  9.167981e-04     0.910\n",
              "25                      purpose:wedding  2.228507e-02     0.003\n",
              "26                initial_list_status:w  1.444444e-02     0.000\n",
              "27                             term_int  2.524359e-04     0.073\n",
              "28                       emp_length_int  2.559182e-04     0.158\n",
              "29                   mths_since_issue_d -1.506583e-03     0.000\n",
              "30          mths_since_earliest_cr_line  1.695662e-05     0.051\n",
              "31                          funded_amnt  1.250686e-07     0.822\n",
              "32                             int_rate -2.895122e-03     0.000\n",
              "33                          installment -2.186489e-05     0.206\n",
              "34                           annual_inc  6.741557e-08     0.000\n",
              "35                                  dti  2.690228e-04     0.005\n",
              "36                          delinq_2yrs  1.057573e-03     0.239\n",
              "37                       inq_last_6mths  1.025954e-03     0.052\n",
              "38               mths_since_last_delinq  1.296869e-06     0.965\n",
              "39               mths_since_last_record -3.823514e-05     0.346\n",
              "40                             open_acc -1.206111e-03     0.000\n",
              "41                              pub_rec  2.214952e-03     0.404\n",
              "42                            total_acc  5.032409e-04     0.000\n",
              "43                       acc_now_delinq -4.341145e-03     0.667\n",
              "44                     total_rev_hi_lim  2.507701e-07     0.000"
            ]
          },
          "execution_count": 56,
          "metadata": {},
          "output_type": "execute_result"
        }
      ],
      "source": [
        "# Creating a df with a column 'Feature name' and vals in 'feature_name'\n",
        "summary_table = pd.DataFrame(columns = ['Feature name'], data = feature_name)\n",
        "# Creating a new column 'Coefficients' w row values the transposed coefficients from the 'LogisticRegression' object.\n",
        "summary_table['Coefficients'] = np.transpose(reg_lgd_st_2.coef_)\n",
        "# Increasing the index of every row of the dataframe with 1.\n",
        "summary_table.index = summary_table.index + 1\n",
        "# Assigning values of the row with index 0 of the dataframe.\n",
        "summary_table.loc[0] = ['Intercept', reg_lgd_st_2.intercept_]\n",
        "# Sorting the dataframe by index.\n",
        "summary_table = summary_table.sort_index()\n",
        "# Taking the result of the newly added method 'p_values' and store it in a variable 'p_values'.\n",
        "p_values = reg_lgd_st_2.p\n",
        "# Adding the value 'NaN' in the beginning of the variable with p-values.\n",
        "p_values = np.append(np.nan,np.array(p_values))\n",
        "# Adding a column of 'p_values', containing the values\n",
        "summary_table['p_values'] = p_values.round(3)\n",
        "\n",
        "summary_table"
      ]
    },
    {
      "cell_type": "markdown",
      "metadata": {
        "id": "CY6bQMsnf3tH"
      },
      "source": [
        "### f Step 2 --- Model Evaluation"
      ]
    },
    {
      "cell_type": "code",
      "execution_count": 57,
      "metadata": {
        "id": "HwHGz2lZf3tI"
      },
      "outputs": [],
      "source": [
        "# keeping the variables needed\n",
        "lgd_X_S2_test = lgd_X_S2_test[features_all]"
      ]
    },
    {
      "cell_type": "code",
      "execution_count": 58,
      "metadata": {
        "id": "YyWlq5nWf3tI"
      },
      "outputs": [],
      "source": [
        "# Removing the dummy variable reference categories.\n",
        "lgd_X_S2_test = lgd_X_S2_test.drop(features_reference_cat, axis = 1)"
      ]
    },
    {
      "cell_type": "code",
      "execution_count": 59,
      "metadata": {
        "colab": {
          "base_uri": "https://localhost:8080/"
        },
        "id": "_EiUx0XUf3tI",
        "outputId": "785b104c-22d5-4c1e-d38c-4098d2458140"
      },
      "outputs": [
        {
          "data": {
            "text/plain": [
              "array(['grade:A', 'grade:B', 'grade:C', 'grade:D', 'grade:E', 'grade:F',\n",
              "       'home_ownership:MORTGAGE', 'home_ownership:NONE',\n",
              "       'home_ownership:OTHER', 'home_ownership:OWN',\n",
              "       'verification_status:Not Verified',\n",
              "       'verification_status:Source Verified', 'purpose:car',\n",
              "       'purpose:debt_consolidation', 'purpose:educational',\n",
              "       'purpose:home_improvement', 'purpose:house',\n",
              "       'purpose:major_purchase', 'purpose:medical', 'purpose:moving',\n",
              "       'purpose:other', 'purpose:renewable_energy',\n",
              "       'purpose:small_business', 'purpose:vacation', 'purpose:wedding',\n",
              "       'initial_list_status:w', 'term_int', 'emp_length_int',\n",
              "       'mths_since_issue_d', 'mths_since_earliest_cr_line', 'funded_amnt',\n",
              "       'int_rate', 'installment', 'annual_inc', 'dti', 'delinq_2yrs',\n",
              "       'inq_last_6mths', 'mths_since_last_delinq',\n",
              "       'mths_since_last_record', 'open_acc', 'pub_rec', 'total_acc',\n",
              "       'acc_now_delinq', 'total_rev_hi_lim'], dtype=object)"
            ]
          },
          "execution_count": 59,
          "metadata": {},
          "output_type": "execute_result"
        }
      ],
      "source": [
        "# Calculating the predicted vals for Y given X\n",
        "lgd_X_S2_test.columns.values"
      ]
    },
    {
      "cell_type": "code",
      "execution_count": 60,
      "metadata": {
        "id": "0v-8XELmf3tJ"
      },
      "outputs": [],
      "source": [
        "# Predicting Y given X\n",
        "y_hat_test_lgd_step_2 = reg_lgd_st_2.predict(lgd_X_S2_test)"
      ]
    },
    {
      "cell_type": "code",
      "execution_count": 61,
      "metadata": {
        "id": "J6JMQ4Onf3tJ"
      },
      "outputs": [],
      "source": [
        "lgd_Y_S2_test_temp = lgd_Y_S2_test"
      ]
    },
    {
      "cell_type": "code",
      "execution_count": 62,
      "metadata": {
        "id": "IHyvYFx8f3tK"
      },
      "outputs": [],
      "source": [
        "# Resetting the index of a dataframe.\n",
        "lgd_Y_S2_test_temp = lgd_Y_S2_test_temp.reset_index(drop = True)\n"
      ]
    },
    {
      "cell_type": "code",
      "execution_count": 63,
      "metadata": {
        "colab": {
          "base_uri": "https://localhost:8080/",
          "height": 112
        },
        "id": "JGD8fBaHf3tK",
        "outputId": "c2ec9cde-6c59-4637-f5cd-e5519315090d"
      },
      "outputs": [
        {
          "data": {
            "text/html": [
              "\n",
              "  <div id=\"df-67594ff6-7145-4195-a10e-a480f996742e\">\n",
              "    <div class=\"colab-df-container\">\n",
              "      <div>\n",
              "<style scoped>\n",
              "    .dataframe tbody tr th:only-of-type {\n",
              "        vertical-align: middle;\n",
              "    }\n",
              "\n",
              "    .dataframe tbody tr th {\n",
              "        vertical-align: top;\n",
              "    }\n",
              "\n",
              "    .dataframe thead th {\n",
              "        text-align: right;\n",
              "    }\n",
              "</style>\n",
              "<table border=\"1\" class=\"dataframe\">\n",
              "  <thead>\n",
              "    <tr style=\"text-align: right;\">\n",
              "      <th></th>\n",
              "      <th>recovery_rate</th>\n",
              "      <th>0</th>\n",
              "    </tr>\n",
              "  </thead>\n",
              "  <tbody>\n",
              "    <tr>\n",
              "      <th>recovery_rate</th>\n",
              "      <td>1.000000</td>\n",
              "      <td>0.286862</td>\n",
              "    </tr>\n",
              "    <tr>\n",
              "      <th>0</th>\n",
              "      <td>0.286862</td>\n",
              "      <td>1.000000</td>\n",
              "    </tr>\n",
              "  </tbody>\n",
              "</table>\n",
              "</div>\n",
              "      <button class=\"colab-df-convert\" onclick=\"convertToInteractive('df-67594ff6-7145-4195-a10e-a480f996742e')\"\n",
              "              title=\"Convert this dataframe to an interactive table.\"\n",
              "              style=\"display:none;\">\n",
              "        \n",
              "  <svg xmlns=\"http://www.w3.org/2000/svg\" height=\"24px\"viewBox=\"0 0 24 24\"\n",
              "       width=\"24px\">\n",
              "    <path d=\"M0 0h24v24H0V0z\" fill=\"none\"/>\n",
              "    <path d=\"M18.56 5.44l.94 2.06.94-2.06 2.06-.94-2.06-.94-.94-2.06-.94 2.06-2.06.94zm-11 1L8.5 8.5l.94-2.06 2.06-.94-2.06-.94L8.5 2.5l-.94 2.06-2.06.94zm10 10l.94 2.06.94-2.06 2.06-.94-2.06-.94-.94-2.06-.94 2.06-2.06.94z\"/><path d=\"M17.41 7.96l-1.37-1.37c-.4-.4-.92-.59-1.43-.59-.52 0-1.04.2-1.43.59L10.3 9.45l-7.72 7.72c-.78.78-.78 2.05 0 2.83L4 21.41c.39.39.9.59 1.41.59.51 0 1.02-.2 1.41-.59l7.78-7.78 2.81-2.81c.8-.78.8-2.07 0-2.86zM5.41 20L4 18.59l7.72-7.72 1.47 1.35L5.41 20z\"/>\n",
              "  </svg>\n",
              "      </button>\n",
              "      \n",
              "  <style>\n",
              "    .colab-df-container {\n",
              "      display:flex;\n",
              "      flex-wrap:wrap;\n",
              "      gap: 12px;\n",
              "    }\n",
              "\n",
              "    .colab-df-convert {\n",
              "      background-color: #E8F0FE;\n",
              "      border: none;\n",
              "      border-radius: 50%;\n",
              "      cursor: pointer;\n",
              "      display: none;\n",
              "      fill: #1967D2;\n",
              "      height: 32px;\n",
              "      padding: 0 0 0 0;\n",
              "      width: 32px;\n",
              "    }\n",
              "\n",
              "    .colab-df-convert:hover {\n",
              "      background-color: #E2EBFA;\n",
              "      box-shadow: 0px 1px 2px rgba(60, 64, 67, 0.3), 0px 1px 3px 1px rgba(60, 64, 67, 0.15);\n",
              "      fill: #174EA6;\n",
              "    }\n",
              "\n",
              "    [theme=dark] .colab-df-convert {\n",
              "      background-color: #3B4455;\n",
              "      fill: #D2E3FC;\n",
              "    }\n",
              "\n",
              "    [theme=dark] .colab-df-convert:hover {\n",
              "      background-color: #434B5C;\n",
              "      box-shadow: 0px 1px 3px 1px rgba(0, 0, 0, 0.15);\n",
              "      filter: drop-shadow(0px 1px 2px rgba(0, 0, 0, 0.3));\n",
              "      fill: #FFFFFF;\n",
              "    }\n",
              "  </style>\n",
              "\n",
              "      <script>\n",
              "        const buttonEl =\n",
              "          document.querySelector('#df-67594ff6-7145-4195-a10e-a480f996742e button.colab-df-convert');\n",
              "        buttonEl.style.display =\n",
              "          google.colab.kernel.accessAllowed ? 'block' : 'none';\n",
              "\n",
              "        async function convertToInteractive(key) {\n",
              "          const element = document.querySelector('#df-67594ff6-7145-4195-a10e-a480f996742e');\n",
              "          const dataTable =\n",
              "            await google.colab.kernel.invokeFunction('convertToInteractive',\n",
              "                                                     [key], {});\n",
              "          if (!dataTable) return;\n",
              "\n",
              "          const docLinkHtml = 'Like what you see? Visit the ' +\n",
              "            '<a target=\"_blank\" href=https://colab.research.google.com/notebooks/data_table.ipynb>data table notebook</a>'\n",
              "            + ' to learn more about interactive tables.';\n",
              "          element.innerHTML = '';\n",
              "          dataTable['output_type'] = 'display_data';\n",
              "          await google.colab.output.renderOutput(dataTable, element);\n",
              "          const docLink = document.createElement('div');\n",
              "          docLink.innerHTML = docLinkHtml;\n",
              "          element.appendChild(docLink);\n",
              "        }\n",
              "      </script>\n",
              "    </div>\n",
              "  </div>\n",
              "  "
            ],
            "text/plain": [
              "               recovery_rate         0\n",
              "recovery_rate       1.000000  0.286862\n",
              "0                   0.286862  1.000000"
            ]
          },
          "execution_count": 63,
          "metadata": {},
          "output_type": "execute_result"
        }
      ],
      "source": [
        "# Calculating the correlation between actual and predicted values.\n",
        "pd.concat([lgd_Y_S2_test_temp, pd.DataFrame(y_hat_test_lgd_step_2)], axis = 1).corr()\n"
      ]
    },
    {
      "cell_type": "code",
      "execution_count": 64,
      "metadata": {
        "colab": {
          "base_uri": "https://localhost:8080/",
          "height": 357
        },
        "id": "iX_rKZW3f3tK",
        "outputId": "1a0c1bb3-bbf4-4045-8b71-647dad1fb963",
        "scrolled": true
      },
      "outputs": [
        {
          "name": "stderr",
          "output_type": "stream",
          "text": [
            "/usr/local/lib/python3.8/dist-packages/seaborn/distributions.py:2619: FutureWarning: `distplot` is a deprecated function and will be removed in a future version. Please adapt your code to use either `displot` (a figure-level function with similar flexibility) or `histplot` (an axes-level function for histograms).\n",
            "  warnings.warn(msg, FutureWarning)\n"
          ]
        },
        {
          "data": {
            "text/plain": [
              "<matplotlib.axes._subplots.AxesSubplot at 0x7ffb32039e50>"
            ]
          },
          "execution_count": 64,
          "metadata": {},
          "output_type": "execute_result"
        },
        {
          "data": {
            "image/png": "[encoded data removed]",
            "text/plain": [
              "<Figure size 432x288 with 1 Axes>"
            ]
          },
          "metadata": {},
          "output_type": "display_data"
        }
      ],
      "source": [
        "# Plotting the distribution of the residuals.\n",
        "sns.distplot(lgd_Y_S2_test_temp - y_hat_test_lgd_step_2)\n"
      ]
    },
    {
      "cell_type": "code",
      "execution_count": 65,
      "metadata": {
        "id": "1wbN0o9kf3tL"
      },
      "outputs": [],
      "source": [
        "# Here we export our model\n",
        "pickle.dump(reg_lgd_st_2, open('../models/lgd_model_step_2.sav', 'wb'))\n"
      ]
    },
    {
      "cell_type": "markdown",
      "metadata": {
        "id": "t4mNv7kBf3tL"
      },
      "source": [
        "### g Combining Steps 1 & 2"
      ]
    },
    {
      "cell_type": "code",
      "execution_count": 66,
      "metadata": {
        "id": "L5zyuJnbf3tL"
      },
      "outputs": [],
      "source": [
        "y_hat_test_lgd_step_2_all = reg_lgd_st_2.predict(lgd_X_S1_test)"
      ]
    },
    {
      "cell_type": "code",
      "execution_count": 67,
      "metadata": {
        "colab": {
          "base_uri": "https://localhost:8080/"
        },
        "id": "YlterPb7f3tM",
        "outputId": "5111d43c-91cc-4bdf-e54a-c02a13fb4285"
      },
      "outputs": [
        {
          "data": {
            "text/plain": [
              "array([0.1663549 , 0.12969876, 0.11177816, ..., 0.13482666, 0.10030066,\n",
              "       0.10221578])"
            ]
          },
          "execution_count": 67,
          "metadata": {},
          "output_type": "execute_result"
        }
      ],
      "source": [
        "y_hat_test_lgd_step_2_all"
      ]
    },
    {
      "cell_type": "code",
      "execution_count": 68,
      "metadata": {
        "id": "yDoLGDEbf3tM"
      },
      "outputs": [],
      "source": [
        "# combining the predictions of the models from the two steps.y_hat_test_proba_lgd_step_1\n",
        "y_hat_test_lgd = y_hat_test_lgd_step_1 * y_hat_test_lgd_step_2_all "
      ]
    },
    {
      "cell_type": "code",
      "execution_count": 69,
      "metadata": {
        "colab": {
          "base_uri": "https://localhost:8080/",
          "height": 300
        },
        "id": "wvSZhFZIf3tN",
        "outputId": "1ef5dffa-0a95-4057-a62a-b85aa3bf8286"
      },
      "outputs": [
        {
          "data": {
            "text/html": [
              "\n",
              "  <div id=\"df-0b5e7dfb-accc-44d8-aeff-52835708307f\">\n",
              "    <div class=\"colab-df-container\">\n",
              "      <div>\n",
              "<style scoped>\n",
              "    .dataframe tbody tr th:only-of-type {\n",
              "        vertical-align: middle;\n",
              "    }\n",
              "\n",
              "    .dataframe tbody tr th {\n",
              "        vertical-align: top;\n",
              "    }\n",
              "\n",
              "    .dataframe thead th {\n",
              "        text-align: right;\n",
              "    }\n",
              "</style>\n",
              "<table border=\"1\" class=\"dataframe\">\n",
              "  <thead>\n",
              "    <tr style=\"text-align: right;\">\n",
              "      <th></th>\n",
              "      <th>0</th>\n",
              "    </tr>\n",
              "  </thead>\n",
              "  <tbody>\n",
              "    <tr>\n",
              "      <th>count</th>\n",
              "      <td>8648.000000</td>\n",
              "    </tr>\n",
              "    <tr>\n",
              "      <th>mean</th>\n",
              "      <td>0.081082</td>\n",
              "    </tr>\n",
              "    <tr>\n",
              "      <th>std</th>\n",
              "      <td>0.052044</td>\n",
              "    </tr>\n",
              "    <tr>\n",
              "      <th>min</th>\n",
              "      <td>-0.004608</td>\n",
              "    </tr>\n",
              "    <tr>\n",
              "      <th>25%</th>\n",
              "      <td>0.031443</td>\n",
              "    </tr>\n",
              "    <tr>\n",
              "      <th>50%</th>\n",
              "      <td>0.097587</td>\n",
              "    </tr>\n",
              "    <tr>\n",
              "      <th>75%</th>\n",
              "      <td>0.120525</td>\n",
              "    </tr>\n",
              "    <tr>\n",
              "      <th>max</th>\n",
              "      <td>0.240395</td>\n",
              "    </tr>\n",
              "  </tbody>\n",
              "</table>\n",
              "</div>\n",
              "      <button class=\"colab-df-convert\" onclick=\"convertToInteractive('df-0b5e7dfb-accc-44d8-aeff-52835708307f')\"\n",
              "              title=\"Convert this dataframe to an interactive table.\"\n",
              "              style=\"display:none;\">\n",
              "        \n",
              "  <svg xmlns=\"http://www.w3.org/2000/svg\" height=\"24px\"viewBox=\"0 0 24 24\"\n",
              "       width=\"24px\">\n",
              "    <path d=\"M0 0h24v24H0V0z\" fill=\"none\"/>\n",
              "    <path d=\"M18.56 5.44l.94 2.06.94-2.06 2.06-.94-2.06-.94-.94-2.06-.94 2.06-2.06.94zm-11 1L8.5 8.5l.94-2.06 2.06-.94-2.06-.94L8.5 2.5l-.94 2.06-2.06.94zm10 10l.94 2.06.94-2.06 2.06-.94-2.06-.94-.94-2.06-.94 2.06-2.06.94z\"/><path d=\"M17.41 7.96l-1.37-1.37c-.4-.4-.92-.59-1.43-.59-.52 0-1.04.2-1.43.59L10.3 9.45l-7.72 7.72c-.78.78-.78 2.05 0 2.83L4 21.41c.39.39.9.59 1.41.59.51 0 1.02-.2 1.41-.59l7.78-7.78 2.81-2.81c.8-.78.8-2.07 0-2.86zM5.41 20L4 18.59l7.72-7.72 1.47 1.35L5.41 20z\"/>\n",
              "  </svg>\n",
              "      </button>\n",
              "      \n",
              "  <style>\n",
              "    .colab-df-container {\n",
              "      display:flex;\n",
              "      flex-wrap:wrap;\n",
              "      gap: 12px;\n",
              "    }\n",
              "\n",
              "    .colab-df-convert {\n",
              "      background-color: #E8F0FE;\n",
              "      border: none;\n",
              "      border-radius: 50%;\n",
              "      cursor: pointer;\n",
              "      display: none;\n",
              "      fill: #1967D2;\n",
              "      height: 32px;\n",
              "      padding: 0 0 0 0;\n",
              "      width: 32px;\n",
              "    }\n",
              "\n",
              "    .colab-df-convert:hover {\n",
              "      background-color: #E2EBFA;\n",
              "      box-shadow: 0px 1px 2px rgba(60, 64, 67, 0.3), 0px 1px 3px 1px rgba(60, 64, 67, 0.15);\n",
              "      fill: #174EA6;\n",
              "    }\n",
              "\n",
              "    [theme=dark] .colab-df-convert {\n",
              "      background-color: #3B4455;\n",
              "      fill: #D2E3FC;\n",
              "    }\n",
              "\n",
              "    [theme=dark] .colab-df-convert:hover {\n",
              "      background-color: #434B5C;\n",
              "      box-shadow: 0px 1px 3px 1px rgba(0, 0, 0, 0.15);\n",
              "      filter: drop-shadow(0px 1px 2px rgba(0, 0, 0, 0.3));\n",
              "      fill: #FFFFFF;\n",
              "    }\n",
              "  </style>\n",
              "\n",
              "      <script>\n",
              "        const buttonEl =\n",
              "          document.querySelector('#df-0b5e7dfb-accc-44d8-aeff-52835708307f button.colab-df-convert');\n",
              "        buttonEl.style.display =\n",
              "          google.colab.kernel.accessAllowed ? 'block' : 'none';\n",
              "\n",
              "        async function convertToInteractive(key) {\n",
              "          const element = document.querySelector('#df-0b5e7dfb-accc-44d8-aeff-52835708307f');\n",
              "          const dataTable =\n",
              "            await google.colab.kernel.invokeFunction('convertToInteractive',\n",
              "                                                     [key], {});\n",
              "          if (!dataTable) return;\n",
              "\n",
              "          const docLinkHtml = 'Like what you see? Visit the ' +\n",
              "            '<a target=\"_blank\" href=https://colab.research.google.com/notebooks/data_table.ipynb>data table notebook</a>'\n",
              "            + ' to learn more about interactive tables.';\n",
              "          element.innerHTML = '';\n",
              "          dataTable['output_type'] = 'display_data';\n",
              "          await google.colab.output.renderOutput(dataTable, element);\n",
              "          const docLink = document.createElement('div');\n",
              "          docLink.innerHTML = docLinkHtml;\n",
              "          element.appendChild(docLink);\n",
              "        }\n",
              "      </script>\n",
              "    </div>\n",
              "  </div>\n",
              "  "
            ],
            "text/plain": [
              "                 0\n",
              "count  8648.000000\n",
              "mean      0.081082\n",
              "std       0.052044\n",
              "min      -0.004608\n",
              "25%       0.031443\n",
              "50%       0.097587\n",
              "75%       0.120525\n",
              "max       0.240395"
            ]
          },
          "execution_count": 69,
          "metadata": {},
          "output_type": "execute_result"
        }
      ],
      "source": [
        "# Showing descriptive stats \n",
        "pd.DataFrame(y_hat_test_lgd).describe()\n"
      ]
    },
    {
      "cell_type": "code",
      "execution_count": 70,
      "metadata": {
        "id": "jjJ8h5Jyf3tN"
      },
      "outputs": [],
      "source": [
        "y_hat_test_lgd = np.where(y_hat_test_lgd < 0, 0, y_hat_test_lgd)\n",
        "y_hat_test_lgd = np.where(y_hat_test_lgd > 1, 1, y_hat_test_lgd)\n",
        "# We set predicted values that are greater than 1 to 1 and predicted values that are less than 0 to 0."
      ]
    },
    {
      "cell_type": "code",
      "execution_count": 71,
      "metadata": {
        "colab": {
          "base_uri": "https://localhost:8080/",
          "height": 300
        },
        "id": "gOsejnVXf3tO",
        "outputId": "bc852629-5591-4df9-9ad3-269d4abba025"
      },
      "outputs": [
        {
          "data": {
            "text/html": [
              "\n",
              "  <div id=\"df-a3b25ec4-313b-4865-8512-90b5dd099721\">\n",
              "    <div class=\"colab-df-container\">\n",
              "      <div>\n",
              "<style scoped>\n",
              "    .dataframe tbody tr th:only-of-type {\n",
              "        vertical-align: middle;\n",
              "    }\n",
              "\n",
              "    .dataframe tbody tr th {\n",
              "        vertical-align: top;\n",
              "    }\n",
              "\n",
              "    .dataframe thead th {\n",
              "        text-align: right;\n",
              "    }\n",
              "</style>\n",
              "<table border=\"1\" class=\"dataframe\">\n",
              "  <thead>\n",
              "    <tr style=\"text-align: right;\">\n",
              "      <th></th>\n",
              "      <th>0</th>\n",
              "    </tr>\n",
              "  </thead>\n",
              "  <tbody>\n",
              "    <tr>\n",
              "      <th>count</th>\n",
              "      <td>8648.000000</td>\n",
              "    </tr>\n",
              "    <tr>\n",
              "      <th>mean</th>\n",
              "      <td>0.081083</td>\n",
              "    </tr>\n",
              "    <tr>\n",
              "      <th>std</th>\n",
              "      <td>0.052042</td>\n",
              "    </tr>\n",
              "    <tr>\n",
              "      <th>min</th>\n",
              "      <td>0.000000</td>\n",
              "    </tr>\n",
              "    <tr>\n",
              "      <th>25%</th>\n",
              "      <td>0.031443</td>\n",
              "    </tr>\n",
              "    <tr>\n",
              "      <th>50%</th>\n",
              "      <td>0.097587</td>\n",
              "    </tr>\n",
              "    <tr>\n",
              "      <th>75%</th>\n",
              "      <td>0.120525</td>\n",
              "    </tr>\n",
              "    <tr>\n",
              "      <th>max</th>\n",
              "      <td>0.240395</td>\n",
              "    </tr>\n",
              "  </tbody>\n",
              "</table>\n",
              "</div>\n",
              "      <button class=\"colab-df-convert\" onclick=\"convertToInteractive('df-a3b25ec4-313b-4865-8512-90b5dd099721')\"\n",
              "              title=\"Convert this dataframe to an interactive table.\"\n",
              "              style=\"display:none;\">\n",
              "        \n",
              "  <svg xmlns=\"http://www.w3.org/2000/svg\" height=\"24px\"viewBox=\"0 0 24 24\"\n",
              "       width=\"24px\">\n",
              "    <path d=\"M0 0h24v24H0V0z\" fill=\"none\"/>\n",
              "    <path d=\"M18.56 5.44l.94 2.06.94-2.06 2.06-.94-2.06-.94-.94-2.06-.94 2.06-2.06.94zm-11 1L8.5 8.5l.94-2.06 2.06-.94-2.06-.94L8.5 2.5l-.94 2.06-2.06.94zm10 10l.94 2.06.94-2.06 2.06-.94-2.06-.94-.94-2.06-.94 2.06-2.06.94z\"/><path d=\"M17.41 7.96l-1.37-1.37c-.4-.4-.92-.59-1.43-.59-.52 0-1.04.2-1.43.59L10.3 9.45l-7.72 7.72c-.78.78-.78 2.05 0 2.83L4 21.41c.39.39.9.59 1.41.59.51 0 1.02-.2 1.41-.59l7.78-7.78 2.81-2.81c.8-.78.8-2.07 0-2.86zM5.41 20L4 18.59l7.72-7.72 1.47 1.35L5.41 20z\"/>\n",
              "  </svg>\n",
              "      </button>\n",
              "      \n",
              "  <style>\n",
              "    .colab-df-container {\n",
              "      display:flex;\n",
              "      flex-wrap:wrap;\n",
              "      gap: 12px;\n",
              "    }\n",
              "\n",
              "    .colab-df-convert {\n",
              "      background-color: #E8F0FE;\n",
              "      border: none;\n",
              "      border-radius: 50%;\n",
              "      cursor: pointer;\n",
              "      display: none;\n",
              "      fill: #1967D2;\n",
              "      height: 32px;\n",
              "      padding: 0 0 0 0;\n",
              "      width: 32px;\n",
              "    }\n",
              "\n",
              "    .colab-df-convert:hover {\n",
              "      background-color: #E2EBFA;\n",
              "      box-shadow: 0px 1px 2px rgba(60, 64, 67, 0.3), 0px 1px 3px 1px rgba(60, 64, 67, 0.15);\n",
              "      fill: #174EA6;\n",
              "    }\n",
              "\n",
              "    [theme=dark] .colab-df-convert {\n",
              "      background-color: #3B4455;\n",
              "      fill: #D2E3FC;\n",
              "    }\n",
              "\n",
              "    [theme=dark] .colab-df-convert:hover {\n",
              "      background-color: #434B5C;\n",
              "      box-shadow: 0px 1px 3px 1px rgba(0, 0, 0, 0.15);\n",
              "      filter: drop-shadow(0px 1px 2px rgba(0, 0, 0, 0.3));\n",
              "      fill: #FFFFFF;\n",
              "    }\n",
              "  </style>\n",
              "\n",
              "      <script>\n",
              "        const buttonEl =\n",
              "          document.querySelector('#df-a3b25ec4-313b-4865-8512-90b5dd099721 button.colab-df-convert');\n",
              "        buttonEl.style.display =\n",
              "          google.colab.kernel.accessAllowed ? 'block' : 'none';\n",
              "\n",
              "        async function convertToInteractive(key) {\n",
              "          const element = document.querySelector('#df-a3b25ec4-313b-4865-8512-90b5dd099721');\n",
              "          const dataTable =\n",
              "            await google.colab.kernel.invokeFunction('convertToInteractive',\n",
              "                                                     [key], {});\n",
              "          if (!dataTable) return;\n",
              "\n",
              "          const docLinkHtml = 'Like what you see? Visit the ' +\n",
              "            '<a target=\"_blank\" href=https://colab.research.google.com/notebooks/data_table.ipynb>data table notebook</a>'\n",
              "            + ' to learn more about interactive tables.';\n",
              "          element.innerHTML = '';\n",
              "          dataTable['output_type'] = 'display_data';\n",
              "          await google.colab.output.renderOutput(dataTable, element);\n",
              "          const docLink = document.createElement('div');\n",
              "          docLink.innerHTML = docLinkHtml;\n",
              "          element.appendChild(docLink);\n",
              "        }\n",
              "      </script>\n",
              "    </div>\n",
              "  </div>\n",
              "  "
            ],
            "text/plain": [
              "                 0\n",
              "count  8648.000000\n",
              "mean      0.081083\n",
              "std       0.052042\n",
              "min       0.000000\n",
              "25%       0.031443\n",
              "50%       0.097587\n",
              "75%       0.120525\n",
              "max       0.240395"
            ]
          },
          "execution_count": 71,
          "metadata": {},
          "output_type": "execute_result"
        }
      ],
      "source": [
        "pd.DataFrame(y_hat_test_lgd).describe()\n",
        "# Shows some descriptive statisics for the values of a column."
      ]
    },
    {
      "cell_type": "markdown",
      "metadata": {
        "id": "sH5OWVkQ5f0A"
      },
      "source": [
        "#3 EAD Model\n",
        "\n",
        "Exposure at default (EAD)\n",
        "\n",
        "EAD is the predicted amount of loss a bank is exposed to."
      ]
    },
    {
      "cell_type": "markdown",
      "metadata": {
        "id": "bBsgDjSn5f0B"
      },
      "source": [
        "### a Linear modeling and interpreation"
      ]
    },
    {
      "cell_type": "code",
      "execution_count": 72,
      "metadata": {
        "id": "RlOGOzTO5f0F"
      },
      "outputs": [],
      "source": [
        "# EAD model datasets\n",
        "# Splitting into Inputs - Train n Test, Targets - Train n Test.\n",
        "ead_X = loan_data_defaults.drop([ 'recovery_rate','recovery_rate_0_1', 'CCF'], axis = 1)\n",
        "ead_Y = loan_data_defaults['CCF']\n",
        "ead_X_train, ead_X_test, ead_Y_train, ead_Y_test = train_test_split(ead_X, ead_Y, test_size = 0.2, random_state = 42)\n",
        "ead_X, ead_Y = [],[]"
      ]
    },
    {
      "cell_type": "code",
      "execution_count": 73,
      "metadata": {
        "colab": {
          "base_uri": "https://localhost:8080/"
        },
        "id": "9bPzSrQS5f0F",
        "outputId": "56161cab-c639-40f7-bd0e-5338ce2a2330"
      },
      "outputs": [
        {
          "data": {
            "text/plain": [
              "array(['Unnamed: 0.1', 'id', 'member_id', 'loan_amnt', 'funded_amnt',\n",
              "       'funded_amnt_inv', 'term', 'int_rate', 'installment', 'grade',\n",
              "       'sub_grade', 'emp_title', 'emp_length', 'home_ownership',\n",
              "       'annual_inc', 'verification_status', 'issue_d', 'loan_status',\n",
              "       'pymnt_plan', 'url', 'desc', 'purpose', 'title', 'zip_code',\n",
              "       'addr_state', 'dti', 'delinq_2yrs', 'earliest_cr_line',\n",
              "       'inq_last_6mths', 'mths_since_last_delinq',\n",
              "       'mths_since_last_record', 'open_acc', 'pub_rec', 'revol_bal',\n",
              "       'revol_util', 'total_acc', 'initial_list_status', 'out_prncp',\n",
              "       'out_prncp_inv', 'total_pymnt', 'total_pymnt_inv',\n",
              "       'total_rec_prncp', 'total_rec_int', 'total_rec_late_fee',\n",
              "       'recoveries', 'collection_recovery_fee', 'last_pymnt_d',\n",
              "       'last_pymnt_amnt', 'next_pymnt_d', 'last_credit_pull_d',\n",
              "       'collections_12_mths_ex_med', 'mths_since_last_major_derog',\n",
              "       'policy_code', 'application_type', 'annual_inc_joint', 'dti_joint',\n",
              "       'verification_status_joint', 'acc_now_delinq', 'tot_coll_amt',\n",
              "       'tot_cur_bal', 'open_acc_6m', 'open_il_6m', 'open_il_12m',\n",
              "       'open_il_24m', 'mths_since_rcnt_il', 'total_bal_il', 'il_util',\n",
              "       'open_rv_12m', 'open_rv_24m', 'max_bal_bc', 'all_util',\n",
              "       'total_rev_hi_lim', 'inq_fi', 'total_cu_tl', 'inq_last_12m',\n",
              "       'emp_length_int', 'earliest_cr_line_date',\n",
              "       'mths_since_earliest_cr_line', 'term_int', 'issue_d_date',\n",
              "       'mths_since_issue_d', 'grade:A', 'grade:B', 'grade:C', 'grade:D',\n",
              "       'grade:E', 'grade:F', 'grade:G', 'sub_grade:A1', 'sub_grade:A2',\n",
              "       'sub_grade:A3', 'sub_grade:A4', 'sub_grade:A5', 'sub_grade:B1',\n",
              "       'sub_grade:B2', 'sub_grade:B3', 'sub_grade:B4', 'sub_grade:B5',\n",
              "       'sub_grade:C1', 'sub_grade:C2', 'sub_grade:C3', 'sub_grade:C4',\n",
              "       'sub_grade:C5', 'sub_grade:D1', 'sub_grade:D2', 'sub_grade:D3',\n",
              "       'sub_grade:D4', 'sub_grade:D5', 'sub_grade:E1', 'sub_grade:E2',\n",
              "       'sub_grade:E3', 'sub_grade:E4', 'sub_grade:E5', 'sub_grade:F1',\n",
              "       'sub_grade:F2', 'sub_grade:F3', 'sub_grade:F4', 'sub_grade:F5',\n",
              "       'sub_grade:G1', 'sub_grade:G2', 'sub_grade:G3', 'sub_grade:G4',\n",
              "       'sub_grade:G5', 'home_ownership:ANY', 'home_ownership:MORTGAGE',\n",
              "       'home_ownership:NONE', 'home_ownership:OTHER',\n",
              "       'home_ownership:OWN', 'home_ownership:RENT',\n",
              "       'verification_status:Not Verified',\n",
              "       'verification_status:Source Verified',\n",
              "       'verification_status:Verified', 'loan_status:Charged Off',\n",
              "       'loan_status:Current', 'loan_status:Default',\n",
              "       'loan_status:Does not meet the credit policy. Status:Charged Off',\n",
              "       'loan_status:Does not meet the credit policy. Status:Fully Paid',\n",
              "       'loan_status:Fully Paid', 'loan_status:In Grace Period',\n",
              "       'loan_status:Late (16-30 days)', 'loan_status:Late (31-120 days)',\n",
              "       'purpose:car', 'purpose:credit_card', 'purpose:debt_consolidation',\n",
              "       'purpose:educational', 'purpose:home_improvement', 'purpose:house',\n",
              "       'purpose:major_purchase', 'purpose:medical', 'purpose:moving',\n",
              "       'purpose:other', 'purpose:renewable_energy',\n",
              "       'purpose:small_business', 'purpose:vacation', 'purpose:wedding',\n",
              "       'addr_state:AK', 'addr_state:AL', 'addr_state:AR', 'addr_state:AZ',\n",
              "       'addr_state:CA', 'addr_state:CO', 'addr_state:CT', 'addr_state:DC',\n",
              "       'addr_state:DE', 'addr_state:FL', 'addr_state:GA', 'addr_state:HI',\n",
              "       'addr_state:IA', 'addr_state:ID', 'addr_state:IL', 'addr_state:IN',\n",
              "       'addr_state:KS', 'addr_state:KY', 'addr_state:LA', 'addr_state:MA',\n",
              "       'addr_state:MD', 'addr_state:ME', 'addr_state:MI', 'addr_state:MN',\n",
              "       'addr_state:MO', 'addr_state:MS', 'addr_state:MT', 'addr_state:NC',\n",
              "       'addr_state:NE', 'addr_state:NH', 'addr_state:NJ', 'addr_state:NM',\n",
              "       'addr_state:NV', 'addr_state:NY', 'addr_state:OH', 'addr_state:OK',\n",
              "       'addr_state:OR', 'addr_state:PA', 'addr_state:RI', 'addr_state:SC',\n",
              "       'addr_state:SD', 'addr_state:TN', 'addr_state:TX', 'addr_state:UT',\n",
              "       'addr_state:VA', 'addr_state:VT', 'addr_state:WA', 'addr_state:WI',\n",
              "       'addr_state:WV', 'addr_state:WY', 'initial_list_status:f',\n",
              "       'initial_list_status:w', 'home_ownership:RENT_OTHER_NONE_ANY',\n",
              "       'addr_state:ND', 'addr_state:ND_NE_IA_NV_FL_HI_AL',\n",
              "       'addr_state:NM_VA', 'addr_state:OK_TN_MO_LA_MD_NC',\n",
              "       'addr_state:UT_KY_AZ_NJ', 'addr_state:AR_MI_PA_OH_MN',\n",
              "       'addr_state:RI_MA_DE_SD_IN', 'addr_state:GA_WA_OR',\n",
              "       'addr_state:WI_MT', 'addr_state:IL_CT',\n",
              "       'addr_state:KS_SC_CO_VT_AK_MS', 'addr_state:WV_NH_WY_DC_ME_ID',\n",
              "       'purpose:educ__sm_b__wedd__ren_en__mov__house',\n",
              "       'purpose:oth__med__vacation',\n",
              "       'purpose:major_purch__car__home_impr', 'term:36', 'term:60',\n",
              "       'emp_length:0', 'emp_length:1', 'emp_length:2-4', 'emp_length:5-6',\n",
              "       'emp_length:7-9', 'emp_length:10', 'mths_since_issue_d_factor',\n",
              "       'int_rate:<9.548', 'int_rate:9.548-12.025',\n",
              "       'int_rate:12.025-15.74', 'int_rate:15.74-20.281',\n",
              "       'int_rate:>20.281', 'funded_amnt_factor',\n",
              "       'mths_since_earliest_cr_line_factor',\n",
              "       'mths_since_earliest_cr_line:<140',\n",
              "       'mths_since_earliest_cr_line:141-164',\n",
              "       'mths_since_earliest_cr_line:165-247',\n",
              "       'mths_since_earliest_cr_line:248-270',\n",
              "       'mths_since_earliest_cr_line:271-352',\n",
              "       'mths_since_earliest_cr_line:>352', 'delinq_2yrs:0',\n",
              "       'delinq_2yrs:1-3', 'delinq_2yrs:>=4', 'inq_last_6mths:0',\n",
              "       'inq_last_6mths:1-2', 'inq_last_6mths:3-6', 'inq_last_6mths:>6',\n",
              "       'open_acc:0', 'open_acc:1-3', 'open_acc:4-12', 'open_acc:13-17',\n",
              "       'open_acc:18-22', 'open_acc:23-25', 'open_acc:26-30',\n",
              "       'open_acc:>=31', 'pub_rec:0-2', 'pub_rec:3-4', 'pub_rec:>=5',\n",
              "       'total_acc_factor', 'total_acc:<=27', 'total_acc:28-51',\n",
              "       'total_acc:>=52', 'acc_now_delinq:0', 'acc_now_delinq:>=1',\n",
              "       'total_rev_hi_lim_factor', 'total_rev_hi_lim:<=5K',\n",
              "       'total_rev_hi_lim:5K-10K', 'total_rev_hi_lim:10K-20K',\n",
              "       'total_rev_hi_lim:20K-30K', 'total_rev_hi_lim:30K-40K',\n",
              "       'total_rev_hi_lim:40K-55K', 'total_rev_hi_lim:55K-95K',\n",
              "       'total_rev_hi_lim:>95K', 'installment_factor', 'annual_inc_factor',\n",
              "       'annual_inc:<20K', 'annual_inc:20K-30K', 'annual_inc:30K-40K',\n",
              "       'annual_inc:40K-50K', 'annual_inc:50K-60K', 'annual_inc:60K-70K',\n",
              "       'annual_inc:70K-80K', 'annual_inc:80K-90K', 'annual_inc:90K-100K',\n",
              "       'annual_inc:100K-120K', 'annual_inc:120K-140K', 'annual_inc:>140K',\n",
              "       'mths_since_last_delinq:Missing', 'mths_since_last_delinq:0-3',\n",
              "       'mths_since_last_delinq:4-30', 'mths_since_last_delinq:31-56',\n",
              "       'mths_since_last_delinq:>=57', 'dti_factor', 'dti:<=1.4',\n",
              "       'dti:1.4-3.5', 'dti:3.5-7.7', 'dti:7.7-10.5', 'dti:10.5-16.1',\n",
              "       'dti:16.1-20.3', 'dti:20.3-21.7', 'dti:21.7-22.4', 'dti:22.4-35',\n",
              "       'dti:>35', 'mths_since_last_record:Missing',\n",
              "       'mths_since_last_record:0-2', 'mths_since_last_record:3-20',\n",
              "       'mths_since_last_record:21-31', 'mths_since_last_record:32-80',\n",
              "       'mths_since_last_record:81-86', 'mths_since_last_record:>=86'],\n",
              "      dtype=object)"
            ]
          },
          "execution_count": 73,
          "metadata": {},
          "output_type": "execute_result"
        }
      ],
      "source": [
        "ead_X_train.columns.values"
      ]
    },
    {
      "cell_type": "code",
      "execution_count": 74,
      "metadata": {
        "id": "bt0NbA-D5f0G"
      },
      "outputs": [],
      "source": [
        "# Keeping only the variables we need n removing the dummy var. reference categories.\n",
        "ead_X_train = ead_X_train[features_all]\n",
        "ead_X_train = ead_X_train.drop(features_reference_cat, axis = 1)"
      ]
    },
    {
      "cell_type": "code",
      "execution_count": 75,
      "metadata": {
        "colab": {
          "base_uri": "https://localhost:8080/"
        },
        "id": "gWh08j-G5f0I",
        "outputId": "3e2fd2fe-2846-4249-93ba-cb8f37e78510"
      },
      "outputs": [
        {
          "name": "stderr",
          "output_type": "stream",
          "text": [
            "/usr/local/lib/python3.8/dist-packages/sklearn/linear_model/_base.py:148: FutureWarning: 'normalize' was deprecated in version 1.0 and will be removed in 1.2. Please leave the normalize parameter to its default value to silence this warning. The default behavior of this estimator is to not do any normalization. If normalization is needed please use sklearn.preprocessing.StandardScaler instead.\n",
            "  warnings.warn(\n"
          ]
        },
        {
          "data": {
            "text/plain": [
              "LinearRegression()"
            ]
          },
          "execution_count": 75,
          "metadata": {},
          "output_type": "execute_result"
        }
      ],
      "source": [
        "# Creating an instance of an object from the 'LogisticRegression' class.\n",
        "reg_ead = LinearRegression()\n",
        "# Estimates the coefficients of the object from the 'LogisticRegression' class\n",
        "# with inputs (independent variables) contained in the first dataframe\n",
        "# and targets (dependent variables) contained in the second dataframe.\n",
        "reg_ead.fit(ead_X_train, ead_Y_train)"
      ]
    },
    {
      "cell_type": "code",
      "execution_count": 76,
      "metadata": {
        "id": "hZ5Eqy-H5f0I"
      },
      "outputs": [],
      "source": [
        "feature_name = ead_X_train.columns.values"
      ]
    },
    {
      "cell_type": "code",
      "execution_count": 77,
      "metadata": {
        "colab": {
          "base_uri": "https://localhost:8080/",
          "height": 1000
        },
        "id": "wzzo0ssC5f0K",
        "outputId": "f9c76421-8281-4326-aadc-fe6dbb86aa3b"
      },
      "outputs": [
        {
          "data": {
            "text/html": [
              "\n",
              "  <div id=\"df-45ced845-a23c-4953-b4ba-b92840329af6\">\n",
              "    <div class=\"colab-df-container\">\n",
              "      <div>\n",
              "<style scoped>\n",
              "    .dataframe tbody tr th:only-of-type {\n",
              "        vertical-align: middle;\n",
              "    }\n",
              "\n",
              "    .dataframe tbody tr th {\n",
              "        vertical-align: top;\n",
              "    }\n",
              "\n",
              "    .dataframe thead th {\n",
              "        text-align: right;\n",
              "    }\n",
              "</style>\n",
              "<table border=\"1\" class=\"dataframe\">\n",
              "  <thead>\n",
              "    <tr style=\"text-align: right;\">\n",
              "      <th></th>\n",
              "      <th>Feature name</th>\n",
              "      <th>Coefficients</th>\n",
              "      <th>p_values</th>\n",
              "    </tr>\n",
              "  </thead>\n",
              "  <tbody>\n",
              "    <tr>\n",
              "      <th>0</th>\n",
              "      <td>Intercept</td>\n",
              "      <td>1.093109e+00</td>\n",
              "      <td>NaN</td>\n",
              "    </tr>\n",
              "    <tr>\n",
              "      <th>1</th>\n",
              "      <td>grade:A</td>\n",
              "      <td>-2.894280e-01</td>\n",
              "      <td>0.000000e+00</td>\n",
              "    </tr>\n",
              "    <tr>\n",
              "      <th>2</th>\n",
              "      <td>grade:B</td>\n",
              "      <td>-2.244236e-01</td>\n",
              "      <td>0.000000e+00</td>\n",
              "    </tr>\n",
              "    <tr>\n",
              "      <th>3</th>\n",
              "      <td>grade:C</td>\n",
              "      <td>-1.633793e-01</td>\n",
              "      <td>0.000000e+00</td>\n",
              "    </tr>\n",
              "    <tr>\n",
              "      <th>4</th>\n",
              "      <td>grade:D</td>\n",
              "      <td>-1.130644e-01</td>\n",
              "      <td>0.000000e+00</td>\n",
              "    </tr>\n",
              "    <tr>\n",
              "      <th>5</th>\n",
              "      <td>grade:E</td>\n",
              "      <td>-6.468983e-02</td>\n",
              "      <td>0.000000e+00</td>\n",
              "    </tr>\n",
              "    <tr>\n",
              "      <th>6</th>\n",
              "      <td>grade:F</td>\n",
              "      <td>-1.992519e-02</td>\n",
              "      <td>4.857475e-03</td>\n",
              "    </tr>\n",
              "    <tr>\n",
              "      <th>7</th>\n",
              "      <td>home_ownership:MORTGAGE</td>\n",
              "      <td>-6.689340e-03</td>\n",
              "      <td>1.415782e-03</td>\n",
              "    </tr>\n",
              "    <tr>\n",
              "      <th>8</th>\n",
              "      <td>home_ownership:NONE</td>\n",
              "      <td>2.396226e-02</td>\n",
              "      <td>7.533518e-01</td>\n",
              "    </tr>\n",
              "    <tr>\n",
              "      <th>9</th>\n",
              "      <td>home_ownership:OTHER</td>\n",
              "      <td>2.162196e-04</td>\n",
              "      <td>9.944750e-01</td>\n",
              "    </tr>\n",
              "    <tr>\n",
              "      <th>10</th>\n",
              "      <td>home_ownership:OWN</td>\n",
              "      <td>-2.584020e-04</td>\n",
              "      <td>9.396466e-01</td>\n",
              "    </tr>\n",
              "    <tr>\n",
              "      <th>11</th>\n",
              "      <td>verification_status:Not Verified</td>\n",
              "      <td>6.505650e-04</td>\n",
              "      <td>7.922958e-01</td>\n",
              "    </tr>\n",
              "    <tr>\n",
              "      <th>12</th>\n",
              "      <td>verification_status:Source Verified</td>\n",
              "      <td>1.036996e-02</td>\n",
              "      <td>4.108459e-06</td>\n",
              "    </tr>\n",
              "    <tr>\n",
              "      <th>13</th>\n",
              "      <td>purpose:car</td>\n",
              "      <td>4.870050e-03</td>\n",
              "      <td>6.093420e-01</td>\n",
              "    </tr>\n",
              "    <tr>\n",
              "      <th>14</th>\n",
              "      <td>purpose:debt_consolidation</td>\n",
              "      <td>1.238623e-02</td>\n",
              "      <td>9.557719e-07</td>\n",
              "    </tr>\n",
              "    <tr>\n",
              "      <th>15</th>\n",
              "      <td>purpose:educational</td>\n",
              "      <td>1.121350e-01</td>\n",
              "      <td>5.340905e-08</td>\n",
              "    </tr>\n",
              "    <tr>\n",
              "      <th>16</th>\n",
              "      <td>purpose:home_improvement</td>\n",
              "      <td>2.070804e-02</td>\n",
              "      <td>1.272074e-05</td>\n",
              "    </tr>\n",
              "    <tr>\n",
              "      <th>17</th>\n",
              "      <td>purpose:house</td>\n",
              "      <td>2.605162e-02</td>\n",
              "      <td>2.523816e-02</td>\n",
              "    </tr>\n",
              "    <tr>\n",
              "      <th>18</th>\n",
              "      <td>purpose:major_purchase</td>\n",
              "      <td>2.956049e-02</td>\n",
              "      <td>2.847606e-05</td>\n",
              "    </tr>\n",
              "    <tr>\n",
              "      <th>19</th>\n",
              "      <td>purpose:medical</td>\n",
              "      <td>4.932165e-02</td>\n",
              "      <td>1.032377e-08</td>\n",
              "    </tr>\n",
              "    <tr>\n",
              "      <th>20</th>\n",
              "      <td>purpose:moving</td>\n",
              "      <td>4.347943e-02</td>\n",
              "      <td>1.092930e-05</td>\n",
              "    </tr>\n",
              "    <tr>\n",
              "      <th>21</th>\n",
              "      <td>purpose:other</td>\n",
              "      <td>3.749741e-02</td>\n",
              "      <td>0.000000e+00</td>\n",
              "    </tr>\n",
              "    <tr>\n",
              "      <th>22</th>\n",
              "      <td>purpose:renewable_energy</td>\n",
              "      <td>5.135287e-02</td>\n",
              "      <td>5.491176e-02</td>\n",
              "    </tr>\n",
              "    <tr>\n",
              "      <th>23</th>\n",
              "      <td>purpose:small_business</td>\n",
              "      <td>5.606478e-02</td>\n",
              "      <td>0.000000e+00</td>\n",
              "    </tr>\n",
              "    <tr>\n",
              "      <th>24</th>\n",
              "      <td>purpose:vacation</td>\n",
              "      <td>2.230897e-02</td>\n",
              "      <td>6.075015e-02</td>\n",
              "    </tr>\n",
              "    <tr>\n",
              "      <th>25</th>\n",
              "      <td>purpose:wedding</td>\n",
              "      <td>4.068196e-02</td>\n",
              "      <td>5.987820e-04</td>\n",
              "    </tr>\n",
              "    <tr>\n",
              "      <th>26</th>\n",
              "      <td>initial_list_status:w</td>\n",
              "      <td>1.135478e-02</td>\n",
              "      <td>4.570390e-07</td>\n",
              "    </tr>\n",
              "    <tr>\n",
              "      <th>27</th>\n",
              "      <td>term_int</td>\n",
              "      <td>4.461634e-03</td>\n",
              "      <td>0.000000e+00</td>\n",
              "    </tr>\n",
              "    <tr>\n",
              "      <th>28</th>\n",
              "      <td>emp_length_int</td>\n",
              "      <td>-1.496432e-03</td>\n",
              "      <td>3.408056e-09</td>\n",
              "    </tr>\n",
              "    <tr>\n",
              "      <th>29</th>\n",
              "      <td>mths_since_issue_d</td>\n",
              "      <td>-4.362774e-03</td>\n",
              "      <td>0.000000e+00</td>\n",
              "    </tr>\n",
              "    <tr>\n",
              "      <th>30</th>\n",
              "      <td>mths_since_earliest_cr_line</td>\n",
              "      <td>-3.515952e-05</td>\n",
              "      <td>3.661106e-03</td>\n",
              "    </tr>\n",
              "    <tr>\n",
              "      <th>31</th>\n",
              "      <td>funded_amnt</td>\n",
              "      <td>2.777873e-06</td>\n",
              "      <td>7.088678e-04</td>\n",
              "    </tr>\n",
              "    <tr>\n",
              "      <th>32</th>\n",
              "      <td>int_rate</td>\n",
              "      <td>-1.077642e-02</td>\n",
              "      <td>0.000000e+00</td>\n",
              "    </tr>\n",
              "    <tr>\n",
              "      <th>33</th>\n",
              "      <td>installment</td>\n",
              "      <td>-8.492034e-05</td>\n",
              "      <td>9.037023e-04</td>\n",
              "    </tr>\n",
              "    <tr>\n",
              "      <th>34</th>\n",
              "      <td>annual_inc</td>\n",
              "      <td>-9.323649e-09</td>\n",
              "      <td>7.376342e-01</td>\n",
              "    </tr>\n",
              "    <tr>\n",
              "      <th>35</th>\n",
              "      <td>dti</td>\n",
              "      <td>3.566809e-04</td>\n",
              "      <td>7.801949e-03</td>\n",
              "    </tr>\n",
              "    <tr>\n",
              "      <th>36</th>\n",
              "      <td>delinq_2yrs</td>\n",
              "      <td>9.071511e-04</td>\n",
              "      <td>4.590465e-01</td>\n",
              "    </tr>\n",
              "    <tr>\n",
              "      <th>37</th>\n",
              "      <td>inq_last_6mths</td>\n",
              "      <td>1.111680e-02</td>\n",
              "      <td>0.000000e+00</td>\n",
              "    </tr>\n",
              "    <tr>\n",
              "      <th>38</th>\n",
              "      <td>mths_since_last_delinq</td>\n",
              "      <td>-2.178356e-04</td>\n",
              "      <td>2.265310e-07</td>\n",
              "    </tr>\n",
              "    <tr>\n",
              "      <th>39</th>\n",
              "      <td>mths_since_last_record</td>\n",
              "      <td>-1.201380e-05</td>\n",
              "      <td>8.190352e-01</td>\n",
              "    </tr>\n",
              "    <tr>\n",
              "      <th>40</th>\n",
              "      <td>open_acc</td>\n",
              "      <td>-1.924013e-03</td>\n",
              "      <td>1.116440e-12</td>\n",
              "    </tr>\n",
              "    <tr>\n",
              "      <th>41</th>\n",
              "      <td>pub_rec</td>\n",
              "      <td>4.947701e-03</td>\n",
              "      <td>1.502406e-01</td>\n",
              "    </tr>\n",
              "    <tr>\n",
              "      <th>42</th>\n",
              "      <td>total_acc</td>\n",
              "      <td>4.585806e-04</td>\n",
              "      <td>1.407058e-04</td>\n",
              "    </tr>\n",
              "    <tr>\n",
              "      <th>43</th>\n",
              "      <td>acc_now_delinq</td>\n",
              "      <td>9.299976e-03</td>\n",
              "      <td>4.790970e-01</td>\n",
              "    </tr>\n",
              "    <tr>\n",
              "      <th>44</th>\n",
              "      <td>total_rev_hi_lim</td>\n",
              "      <td>6.766757e-08</td>\n",
              "      <td>1.531436e-01</td>\n",
              "    </tr>\n",
              "  </tbody>\n",
              "</table>\n",
              "</div>\n",
              "      <button class=\"colab-df-convert\" onclick=\"convertToInteractive('df-45ced845-a23c-4953-b4ba-b92840329af6')\"\n",
              "              title=\"Convert this dataframe to an interactive table.\"\n",
              "              style=\"display:none;\">\n",
              "        \n",
              "  <svg xmlns=\"http://www.w3.org/2000/svg\" height=\"24px\"viewBox=\"0 0 24 24\"\n",
              "       width=\"24px\">\n",
              "    <path d=\"M0 0h24v24H0V0z\" fill=\"none\"/>\n",
              "    <path d=\"M18.56 5.44l.94 2.06.94-2.06 2.06-.94-2.06-.94-.94-2.06-.94 2.06-2.06.94zm-11 1L8.5 8.5l.94-2.06 2.06-.94-2.06-.94L8.5 2.5l-.94 2.06-2.06.94zm10 10l.94 2.06.94-2.06 2.06-.94-2.06-.94-.94-2.06-.94 2.06-2.06.94z\"/><path d=\"M17.41 7.96l-1.37-1.37c-.4-.4-.92-.59-1.43-.59-.52 0-1.04.2-1.43.59L10.3 9.45l-7.72 7.72c-.78.78-.78 2.05 0 2.83L4 21.41c.39.39.9.59 1.41.59.51 0 1.02-.2 1.41-.59l7.78-7.78 2.81-2.81c.8-.78.8-2.07 0-2.86zM5.41 20L4 18.59l7.72-7.72 1.47 1.35L5.41 20z\"/>\n",
              "  </svg>\n",
              "      </button>\n",
              "      \n",
              "  <style>\n",
              "    .colab-df-container {\n",
              "      display:flex;\n",
              "      flex-wrap:wrap;\n",
              "      gap: 12px;\n",
              "    }\n",
              "\n",
              "    .colab-df-convert {\n",
              "      background-color: #E8F0FE;\n",
              "      border: none;\n",
              "      border-radius: 50%;\n",
              "      cursor: pointer;\n",
              "      display: none;\n",
              "      fill: #1967D2;\n",
              "      height: 32px;\n",
              "      padding: 0 0 0 0;\n",
              "      width: 32px;\n",
              "    }\n",
              "\n",
              "    .colab-df-convert:hover {\n",
              "      background-color: #E2EBFA;\n",
              "      box-shadow: 0px 1px 2px rgba(60, 64, 67, 0.3), 0px 1px 3px 1px rgba(60, 64, 67, 0.15);\n",
              "      fill: #174EA6;\n",
              "    }\n",
              "\n",
              "    [theme=dark] .colab-df-convert {\n",
              "      background-color: #3B4455;\n",
              "      fill: #D2E3FC;\n",
              "    }\n",
              "\n",
              "    [theme=dark] .colab-df-convert:hover {\n",
              "      background-color: #434B5C;\n",
              "      box-shadow: 0px 1px 3px 1px rgba(0, 0, 0, 0.15);\n",
              "      filter: drop-shadow(0px 1px 2px rgba(0, 0, 0, 0.3));\n",
              "      fill: #FFFFFF;\n",
              "    }\n",
              "  </style>\n",
              "\n",
              "      <script>\n",
              "        const buttonEl =\n",
              "          document.querySelector('#df-45ced845-a23c-4953-b4ba-b92840329af6 button.colab-df-convert');\n",
              "        buttonEl.style.display =\n",
              "          google.colab.kernel.accessAllowed ? 'block' : 'none';\n",
              "\n",
              "        async function convertToInteractive(key) {\n",
              "          const element = document.querySelector('#df-45ced845-a23c-4953-b4ba-b92840329af6');\n",
              "          const dataTable =\n",
              "            await google.colab.kernel.invokeFunction('convertToInteractive',\n",
              "                                                     [key], {});\n",
              "          if (!dataTable) return;\n",
              "\n",
              "          const docLinkHtml = 'Like what you see? Visit the ' +\n",
              "            '<a target=\"_blank\" href=https://colab.research.google.com/notebooks/data_table.ipynb>data table notebook</a>'\n",
              "            + ' to learn more about interactive tables.';\n",
              "          element.innerHTML = '';\n",
              "          dataTable['output_type'] = 'display_data';\n",
              "          await google.colab.output.renderOutput(dataTable, element);\n",
              "          const docLink = document.createElement('div');\n",
              "          docLink.innerHTML = docLinkHtml;\n",
              "          element.appendChild(docLink);\n",
              "        }\n",
              "      </script>\n",
              "    </div>\n",
              "  </div>\n",
              "  "
            ],
            "text/plain": [
              "                           Feature name  Coefficients      p_values\n",
              "0                             Intercept  1.093109e+00           NaN\n",
              "1                               grade:A -2.894280e-01  0.000000e+00\n",
              "2                               grade:B -2.244236e-01  0.000000e+00\n",
              "3                               grade:C -1.633793e-01  0.000000e+00\n",
              "4                               grade:D -1.130644e-01  0.000000e+00\n",
              "5                               grade:E -6.468983e-02  0.000000e+00\n",
              "6                               grade:F -1.992519e-02  4.857475e-03\n",
              "7               home_ownership:MORTGAGE -6.689340e-03  1.415782e-03\n",
              "8                   home_ownership:NONE  2.396226e-02  7.533518e-01\n",
              "9                  home_ownership:OTHER  2.162196e-04  9.944750e-01\n",
              "10                   home_ownership:OWN -2.584020e-04  9.396466e-01\n",
              "11     verification_status:Not Verified  6.505650e-04  7.922958e-01\n",
              "12  verification_status:Source Verified  1.036996e-02  4.108459e-06\n",
              "13                          purpose:car  4.870050e-03  6.093420e-01\n",
              "14           purpose:debt_consolidation  1.238623e-02  9.557719e-07\n",
              "15                  purpose:educational  1.121350e-01  5.340905e-08\n",
              "16             purpose:home_improvement  2.070804e-02  1.272074e-05\n",
              "17                        purpose:house  2.605162e-02  2.523816e-02\n",
              "18               purpose:major_purchase  2.956049e-02  2.847606e-05\n",
              "19                      purpose:medical  4.932165e-02  1.032377e-08\n",
              "20                       purpose:moving  4.347943e-02  1.092930e-05\n",
              "21                        purpose:other  3.749741e-02  0.000000e+00\n",
              "22             purpose:renewable_energy  5.135287e-02  5.491176e-02\n",
              "23               purpose:small_business  5.606478e-02  0.000000e+00\n",
              "24                     purpose:vacation  2.230897e-02  6.075015e-02\n",
              "25                      purpose:wedding  4.068196e-02  5.987820e-04\n",
              "26                initial_list_status:w  1.135478e-02  4.570390e-07\n",
              "27                             term_int  4.461634e-03  0.000000e+00\n",
              "28                       emp_length_int -1.496432e-03  3.408056e-09\n",
              "29                   mths_since_issue_d -4.362774e-03  0.000000e+00\n",
              "30          mths_since_earliest_cr_line -3.515952e-05  3.661106e-03\n",
              "31                          funded_amnt  2.777873e-06  7.088678e-04\n",
              "32                             int_rate -1.077642e-02  0.000000e+00\n",
              "33                          installment -8.492034e-05  9.037023e-04\n",
              "34                           annual_inc -9.323649e-09  7.376342e-01\n",
              "35                                  dti  3.566809e-04  7.801949e-03\n",
              "36                          delinq_2yrs  9.071511e-04  4.590465e-01\n",
              "37                       inq_last_6mths  1.111680e-02  0.000000e+00\n",
              "38               mths_since_last_delinq -2.178356e-04  2.265310e-07\n",
              "39               mths_since_last_record -1.201380e-05  8.190352e-01\n",
              "40                             open_acc -1.924013e-03  1.116440e-12\n",
              "41                              pub_rec  4.947701e-03  1.502406e-01\n",
              "42                            total_acc  4.585806e-04  1.407058e-04\n",
              "43                       acc_now_delinq  9.299976e-03  4.790970e-01\n",
              "44                     total_rev_hi_lim  6.766757e-08  1.531436e-01"
            ]
          },
          "execution_count": 77,
          "metadata": {},
          "output_type": "execute_result"
        }
      ],
      "source": [
        "summary_table = pd.DataFrame(columns = ['Feature name'], data = feature_name)\n",
        "summary_table['Coefficients'] = np.transpose(reg_ead.coef_)\n",
        "summary_table.index = summary_table.index + 1\n",
        "summary_table.loc[0] = ['Intercept', reg_ead.intercept_]\n",
        "summary_table = summary_table.sort_index()\n",
        "p_values = reg_ead.p\n",
        "p_values = np.append(np.nan,np.array(p_values))\n",
        "summary_table['p_values'] = p_values\n",
        "summary_table"
      ]
    },
    {
      "cell_type": "markdown",
      "metadata": {
        "id": "0q8f010K5f0L"
      },
      "source": [
        "### b Model Validation"
      ]
    },
    {
      "cell_type": "code",
      "execution_count": 78,
      "metadata": {
        "id": "Wy-7MKXG5f0L"
      },
      "outputs": [],
      "source": [
        "# keeping only the variables needed and removing dummy variables\n",
        "ead_X_test = ead_X_test[features_all]\n",
        "ead_X_test = ead_X_test.drop(features_reference_cat, axis = 1)"
      ]
    },
    {
      "cell_type": "code",
      "execution_count": 79,
      "metadata": {
        "colab": {
          "base_uri": "https://localhost:8080/"
        },
        "id": "tqKJq7Ot5f0N",
        "outputId": "44105b5f-b1fc-4ce0-b89c-857bac9c5e80"
      },
      "outputs": [
        {
          "data": {
            "text/plain": [
              "array(['grade:A', 'grade:B', 'grade:C', 'grade:D', 'grade:E', 'grade:F',\n",
              "       'home_ownership:MORTGAGE', 'home_ownership:NONE',\n",
              "       'home_ownership:OTHER', 'home_ownership:OWN',\n",
              "       'verification_status:Not Verified',\n",
              "       'verification_status:Source Verified', 'purpose:car',\n",
              "       'purpose:debt_consolidation', 'purpose:educational',\n",
              "       'purpose:home_improvement', 'purpose:house',\n",
              "       'purpose:major_purchase', 'purpose:medical', 'purpose:moving',\n",
              "       'purpose:other', 'purpose:renewable_energy',\n",
              "       'purpose:small_business', 'purpose:vacation', 'purpose:wedding',\n",
              "       'initial_list_status:w', 'term_int', 'emp_length_int',\n",
              "       'mths_since_issue_d', 'mths_since_earliest_cr_line', 'funded_amnt',\n",
              "       'int_rate', 'installment', 'annual_inc', 'dti', 'delinq_2yrs',\n",
              "       'inq_last_6mths', 'mths_since_last_delinq',\n",
              "       'mths_since_last_record', 'open_acc', 'pub_rec', 'total_acc',\n",
              "       'acc_now_delinq', 'total_rev_hi_lim'], dtype=object)"
            ]
          },
          "execution_count": 79,
          "metadata": {},
          "output_type": "execute_result"
        }
      ],
      "source": [
        "ead_X_test.columns.values"
      ]
    },
    {
      "cell_type": "code",
      "execution_count": 80,
      "metadata": {
        "id": "XQKrv_VE5f0N"
      },
      "outputs": [],
      "source": [
        "# Calculating the predicted vals\n",
        "y_hat_test_ead = reg_ead.predict(ead_X_test)"
      ]
    },
    {
      "cell_type": "code",
      "execution_count": 81,
      "metadata": {
        "id": "8oifMo6u5f0O"
      },
      "outputs": [],
      "source": [
        "ead_Y_test_temp = ead_Y_test"
      ]
    },
    {
      "cell_type": "code",
      "execution_count": 82,
      "metadata": {
        "id": "zCmxX1Q15f0O"
      },
      "outputs": [],
      "source": [
        "ead_Y_test_temp = ead_Y_test_temp.reset_index(drop = True)\n",
        "# We reset the index of a dataframe."
      ]
    },
    {
      "cell_type": "code",
      "execution_count": 83,
      "metadata": {
        "colab": {
          "base_uri": "https://localhost:8080/",
          "height": 112
        },
        "id": "hK6YO-3d5f0P",
        "outputId": "1f18f512-eae7-4913-b317-259111c34d6b"
      },
      "outputs": [
        {
          "data": {
            "text/html": [
              "\n",
              "  <div id=\"df-e7470f7f-fa11-4fde-8443-573cde24455c\">\n",
              "    <div class=\"colab-df-container\">\n",
              "      <div>\n",
              "<style scoped>\n",
              "    .dataframe tbody tr th:only-of-type {\n",
              "        vertical-align: middle;\n",
              "    }\n",
              "\n",
              "    .dataframe tbody tr th {\n",
              "        vertical-align: top;\n",
              "    }\n",
              "\n",
              "    .dataframe thead th {\n",
              "        text-align: right;\n",
              "    }\n",
              "</style>\n",
              "<table border=\"1\" class=\"dataframe\">\n",
              "  <thead>\n",
              "    <tr style=\"text-align: right;\">\n",
              "      <th></th>\n",
              "      <th>CCF</th>\n",
              "      <th>0</th>\n",
              "    </tr>\n",
              "  </thead>\n",
              "  <tbody>\n",
              "    <tr>\n",
              "      <th>CCF</th>\n",
              "      <td>1.000000</td>\n",
              "      <td>0.519019</td>\n",
              "    </tr>\n",
              "    <tr>\n",
              "      <th>0</th>\n",
              "      <td>0.519019</td>\n",
              "      <td>1.000000</td>\n",
              "    </tr>\n",
              "  </tbody>\n",
              "</table>\n",
              "</div>\n",
              "      <button class=\"colab-df-convert\" onclick=\"convertToInteractive('df-e7470f7f-fa11-4fde-8443-573cde24455c')\"\n",
              "              title=\"Convert this dataframe to an interactive table.\"\n",
              "              style=\"display:none;\">\n",
              "        \n",
              "  <svg xmlns=\"http://www.w3.org/2000/svg\" height=\"24px\"viewBox=\"0 0 24 24\"\n",
              "       width=\"24px\">\n",
              "    <path d=\"M0 0h24v24H0V0z\" fill=\"none\"/>\n",
              "    <path d=\"M18.56 5.44l.94 2.06.94-2.06 2.06-.94-2.06-.94-.94-2.06-.94 2.06-2.06.94zm-11 1L8.5 8.5l.94-2.06 2.06-.94-2.06-.94L8.5 2.5l-.94 2.06-2.06.94zm10 10l.94 2.06.94-2.06 2.06-.94-2.06-.94-.94-2.06-.94 2.06-2.06.94z\"/><path d=\"M17.41 7.96l-1.37-1.37c-.4-.4-.92-.59-1.43-.59-.52 0-1.04.2-1.43.59L10.3 9.45l-7.72 7.72c-.78.78-.78 2.05 0 2.83L4 21.41c.39.39.9.59 1.41.59.51 0 1.02-.2 1.41-.59l7.78-7.78 2.81-2.81c.8-.78.8-2.07 0-2.86zM5.41 20L4 18.59l7.72-7.72 1.47 1.35L5.41 20z\"/>\n",
              "  </svg>\n",
              "      </button>\n",
              "      \n",
              "  <style>\n",
              "    .colab-df-container {\n",
              "      display:flex;\n",
              "      flex-wrap:wrap;\n",
              "      gap: 12px;\n",
              "    }\n",
              "\n",
              "    .colab-df-convert {\n",
              "      background-color: #E8F0FE;\n",
              "      border: none;\n",
              "      border-radius: 50%;\n",
              "      cursor: pointer;\n",
              "      display: none;\n",
              "      fill: #1967D2;\n",
              "      height: 32px;\n",
              "      padding: 0 0 0 0;\n",
              "      width: 32px;\n",
              "    }\n",
              "\n",
              "    .colab-df-convert:hover {\n",
              "      background-color: #E2EBFA;\n",
              "      box-shadow: 0px 1px 2px rgba(60, 64, 67, 0.3), 0px 1px 3px 1px rgba(60, 64, 67, 0.15);\n",
              "      fill: #174EA6;\n",
              "    }\n",
              "\n",
              "    [theme=dark] .colab-df-convert {\n",
              "      background-color: #3B4455;\n",
              "      fill: #D2E3FC;\n",
              "    }\n",
              "\n",
              "    [theme=dark] .colab-df-convert:hover {\n",
              "      background-color: #434B5C;\n",
              "      box-shadow: 0px 1px 3px 1px rgba(0, 0, 0, 0.15);\n",
              "      filter: drop-shadow(0px 1px 2px rgba(0, 0, 0, 0.3));\n",
              "      fill: #FFFFFF;\n",
              "    }\n",
              "  </style>\n",
              "\n",
              "      <script>\n",
              "        const buttonEl =\n",
              "          document.querySelector('#df-e7470f7f-fa11-4fde-8443-573cde24455c button.colab-df-convert');\n",
              "        buttonEl.style.display =\n",
              "          google.colab.kernel.accessAllowed ? 'block' : 'none';\n",
              "\n",
              "        async function convertToInteractive(key) {\n",
              "          const element = document.querySelector('#df-e7470f7f-fa11-4fde-8443-573cde24455c');\n",
              "          const dataTable =\n",
              "            await google.colab.kernel.invokeFunction('convertToInteractive',\n",
              "                                                     [key], {});\n",
              "          if (!dataTable) return;\n",
              "\n",
              "          const docLinkHtml = 'Like what you see? Visit the ' +\n",
              "            '<a target=\"_blank\" href=https://colab.research.google.com/notebooks/data_table.ipynb>data table notebook</a>'\n",
              "            + ' to learn more about interactive tables.';\n",
              "          element.innerHTML = '';\n",
              "          dataTable['output_type'] = 'display_data';\n",
              "          await google.colab.output.renderOutput(dataTable, element);\n",
              "          const docLink = document.createElement('div');\n",
              "          docLink.innerHTML = docLinkHtml;\n",
              "          element.appendChild(docLink);\n",
              "        }\n",
              "      </script>\n",
              "    </div>\n",
              "  </div>\n",
              "  "
            ],
            "text/plain": [
              "          CCF         0\n",
              "CCF  1.000000  0.519019\n",
              "0    0.519019  1.000000"
            ]
          },
          "execution_count": 83,
          "metadata": {},
          "output_type": "execute_result"
        }
      ],
      "source": [
        "# Calculating the correlation between actual and predicted values.\n",
        "pd.concat([ead_Y_test_temp, pd.DataFrame(y_hat_test_ead)], axis = 1).corr()\n"
      ]
    },
    {
      "cell_type": "code",
      "execution_count": 84,
      "metadata": {
        "colab": {
          "base_uri": "https://localhost:8080/",
          "height": 357
        },
        "id": "s-I0F8lN5f0P",
        "outputId": "98d257c4-5e68-4163-f70a-12397fb458ea"
      },
      "outputs": [
        {
          "name": "stderr",
          "output_type": "stream",
          "text": [
            "/usr/local/lib/python3.8/dist-packages/seaborn/distributions.py:2619: FutureWarning: `distplot` is a deprecated function and will be removed in a future version. Please adapt your code to use either `displot` (a figure-level function with similar flexibility) or `histplot` (an axes-level function for histograms).\n",
            "  warnings.warn(msg, FutureWarning)\n"
          ]
        },
        {
          "data": {
            "text/plain": [
              "<matplotlib.axes._subplots.AxesSubplot at 0x7ffb32016d60>"
            ]
          },
          "execution_count": 84,
          "metadata": {},
          "output_type": "execute_result"
        },
        {
          "data": {
            "image/png": "[encoded data removed]",
            "text/plain": [
              "<Figure size 432x288 with 1 Axes>"
            ]
          },
          "metadata": {},
          "output_type": "display_data"
        }
      ],
      "source": [
        "# Plotting the distribution of the residuals.\n",
        "sns.distplot(ead_Y_test - y_hat_test_ead)"
      ]
    },
    {
      "cell_type": "code",
      "execution_count": 85,
      "metadata": {
        "colab": {
          "base_uri": "https://localhost:8080/",
          "height": 300
        },
        "id": "N0QT-GSV5f0Q",
        "outputId": "15de6245-0437-468c-ba34-ccbe65b69029"
      },
      "outputs": [
        {
          "data": {
            "text/html": [
              "\n",
              "  <div id=\"df-74f17742-57af-40a4-83e0-a8a4bff91c8b\">\n",
              "    <div class=\"colab-df-container\">\n",
              "      <div>\n",
              "<style scoped>\n",
              "    .dataframe tbody tr th:only-of-type {\n",
              "        vertical-align: middle;\n",
              "    }\n",
              "\n",
              "    .dataframe tbody tr th {\n",
              "        vertical-align: top;\n",
              "    }\n",
              "\n",
              "    .dataframe thead th {\n",
              "        text-align: right;\n",
              "    }\n",
              "</style>\n",
              "<table border=\"1\" class=\"dataframe\">\n",
              "  <thead>\n",
              "    <tr style=\"text-align: right;\">\n",
              "      <th></th>\n",
              "      <th>0</th>\n",
              "    </tr>\n",
              "  </thead>\n",
              "  <tbody>\n",
              "    <tr>\n",
              "      <th>count</th>\n",
              "      <td>8648.000000</td>\n",
              "    </tr>\n",
              "    <tr>\n",
              "      <th>mean</th>\n",
              "      <td>0.736497</td>\n",
              "    </tr>\n",
              "    <tr>\n",
              "      <th>std</th>\n",
              "      <td>0.104487</td>\n",
              "    </tr>\n",
              "    <tr>\n",
              "      <th>min</th>\n",
              "      <td>0.385745</td>\n",
              "    </tr>\n",
              "    <tr>\n",
              "      <th>25%</th>\n",
              "      <td>0.663073</td>\n",
              "    </tr>\n",
              "    <tr>\n",
              "      <th>50%</th>\n",
              "      <td>0.732534</td>\n",
              "    </tr>\n",
              "    <tr>\n",
              "      <th>75%</th>\n",
              "      <td>0.810746</td>\n",
              "    </tr>\n",
              "    <tr>\n",
              "      <th>max</th>\n",
              "      <td>1.008400</td>\n",
              "    </tr>\n",
              "  </tbody>\n",
              "</table>\n",
              "</div>\n",
              "      <button class=\"colab-df-convert\" onclick=\"convertToInteractive('df-74f17742-57af-40a4-83e0-a8a4bff91c8b')\"\n",
              "              title=\"Convert this dataframe to an interactive table.\"\n",
              "              style=\"display:none;\">\n",
              "        \n",
              "  <svg xmlns=\"http://www.w3.org/2000/svg\" height=\"24px\"viewBox=\"0 0 24 24\"\n",
              "       width=\"24px\">\n",
              "    <path d=\"M0 0h24v24H0V0z\" fill=\"none\"/>\n",
              "    <path d=\"M18.56 5.44l.94 2.06.94-2.06 2.06-.94-2.06-.94-.94-2.06-.94 2.06-2.06.94zm-11 1L8.5 8.5l.94-2.06 2.06-.94-2.06-.94L8.5 2.5l-.94 2.06-2.06.94zm10 10l.94 2.06.94-2.06 2.06-.94-2.06-.94-.94-2.06-.94 2.06-2.06.94z\"/><path d=\"M17.41 7.96l-1.37-1.37c-.4-.4-.92-.59-1.43-.59-.52 0-1.04.2-1.43.59L10.3 9.45l-7.72 7.72c-.78.78-.78 2.05 0 2.83L4 21.41c.39.39.9.59 1.41.59.51 0 1.02-.2 1.41-.59l7.78-7.78 2.81-2.81c.8-.78.8-2.07 0-2.86zM5.41 20L4 18.59l7.72-7.72 1.47 1.35L5.41 20z\"/>\n",
              "  </svg>\n",
              "      </button>\n",
              "      \n",
              "  <style>\n",
              "    .colab-df-container {\n",
              "      display:flex;\n",
              "      flex-wrap:wrap;\n",
              "      gap: 12px;\n",
              "    }\n",
              "\n",
              "    .colab-df-convert {\n",
              "      background-color: #E8F0FE;\n",
              "      border: none;\n",
              "      border-radius: 50%;\n",
              "      cursor: pointer;\n",
              "      display: none;\n",
              "      fill: #1967D2;\n",
              "      height: 32px;\n",
              "      padding: 0 0 0 0;\n",
              "      width: 32px;\n",
              "    }\n",
              "\n",
              "    .colab-df-convert:hover {\n",
              "      background-color: #E2EBFA;\n",
              "      box-shadow: 0px 1px 2px rgba(60, 64, 67, 0.3), 0px 1px 3px 1px rgba(60, 64, 67, 0.15);\n",
              "      fill: #174EA6;\n",
              "    }\n",
              "\n",
              "    [theme=dark] .colab-df-convert {\n",
              "      background-color: #3B4455;\n",
              "      fill: #D2E3FC;\n",
              "    }\n",
              "\n",
              "    [theme=dark] .colab-df-convert:hover {\n",
              "      background-color: #434B5C;\n",
              "      box-shadow: 0px 1px 3px 1px rgba(0, 0, 0, 0.15);\n",
              "      filter: drop-shadow(0px 1px 2px rgba(0, 0, 0, 0.3));\n",
              "      fill: #FFFFFF;\n",
              "    }\n",
              "  </style>\n",
              "\n",
              "      <script>\n",
              "        const buttonEl =\n",
              "          document.querySelector('#df-74f17742-57af-40a4-83e0-a8a4bff91c8b button.colab-df-convert');\n",
              "        buttonEl.style.display =\n",
              "          google.colab.kernel.accessAllowed ? 'block' : 'none';\n",
              "\n",
              "        async function convertToInteractive(key) {\n",
              "          const element = document.querySelector('#df-74f17742-57af-40a4-83e0-a8a4bff91c8b');\n",
              "          const dataTable =\n",
              "            await google.colab.kernel.invokeFunction('convertToInteractive',\n",
              "                                                     [key], {});\n",
              "          if (!dataTable) return;\n",
              "\n",
              "          const docLinkHtml = 'Like what you see? Visit the ' +\n",
              "            '<a target=\"_blank\" href=https://colab.research.google.com/notebooks/data_table.ipynb>data table notebook</a>'\n",
              "            + ' to learn more about interactive tables.';\n",
              "          element.innerHTML = '';\n",
              "          dataTable['output_type'] = 'display_data';\n",
              "          await google.colab.output.renderOutput(dataTable, element);\n",
              "          const docLink = document.createElement('div');\n",
              "          docLink.innerHTML = docLinkHtml;\n",
              "          element.appendChild(docLink);\n",
              "        }\n",
              "      </script>\n",
              "    </div>\n",
              "  </div>\n",
              "  "
            ],
            "text/plain": [
              "                 0\n",
              "count  8648.000000\n",
              "mean      0.736497\n",
              "std       0.104487\n",
              "min       0.385745\n",
              "25%       0.663073\n",
              "50%       0.732534\n",
              "75%       0.810746\n",
              "max       1.008400"
            ]
          },
          "execution_count": 85,
          "metadata": {},
          "output_type": "execute_result"
        }
      ],
      "source": [
        "# Descriptive statisics for the values of a column.\n",
        "pd.DataFrame(y_hat_test_ead).describe()"
      ]
    },
    {
      "cell_type": "code",
      "execution_count": 86,
      "metadata": {
        "id": "K_T5cZA95f0Q"
      },
      "outputs": [],
      "source": [
        "# Setting predicted values that are greater than 1 to 1 and vice versa\n",
        "y_hat_test_ead = np.where(y_hat_test_ead < 0, 0, y_hat_test_ead)\n",
        "y_hat_test_ead = np.where(y_hat_test_ead > 1, 1, y_hat_test_ead)"
      ]
    },
    {
      "cell_type": "code",
      "execution_count": 87,
      "metadata": {
        "colab": {
          "base_uri": "https://localhost:8080/",
          "height": 300
        },
        "id": "IfHtfSaW5f0R",
        "outputId": "4a020d2f-50ac-4508-cac6-5f9c5964e809"
      },
      "outputs": [
        {
          "data": {
            "text/html": [
              "\n",
              "  <div id=\"df-24b4ce03-3209-4d21-98df-3bfdd3734e9d\">\n",
              "    <div class=\"colab-df-container\">\n",
              "      <div>\n",
              "<style scoped>\n",
              "    .dataframe tbody tr th:only-of-type {\n",
              "        vertical-align: middle;\n",
              "    }\n",
              "\n",
              "    .dataframe tbody tr th {\n",
              "        vertical-align: top;\n",
              "    }\n",
              "\n",
              "    .dataframe thead th {\n",
              "        text-align: right;\n",
              "    }\n",
              "</style>\n",
              "<table border=\"1\" class=\"dataframe\">\n",
              "  <thead>\n",
              "    <tr style=\"text-align: right;\">\n",
              "      <th></th>\n",
              "      <th>0</th>\n",
              "    </tr>\n",
              "  </thead>\n",
              "  <tbody>\n",
              "    <tr>\n",
              "      <th>count</th>\n",
              "      <td>8648.000000</td>\n",
              "    </tr>\n",
              "    <tr>\n",
              "      <th>mean</th>\n",
              "      <td>0.736496</td>\n",
              "    </tr>\n",
              "    <tr>\n",
              "      <th>std</th>\n",
              "      <td>0.104484</td>\n",
              "    </tr>\n",
              "    <tr>\n",
              "      <th>min</th>\n",
              "      <td>0.385745</td>\n",
              "    </tr>\n",
              "    <tr>\n",
              "      <th>25%</th>\n",
              "      <td>0.663073</td>\n",
              "    </tr>\n",
              "    <tr>\n",
              "      <th>50%</th>\n",
              "      <td>0.732534</td>\n",
              "    </tr>\n",
              "    <tr>\n",
              "      <th>75%</th>\n",
              "      <td>0.810746</td>\n",
              "    </tr>\n",
              "    <tr>\n",
              "      <th>max</th>\n",
              "      <td>1.000000</td>\n",
              "    </tr>\n",
              "  </tbody>\n",
              "</table>\n",
              "</div>\n",
              "      <button class=\"colab-df-convert\" onclick=\"convertToInteractive('df-24b4ce03-3209-4d21-98df-3bfdd3734e9d')\"\n",
              "              title=\"Convert this dataframe to an interactive table.\"\n",
              "              style=\"display:none;\">\n",
              "        \n",
              "  <svg xmlns=\"http://www.w3.org/2000/svg\" height=\"24px\"viewBox=\"0 0 24 24\"\n",
              "       width=\"24px\">\n",
              "    <path d=\"M0 0h24v24H0V0z\" fill=\"none\"/>\n",
              "    <path d=\"M18.56 5.44l.94 2.06.94-2.06 2.06-.94-2.06-.94-.94-2.06-.94 2.06-2.06.94zm-11 1L8.5 8.5l.94-2.06 2.06-.94-2.06-.94L8.5 2.5l-.94 2.06-2.06.94zm10 10l.94 2.06.94-2.06 2.06-.94-2.06-.94-.94-2.06-.94 2.06-2.06.94z\"/><path d=\"M17.41 7.96l-1.37-1.37c-.4-.4-.92-.59-1.43-.59-.52 0-1.04.2-1.43.59L10.3 9.45l-7.72 7.72c-.78.78-.78 2.05 0 2.83L4 21.41c.39.39.9.59 1.41.59.51 0 1.02-.2 1.41-.59l7.78-7.78 2.81-2.81c.8-.78.8-2.07 0-2.86zM5.41 20L4 18.59l7.72-7.72 1.47 1.35L5.41 20z\"/>\n",
              "  </svg>\n",
              "      </button>\n",
              "      \n",
              "  <style>\n",
              "    .colab-df-container {\n",
              "      display:flex;\n",
              "      flex-wrap:wrap;\n",
              "      gap: 12px;\n",
              "    }\n",
              "\n",
              "    .colab-df-convert {\n",
              "      background-color: #E8F0FE;\n",
              "      border: none;\n",
              "      border-radius: 50%;\n",
              "      cursor: pointer;\n",
              "      display: none;\n",
              "      fill: #1967D2;\n",
              "      height: 32px;\n",
              "      padding: 0 0 0 0;\n",
              "      width: 32px;\n",
              "    }\n",
              "\n",
              "    .colab-df-convert:hover {\n",
              "      background-color: #E2EBFA;\n",
              "      box-shadow: 0px 1px 2px rgba(60, 64, 67, 0.3), 0px 1px 3px 1px rgba(60, 64, 67, 0.15);\n",
              "      fill: #174EA6;\n",
              "    }\n",
              "\n",
              "    [theme=dark] .colab-df-convert {\n",
              "      background-color: #3B4455;\n",
              "      fill: #D2E3FC;\n",
              "    }\n",
              "\n",
              "    [theme=dark] .colab-df-convert:hover {\n",
              "      background-color: #434B5C;\n",
              "      box-shadow: 0px 1px 3px 1px rgba(0, 0, 0, 0.15);\n",
              "      filter: drop-shadow(0px 1px 2px rgba(0, 0, 0, 0.3));\n",
              "      fill: #FFFFFF;\n",
              "    }\n",
              "  </style>\n",
              "\n",
              "      <script>\n",
              "        const buttonEl =\n",
              "          document.querySelector('#df-24b4ce03-3209-4d21-98df-3bfdd3734e9d button.colab-df-convert');\n",
              "        buttonEl.style.display =\n",
              "          google.colab.kernel.accessAllowed ? 'block' : 'none';\n",
              "\n",
              "        async function convertToInteractive(key) {\n",
              "          const element = document.querySelector('#df-24b4ce03-3209-4d21-98df-3bfdd3734e9d');\n",
              "          const dataTable =\n",
              "            await google.colab.kernel.invokeFunction('convertToInteractive',\n",
              "                                                     [key], {});\n",
              "          if (!dataTable) return;\n",
              "\n",
              "          const docLinkHtml = 'Like what you see? Visit the ' +\n",
              "            '<a target=\"_blank\" href=https://colab.research.google.com/notebooks/data_table.ipynb>data table notebook</a>'\n",
              "            + ' to learn more about interactive tables.';\n",
              "          element.innerHTML = '';\n",
              "          dataTable['output_type'] = 'display_data';\n",
              "          await google.colab.output.renderOutput(dataTable, element);\n",
              "          const docLink = document.createElement('div');\n",
              "          docLink.innerHTML = docLinkHtml;\n",
              "          element.appendChild(docLink);\n",
              "        }\n",
              "      </script>\n",
              "    </div>\n",
              "  </div>\n",
              "  "
            ],
            "text/plain": [
              "                 0\n",
              "count  8648.000000\n",
              "mean      0.736496\n",
              "std       0.104484\n",
              "min       0.385745\n",
              "25%       0.663073\n",
              "50%       0.732534\n",
              "75%       0.810746\n",
              "max       1.000000"
            ]
          },
          "execution_count": 87,
          "metadata": {},
          "output_type": "execute_result"
        }
      ],
      "source": [
        "# some descriptive statisics for the values of a column.\n",
        "pd.DataFrame(y_hat_test_ead).describe()"
      ]
    },
    {
      "cell_type": "markdown",
      "metadata": {
        "id": "CoQOoMrt5_MU"
      },
      "source": [
        "#4 Expected Loss"
      ]
    },
    {
      "cell_type": "code",
      "execution_count": 88,
      "metadata": {
        "id": "kwUAZvm4hYHs"
      },
      "outputs": [],
      "source": [
        "#cleaning the memory\n",
        "loan_data_preprocessed_backup = []\n",
        "\n",
        "loan_data_defaults = []\n",
        "lgd_X_S1_train, lgd_X_S1_test, lgd_Y_S1_train, lgd_Y_S1_test  = [], [],[],[]\n",
        "lgd_step_2_data =[]\n",
        "lgd_X_S2_train, lgd_X_S2_test, lgd_Y_S2_train, lgd_Y_S2_test = [],[],[],[]\n",
        "ead_X_train, ead_X_test, ead_Y_train, ead_Y_test = [], [], [], []"
      ]
    },
    {
      "cell_type": "code",
      "execution_count": 89,
      "metadata": {
        "id": "qi5t68_Y5_MU"
      },
      "outputs": [],
      "source": [
        "# filling the missing values with zeroes.\n",
        "loan_data_preprocessed['mths_since_last_delinq'].fillna(0, inplace = True)\n",
        "loan_data_preprocessed['mths_since_last_record'].fillna(0, inplace = True)"
      ]
    },
    {
      "cell_type": "code",
      "execution_count": 90,
      "metadata": {
        "id": "fFlsaI9g5_MU"
      },
      "outputs": [],
      "source": [
        "# keeping the variables only we need for the model.\n",
        "loan_data_preprocessed_lgd_ead = loan_data_preprocessed[features_all]\n",
        "# removing the dummy variable ref cats.\n",
        "loan_data_preprocessed_lgd_ead = loan_data_preprocessed_lgd_ead.drop(features_reference_cat, axis = 1)"
      ]
    },
    {
      "cell_type": "code",
      "execution_count": 91,
      "metadata": {
        "id": "fQM-JN-V5_MV"
      },
      "outputs": [],
      "source": [
        "### 1- LGD MODELS ###\n",
        "# using step 1 LGD model to calculate predicted values.\n",
        "loan_data_preprocessed['recovery_rate_st_1'] = reg_lgd_st_1.model.predict(loan_data_preprocessed_lgd_ead)\n",
        "# using step 2 LGD model to calculate predicted values.\n",
        "loan_data_preprocessed['recovery_rate_st_2'] = reg_lgd_st_2.predict(loan_data_preprocessed_lgd_ead)"
      ]
    },
    {
      "cell_type": "code",
      "execution_count": 92,
      "metadata": {
        "id": "8_8ywVQu5_MW"
      },
      "outputs": [],
      "source": [
        "# Combining the predicted values from steps 1 + 2 to determine the final estimated recovery rate.\n",
        "loan_data_preprocessed['recovery_rate'] = loan_data_preprocessed['recovery_rate_st_1'] * loan_data_preprocessed['recovery_rate_st_2']\n",
        "# Setting estimated recovery rates greater than 1 to 1 and vice versa\n",
        "loan_data_preprocessed['recovery_rate'] = np.where(loan_data_preprocessed['recovery_rate'] < 0, 0, loan_data_preprocessed['recovery_rate'])\n",
        "loan_data_preprocessed['recovery_rate'] = np.where(loan_data_preprocessed['recovery_rate'] > 1, 1, loan_data_preprocessed['recovery_rate'])"
      ]
    },
    {
      "cell_type": "code",
      "execution_count": 93,
      "metadata": {
        "colab": {
          "base_uri": "https://localhost:8080/"
        },
        "id": "ovpJr8Nr5_MX",
        "outputId": "33a587a5-ac15-4eec-cae3-dd38678110d3"
      },
      "outputs": [
        {
          "data": {
            "text/plain": [
              "count    466285.000000\n",
              "mean          0.927799\n",
              "std           0.058306\n",
              "min           0.321313\n",
              "25%           0.877418\n",
              "50%           0.907896\n",
              "75%           1.000000\n",
              "max           1.000000\n",
              "Name: LGD, dtype: float64"
            ]
          },
          "execution_count": 93,
          "metadata": {},
          "output_type": "execute_result"
        }
      ],
      "source": [
        "# Calculating estimated LGD. Estimated LGD equals 1 - estimated recovery rate.\n",
        "loan_data_preprocessed['LGD'] = 1 - loan_data_preprocessed['recovery_rate']\n",
        "# Some descriptive statisics\n",
        "loan_data_preprocessed['LGD'].describe()"
      ]
    },
    {
      "cell_type": "code",
      "execution_count": 94,
      "metadata": {
        "id": "wHgOftNr5_MX"
      },
      "outputs": [],
      "source": [
        "### 2- EAD MODEL ###\n",
        "# Applying EAD model to calculate estimated credit conversion factor.\n",
        "loan_data_preprocessed['CCF'] = reg_ead.predict(loan_data_preprocessed_lgd_ead)"
      ]
    },
    {
      "cell_type": "code",
      "execution_count": 95,
      "metadata": {
        "id": "9gaf4whE5_MY"
      },
      "outputs": [],
      "source": [
        "# Setting estimated CCF that are greater than 1 to 1 and vice versa\n",
        "loan_data_preprocessed['CCF'] = np.where(loan_data_preprocessed['CCF'] < 0, 0, loan_data_preprocessed['CCF'])\n",
        "loan_data_preprocessed['CCF'] = np.where(loan_data_preprocessed['CCF'] > 1, 1, loan_data_preprocessed['CCF'])\n"
      ]
    },
    {
      "cell_type": "code",
      "execution_count": 96,
      "metadata": {
        "colab": {
          "base_uri": "https://localhost:8080/"
        },
        "id": "T5CgQXBU5_MY",
        "outputId": "4b21d1ba-7404-43c6-dd59-68901b66e51a"
      },
      "outputs": [
        {
          "data": {
            "text/plain": [
              "count    466285.000000\n",
              "mean      10799.244078\n",
              "std        6911.759776\n",
              "min         188.614188\n",
              "25%        5498.707476\n",
              "50%        9206.184808\n",
              "75%       14664.481611\n",
              "max       35000.000000\n",
              "Name: EAD, dtype: float64"
            ]
          },
          "execution_count": 96,
          "metadata": {},
          "output_type": "execute_result"
        }
      ],
      "source": [
        "# Estimated EAD = estimated CCF multiplied by funded amount.\n",
        "loan_data_preprocessed['EAD'] = loan_data_preprocessed['CCF'] * loan_data_preprocessed_lgd_ead['funded_amnt']\n",
        "# Some descriptive statisics\n",
        "loan_data_preprocessed['EAD'].describe()\n"
      ]
    },
    {
      "cell_type": "code",
      "execution_count": 97,
      "metadata": {
        "id": "fJss_9_M5_MZ"
      },
      "outputs": [],
      "source": [
        "### 3- PD MODEL ###\n",
        "# Importing data to apply the PD model.\n",
        "loan_data_inputs_train = pd.read_csv('loan_data_inputs_train.csv')\n",
        "loan_data_inputs_test = pd.read_csv('loan_data_inputs_test.csv')"
      ]
    },
    {
      "cell_type": "code",
      "execution_count": 98,
      "metadata": {
        "id": "eolUSp_T5_Ma"
      },
      "outputs": [],
      "source": [
        "# Concating the two dfs\n",
        "loan_data_inputs_pd = pd.concat([loan_data_inputs_train, loan_data_inputs_test], axis = 0)\n",
        "# #clearing memeory\n",
        "loan_data_inputs_train, loan_data_inputs_test = [],[] "
      ]
    },
    {
      "cell_type": "code",
      "execution_count": 99,
      "metadata": {
        "colab": {
          "base_uri": "https://localhost:8080/"
        },
        "id": "GMc9RwX15_Ma",
        "outputId": "3e23f9d0-c4a6-4356-a75e-e7280fdd1c87"
      },
      "outputs": [
        {
          "data": {
            "text/plain": [
              "(466285, 316)"
            ]
          },
          "execution_count": 99,
          "metadata": {},
          "output_type": "execute_result"
        }
      ],
      "source": [
        "loan_data_inputs_pd.shape"
      ]
    },
    {
      "cell_type": "code",
      "execution_count": 100,
      "metadata": {
        "colab": {
          "base_uri": "https://localhost:8080/",
          "height": 404
        },
        "id": "MNfDZrCA5_Mb",
        "outputId": "e3420dac-8c31-46b5-edba-419791c57eb5"
      },
      "outputs": [
        {
          "data": {
            "text/html": [
              "\n",
              "  <div id=\"df-b67beb88-1706-4f10-8f68-1e5d91e9e482\">\n",
              "    <div class=\"colab-df-container\">\n",
              "      <div>\n",
              "<style scoped>\n",
              "    .dataframe tbody tr th:only-of-type {\n",
              "        vertical-align: middle;\n",
              "    }\n",
              "\n",
              "    .dataframe tbody tr th {\n",
              "        vertical-align: top;\n",
              "    }\n",
              "\n",
              "    .dataframe thead th {\n",
              "        text-align: right;\n",
              "    }\n",
              "</style>\n",
              "<table border=\"1\" class=\"dataframe\">\n",
              "  <thead>\n",
              "    <tr style=\"text-align: right;\">\n",
              "      <th></th>\n",
              "      <th>Unnamed: 0</th>\n",
              "      <th>Unnamed: 0.1</th>\n",
              "      <th>id</th>\n",
              "      <th>member_id</th>\n",
              "      <th>loan_amnt</th>\n",
              "      <th>funded_amnt</th>\n",
              "      <th>funded_amnt_inv</th>\n",
              "      <th>term</th>\n",
              "      <th>int_rate</th>\n",
              "      <th>installment</th>\n",
              "      <th>...</th>\n",
              "      <th>dti:21.7-22.4</th>\n",
              "      <th>dti:22.4-35</th>\n",
              "      <th>dti:&gt;35</th>\n",
              "      <th>mths_since_last_record:Missing</th>\n",
              "      <th>mths_since_last_record:0-2</th>\n",
              "      <th>mths_since_last_record:3-20</th>\n",
              "      <th>mths_since_last_record:21-31</th>\n",
              "      <th>mths_since_last_record:32-80</th>\n",
              "      <th>mths_since_last_record:81-86</th>\n",
              "      <th>mths_since_last_record:&gt;=86</th>\n",
              "    </tr>\n",
              "  </thead>\n",
              "  <tbody>\n",
              "    <tr>\n",
              "      <th>0</th>\n",
              "      <td>427211</td>\n",
              "      <td>427211</td>\n",
              "      <td>12796369</td>\n",
              "      <td>14818505</td>\n",
              "      <td>24000</td>\n",
              "      <td>24000</td>\n",
              "      <td>24000.0</td>\n",
              "      <td>36 months</td>\n",
              "      <td>8.90</td>\n",
              "      <td>762.08</td>\n",
              "      <td>...</td>\n",
              "      <td>1</td>\n",
              "      <td>0</td>\n",
              "      <td>0</td>\n",
              "      <td>1</td>\n",
              "      <td>0</td>\n",
              "      <td>0</td>\n",
              "      <td>0</td>\n",
              "      <td>0</td>\n",
              "      <td>0</td>\n",
              "      <td>0</td>\n",
              "    </tr>\n",
              "    <tr>\n",
              "      <th>1</th>\n",
              "      <td>206088</td>\n",
              "      <td>206088</td>\n",
              "      <td>1439740</td>\n",
              "      <td>1691948</td>\n",
              "      <td>10000</td>\n",
              "      <td>10000</td>\n",
              "      <td>10000.0</td>\n",
              "      <td>36 months</td>\n",
              "      <td>14.33</td>\n",
              "      <td>343.39</td>\n",
              "      <td>...</td>\n",
              "      <td>0</td>\n",
              "      <td>0</td>\n",
              "      <td>0</td>\n",
              "      <td>1</td>\n",
              "      <td>0</td>\n",
              "      <td>0</td>\n",
              "      <td>0</td>\n",
              "      <td>0</td>\n",
              "      <td>0</td>\n",
              "      <td>0</td>\n",
              "    </tr>\n",
              "    <tr>\n",
              "      <th>2</th>\n",
              "      <td>136020</td>\n",
              "      <td>136020</td>\n",
              "      <td>5214749</td>\n",
              "      <td>6556909</td>\n",
              "      <td>20425</td>\n",
              "      <td>20425</td>\n",
              "      <td>20425.0</td>\n",
              "      <td>36 months</td>\n",
              "      <td>8.90</td>\n",
              "      <td>648.56</td>\n",
              "      <td>...</td>\n",
              "      <td>0</td>\n",
              "      <td>0</td>\n",
              "      <td>0</td>\n",
              "      <td>1</td>\n",
              "      <td>0</td>\n",
              "      <td>0</td>\n",
              "      <td>0</td>\n",
              "      <td>0</td>\n",
              "      <td>0</td>\n",
              "      <td>0</td>\n",
              "    </tr>\n",
              "    <tr>\n",
              "      <th>3</th>\n",
              "      <td>412305</td>\n",
              "      <td>412305</td>\n",
              "      <td>13827698</td>\n",
              "      <td>15890016</td>\n",
              "      <td>17200</td>\n",
              "      <td>17200</td>\n",
              "      <td>17200.0</td>\n",
              "      <td>36 months</td>\n",
              "      <td>16.59</td>\n",
              "      <td>609.73</td>\n",
              "      <td>...</td>\n",
              "      <td>0</td>\n",
              "      <td>0</td>\n",
              "      <td>0</td>\n",
              "      <td>1</td>\n",
              "      <td>0</td>\n",
              "      <td>0</td>\n",
              "      <td>0</td>\n",
              "      <td>0</td>\n",
              "      <td>0</td>\n",
              "      <td>0</td>\n",
              "    </tr>\n",
              "    <tr>\n",
              "      <th>4</th>\n",
              "      <td>36159</td>\n",
              "      <td>36159</td>\n",
              "      <td>422455</td>\n",
              "      <td>496525</td>\n",
              "      <td>8400</td>\n",
              "      <td>8400</td>\n",
              "      <td>7450.0</td>\n",
              "      <td>36 months</td>\n",
              "      <td>12.84</td>\n",
              "      <td>282.40</td>\n",
              "      <td>...</td>\n",
              "      <td>0</td>\n",
              "      <td>1</td>\n",
              "      <td>0</td>\n",
              "      <td>1</td>\n",
              "      <td>0</td>\n",
              "      <td>0</td>\n",
              "      <td>0</td>\n",
              "      <td>0</td>\n",
              "      <td>0</td>\n",
              "      <td>0</td>\n",
              "    </tr>\n",
              "  </tbody>\n",
              "</table>\n",
              "<p>5 rows × 316 columns</p>\n",
              "</div>\n",
              "      <button class=\"colab-df-convert\" onclick=\"convertToInteractive('df-b67beb88-1706-4f10-8f68-1e5d91e9e482')\"\n",
              "              title=\"Convert this dataframe to an interactive table.\"\n",
              "              style=\"display:none;\">\n",
              "        \n",
              "  <svg xmlns=\"http://www.w3.org/2000/svg\" height=\"24px\"viewBox=\"0 0 24 24\"\n",
              "       width=\"24px\">\n",
              "    <path d=\"M0 0h24v24H0V0z\" fill=\"none\"/>\n",
              "    <path d=\"M18.56 5.44l.94 2.06.94-2.06 2.06-.94-2.06-.94-.94-2.06-.94 2.06-2.06.94zm-11 1L8.5 8.5l.94-2.06 2.06-.94-2.06-.94L8.5 2.5l-.94 2.06-2.06.94zm10 10l.94 2.06.94-2.06 2.06-.94-2.06-.94-.94-2.06-.94 2.06-2.06.94z\"/><path d=\"M17.41 7.96l-1.37-1.37c-.4-.4-.92-.59-1.43-.59-.52 0-1.04.2-1.43.59L10.3 9.45l-7.72 7.72c-.78.78-.78 2.05 0 2.83L4 21.41c.39.39.9.59 1.41.59.51 0 1.02-.2 1.41-.59l7.78-7.78 2.81-2.81c.8-.78.8-2.07 0-2.86zM5.41 20L4 18.59l7.72-7.72 1.47 1.35L5.41 20z\"/>\n",
              "  </svg>\n",
              "      </button>\n",
              "      \n",
              "  <style>\n",
              "    .colab-df-container {\n",
              "      display:flex;\n",
              "      flex-wrap:wrap;\n",
              "      gap: 12px;\n",
              "    }\n",
              "\n",
              "    .colab-df-convert {\n",
              "      background-color: #E8F0FE;\n",
              "      border: none;\n",
              "      border-radius: 50%;\n",
              "      cursor: pointer;\n",
              "      display: none;\n",
              "      fill: #1967D2;\n",
              "      height: 32px;\n",
              "      padding: 0 0 0 0;\n",
              "      width: 32px;\n",
              "    }\n",
              "\n",
              "    .colab-df-convert:hover {\n",
              "      background-color: #E2EBFA;\n",
              "      box-shadow: 0px 1px 2px rgba(60, 64, 67, 0.3), 0px 1px 3px 1px rgba(60, 64, 67, 0.15);\n",
              "      fill: #174EA6;\n",
              "    }\n",
              "\n",
              "    [theme=dark] .colab-df-convert {\n",
              "      background-color: #3B4455;\n",
              "      fill: #D2E3FC;\n",
              "    }\n",
              "\n",
              "    [theme=dark] .colab-df-convert:hover {\n",
              "      background-color: #434B5C;\n",
              "      box-shadow: 0px 1px 3px 1px rgba(0, 0, 0, 0.15);\n",
              "      filter: drop-shadow(0px 1px 2px rgba(0, 0, 0, 0.3));\n",
              "      fill: #FFFFFF;\n",
              "    }\n",
              "  </style>\n",
              "\n",
              "      <script>\n",
              "        const buttonEl =\n",
              "          document.querySelector('#df-b67beb88-1706-4f10-8f68-1e5d91e9e482 button.colab-df-convert');\n",
              "        buttonEl.style.display =\n",
              "          google.colab.kernel.accessAllowed ? 'block' : 'none';\n",
              "\n",
              "        async function convertToInteractive(key) {\n",
              "          const element = document.querySelector('#df-b67beb88-1706-4f10-8f68-1e5d91e9e482');\n",
              "          const dataTable =\n",
              "            await google.colab.kernel.invokeFunction('convertToInteractive',\n",
              "                                                     [key], {});\n",
              "          if (!dataTable) return;\n",
              "\n",
              "          const docLinkHtml = 'Like what you see? Visit the ' +\n",
              "            '<a target=\"_blank\" href=https://colab.research.google.com/notebooks/data_table.ipynb>data table notebook</a>'\n",
              "            + ' to learn more about interactive tables.';\n",
              "          element.innerHTML = '';\n",
              "          dataTable['output_type'] = 'display_data';\n",
              "          await google.colab.output.renderOutput(dataTable, element);\n",
              "          const docLink = document.createElement('div');\n",
              "          docLink.innerHTML = docLinkHtml;\n",
              "          element.appendChild(docLink);\n",
              "        }\n",
              "      </script>\n",
              "    </div>\n",
              "  </div>\n",
              "  "
            ],
            "text/plain": [
              "   Unnamed: 0  Unnamed: 0.1        id  member_id  loan_amnt  funded_amnt  \\\n",
              "0      427211        427211  12796369   14818505      24000        24000   \n",
              "1      206088        206088   1439740    1691948      10000        10000   \n",
              "2      136020        136020   5214749    6556909      20425        20425   \n",
              "3      412305        412305  13827698   15890016      17200        17200   \n",
              "4       36159         36159    422455     496525       8400         8400   \n",
              "\n",
              "   funded_amnt_inv        term  int_rate  installment  ... dti:21.7-22.4  \\\n",
              "0          24000.0   36 months      8.90       762.08  ...             1   \n",
              "1          10000.0   36 months     14.33       343.39  ...             0   \n",
              "2          20425.0   36 months      8.90       648.56  ...             0   \n",
              "3          17200.0   36 months     16.59       609.73  ...             0   \n",
              "4           7450.0   36 months     12.84       282.40  ...             0   \n",
              "\n",
              "  dti:22.4-35 dti:>35 mths_since_last_record:Missing  \\\n",
              "0           0       0                              1   \n",
              "1           0       0                              1   \n",
              "2           0       0                              1   \n",
              "3           0       0                              1   \n",
              "4           1       0                              1   \n",
              "\n",
              "  mths_since_last_record:0-2  mths_since_last_record:3-20  \\\n",
              "0                          0                            0   \n",
              "1                          0                            0   \n",
              "2                          0                            0   \n",
              "3                          0                            0   \n",
              "4                          0                            0   \n",
              "\n",
              "  mths_since_last_record:21-31 mths_since_last_record:32-80  \\\n",
              "0                            0                            0   \n",
              "1                            0                            0   \n",
              "2                            0                            0   \n",
              "3                            0                            0   \n",
              "4                            0                            0   \n",
              "\n",
              "  mths_since_last_record:81-86 mths_since_last_record:>=86  \n",
              "0                            0                           0  \n",
              "1                            0                           0  \n",
              "2                            0                           0  \n",
              "3                            0                           0  \n",
              "4                            0                           0  \n",
              "\n",
              "[5 rows x 316 columns]"
            ]
          },
          "execution_count": 100,
          "metadata": {},
          "output_type": "execute_result"
        }
      ],
      "source": [
        "loan_data_inputs_pd.head()"
      ]
    },
    {
      "cell_type": "code",
      "execution_count": 101,
      "metadata": {
        "colab": {
          "base_uri": "https://localhost:8080/",
          "height": 453
        },
        "id": "GxFxworf5_Mb",
        "outputId": "5d87edab-98c5-4b8e-84a0-c17bbe631ed2"
      },
      "outputs": [
        {
          "data": {
            "text/html": [
              "\n",
              "  <div id=\"df-8a9dee50-4ceb-4514-990e-75aa426d0e2a\">\n",
              "    <div class=\"colab-df-container\">\n",
              "      <div>\n",
              "<style scoped>\n",
              "    .dataframe tbody tr th:only-of-type {\n",
              "        vertical-align: middle;\n",
              "    }\n",
              "\n",
              "    .dataframe tbody tr th {\n",
              "        vertical-align: top;\n",
              "    }\n",
              "\n",
              "    .dataframe thead th {\n",
              "        text-align: right;\n",
              "    }\n",
              "</style>\n",
              "<table border=\"1\" class=\"dataframe\">\n",
              "  <thead>\n",
              "    <tr style=\"text-align: right;\">\n",
              "      <th></th>\n",
              "      <th>Unnamed: 0.1</th>\n",
              "      <th>id</th>\n",
              "      <th>member_id</th>\n",
              "      <th>loan_amnt</th>\n",
              "      <th>funded_amnt</th>\n",
              "      <th>funded_amnt_inv</th>\n",
              "      <th>term</th>\n",
              "      <th>int_rate</th>\n",
              "      <th>installment</th>\n",
              "      <th>grade</th>\n",
              "      <th>...</th>\n",
              "      <th>dti:21.7-22.4</th>\n",
              "      <th>dti:22.4-35</th>\n",
              "      <th>dti:&gt;35</th>\n",
              "      <th>mths_since_last_record:Missing</th>\n",
              "      <th>mths_since_last_record:0-2</th>\n",
              "      <th>mths_since_last_record:3-20</th>\n",
              "      <th>mths_since_last_record:21-31</th>\n",
              "      <th>mths_since_last_record:32-80</th>\n",
              "      <th>mths_since_last_record:81-86</th>\n",
              "      <th>mths_since_last_record:&gt;=86</th>\n",
              "    </tr>\n",
              "    <tr>\n",
              "      <th>Unnamed: 0</th>\n",
              "      <th></th>\n",
              "      <th></th>\n",
              "      <th></th>\n",
              "      <th></th>\n",
              "      <th></th>\n",
              "      <th></th>\n",
              "      <th></th>\n",
              "      <th></th>\n",
              "      <th></th>\n",
              "      <th></th>\n",
              "      <th></th>\n",
              "      <th></th>\n",
              "      <th></th>\n",
              "      <th></th>\n",
              "      <th></th>\n",
              "      <th></th>\n",
              "      <th></th>\n",
              "      <th></th>\n",
              "      <th></th>\n",
              "      <th></th>\n",
              "      <th></th>\n",
              "    </tr>\n",
              "  </thead>\n",
              "  <tbody>\n",
              "    <tr>\n",
              "      <th>427211</th>\n",
              "      <td>427211</td>\n",
              "      <td>12796369</td>\n",
              "      <td>14818505</td>\n",
              "      <td>24000</td>\n",
              "      <td>24000</td>\n",
              "      <td>24000.0</td>\n",
              "      <td>36 months</td>\n",
              "      <td>8.90</td>\n",
              "      <td>762.08</td>\n",
              "      <td>A</td>\n",
              "      <td>...</td>\n",
              "      <td>1</td>\n",
              "      <td>0</td>\n",
              "      <td>0</td>\n",
              "      <td>1</td>\n",
              "      <td>0</td>\n",
              "      <td>0</td>\n",
              "      <td>0</td>\n",
              "      <td>0</td>\n",
              "      <td>0</td>\n",
              "      <td>0</td>\n",
              "    </tr>\n",
              "    <tr>\n",
              "      <th>206088</th>\n",
              "      <td>206088</td>\n",
              "      <td>1439740</td>\n",
              "      <td>1691948</td>\n",
              "      <td>10000</td>\n",
              "      <td>10000</td>\n",
              "      <td>10000.0</td>\n",
              "      <td>36 months</td>\n",
              "      <td>14.33</td>\n",
              "      <td>343.39</td>\n",
              "      <td>C</td>\n",
              "      <td>...</td>\n",
              "      <td>0</td>\n",
              "      <td>0</td>\n",
              "      <td>0</td>\n",
              "      <td>1</td>\n",
              "      <td>0</td>\n",
              "      <td>0</td>\n",
              "      <td>0</td>\n",
              "      <td>0</td>\n",
              "      <td>0</td>\n",
              "      <td>0</td>\n",
              "    </tr>\n",
              "    <tr>\n",
              "      <th>136020</th>\n",
              "      <td>136020</td>\n",
              "      <td>5214749</td>\n",
              "      <td>6556909</td>\n",
              "      <td>20425</td>\n",
              "      <td>20425</td>\n",
              "      <td>20425.0</td>\n",
              "      <td>36 months</td>\n",
              "      <td>8.90</td>\n",
              "      <td>648.56</td>\n",
              "      <td>A</td>\n",
              "      <td>...</td>\n",
              "      <td>0</td>\n",
              "      <td>0</td>\n",
              "      <td>0</td>\n",
              "      <td>1</td>\n",
              "      <td>0</td>\n",
              "      <td>0</td>\n",
              "      <td>0</td>\n",
              "      <td>0</td>\n",
              "      <td>0</td>\n",
              "      <td>0</td>\n",
              "    </tr>\n",
              "    <tr>\n",
              "      <th>412305</th>\n",
              "      <td>412305</td>\n",
              "      <td>13827698</td>\n",
              "      <td>15890016</td>\n",
              "      <td>17200</td>\n",
              "      <td>17200</td>\n",
              "      <td>17200.0</td>\n",
              "      <td>36 months</td>\n",
              "      <td>16.59</td>\n",
              "      <td>609.73</td>\n",
              "      <td>D</td>\n",
              "      <td>...</td>\n",
              "      <td>0</td>\n",
              "      <td>0</td>\n",
              "      <td>0</td>\n",
              "      <td>1</td>\n",
              "      <td>0</td>\n",
              "      <td>0</td>\n",
              "      <td>0</td>\n",
              "      <td>0</td>\n",
              "      <td>0</td>\n",
              "      <td>0</td>\n",
              "    </tr>\n",
              "    <tr>\n",
              "      <th>36159</th>\n",
              "      <td>36159</td>\n",
              "      <td>422455</td>\n",
              "      <td>496525</td>\n",
              "      <td>8400</td>\n",
              "      <td>8400</td>\n",
              "      <td>7450.0</td>\n",
              "      <td>36 months</td>\n",
              "      <td>12.84</td>\n",
              "      <td>282.40</td>\n",
              "      <td>C</td>\n",
              "      <td>...</td>\n",
              "      <td>0</td>\n",
              "      <td>1</td>\n",
              "      <td>0</td>\n",
              "      <td>1</td>\n",
              "      <td>0</td>\n",
              "      <td>0</td>\n",
              "      <td>0</td>\n",
              "      <td>0</td>\n",
              "      <td>0</td>\n",
              "      <td>0</td>\n",
              "    </tr>\n",
              "  </tbody>\n",
              "</table>\n",
              "<p>5 rows × 315 columns</p>\n",
              "</div>\n",
              "      <button class=\"colab-df-convert\" onclick=\"convertToInteractive('df-8a9dee50-4ceb-4514-990e-75aa426d0e2a')\"\n",
              "              title=\"Convert this dataframe to an interactive table.\"\n",
              "              style=\"display:none;\">\n",
              "        \n",
              "  <svg xmlns=\"http://www.w3.org/2000/svg\" height=\"24px\"viewBox=\"0 0 24 24\"\n",
              "       width=\"24px\">\n",
              "    <path d=\"M0 0h24v24H0V0z\" fill=\"none\"/>\n",
              "    <path d=\"M18.56 5.44l.94 2.06.94-2.06 2.06-.94-2.06-.94-.94-2.06-.94 2.06-2.06.94zm-11 1L8.5 8.5l.94-2.06 2.06-.94-2.06-.94L8.5 2.5l-.94 2.06-2.06.94zm10 10l.94 2.06.94-2.06 2.06-.94-2.06-.94-.94-2.06-.94 2.06-2.06.94z\"/><path d=\"M17.41 7.96l-1.37-1.37c-.4-.4-.92-.59-1.43-.59-.52 0-1.04.2-1.43.59L10.3 9.45l-7.72 7.72c-.78.78-.78 2.05 0 2.83L4 21.41c.39.39.9.59 1.41.59.51 0 1.02-.2 1.41-.59l7.78-7.78 2.81-2.81c.8-.78.8-2.07 0-2.86zM5.41 20L4 18.59l7.72-7.72 1.47 1.35L5.41 20z\"/>\n",
              "  </svg>\n",
              "      </button>\n",
              "      \n",
              "  <style>\n",
              "    .colab-df-container {\n",
              "      display:flex;\n",
              "      flex-wrap:wrap;\n",
              "      gap: 12px;\n",
              "    }\n",
              "\n",
              "    .colab-df-convert {\n",
              "      background-color: #E8F0FE;\n",
              "      border: none;\n",
              "      border-radius: 50%;\n",
              "      cursor: pointer;\n",
              "      display: none;\n",
              "      fill: #1967D2;\n",
              "      height: 32px;\n",
              "      padding: 0 0 0 0;\n",
              "      width: 32px;\n",
              "    }\n",
              "\n",
              "    .colab-df-convert:hover {\n",
              "      background-color: #E2EBFA;\n",
              "      box-shadow: 0px 1px 2px rgba(60, 64, 67, 0.3), 0px 1px 3px 1px rgba(60, 64, 67, 0.15);\n",
              "      fill: #174EA6;\n",
              "    }\n",
              "\n",
              "    [theme=dark] .colab-df-convert {\n",
              "      background-color: #3B4455;\n",
              "      fill: #D2E3FC;\n",
              "    }\n",
              "\n",
              "    [theme=dark] .colab-df-convert:hover {\n",
              "      background-color: #434B5C;\n",
              "      box-shadow: 0px 1px 3px 1px rgba(0, 0, 0, 0.15);\n",
              "      filter: drop-shadow(0px 1px 2px rgba(0, 0, 0, 0.3));\n",
              "      fill: #FFFFFF;\n",
              "    }\n",
              "  </style>\n",
              "\n",
              "      <script>\n",
              "        const buttonEl =\n",
              "          document.querySelector('#df-8a9dee50-4ceb-4514-990e-75aa426d0e2a button.colab-df-convert');\n",
              "        buttonEl.style.display =\n",
              "          google.colab.kernel.accessAllowed ? 'block' : 'none';\n",
              "\n",
              "        async function convertToInteractive(key) {\n",
              "          const element = document.querySelector('#df-8a9dee50-4ceb-4514-990e-75aa426d0e2a');\n",
              "          const dataTable =\n",
              "            await google.colab.kernel.invokeFunction('convertToInteractive',\n",
              "                                                     [key], {});\n",
              "          if (!dataTable) return;\n",
              "\n",
              "          const docLinkHtml = 'Like what you see? Visit the ' +\n",
              "            '<a target=\"_blank\" href=https://colab.research.google.com/notebooks/data_table.ipynb>data table notebook</a>'\n",
              "            + ' to learn more about interactive tables.';\n",
              "          element.innerHTML = '';\n",
              "          dataTable['output_type'] = 'display_data';\n",
              "          await google.colab.output.renderOutput(dataTable, element);\n",
              "          const docLink = document.createElement('div');\n",
              "          docLink.innerHTML = docLinkHtml;\n",
              "          element.appendChild(docLink);\n",
              "        }\n",
              "      </script>\n",
              "    </div>\n",
              "  </div>\n",
              "  "
            ],
            "text/plain": [
              "            Unnamed: 0.1        id  member_id  loan_amnt  funded_amnt  \\\n",
              "Unnamed: 0                                                              \n",
              "427211            427211  12796369   14818505      24000        24000   \n",
              "206088            206088   1439740    1691948      10000        10000   \n",
              "136020            136020   5214749    6556909      20425        20425   \n",
              "412305            412305  13827698   15890016      17200        17200   \n",
              "36159              36159    422455     496525       8400         8400   \n",
              "\n",
              "            funded_amnt_inv        term  int_rate  installment grade  ...  \\\n",
              "Unnamed: 0                                                            ...   \n",
              "427211              24000.0   36 months      8.90       762.08     A  ...   \n",
              "206088              10000.0   36 months     14.33       343.39     C  ...   \n",
              "136020              20425.0   36 months      8.90       648.56     A  ...   \n",
              "412305              17200.0   36 months     16.59       609.73     D  ...   \n",
              "36159                7450.0   36 months     12.84       282.40     C  ...   \n",
              "\n",
              "           dti:21.7-22.4 dti:22.4-35 dti:>35 mths_since_last_record:Missing  \\\n",
              "Unnamed: 0                                                                    \n",
              "427211                 1           0       0                              1   \n",
              "206088                 0           0       0                              1   \n",
              "136020                 0           0       0                              1   \n",
              "412305                 0           0       0                              1   \n",
              "36159                  0           1       0                              1   \n",
              "\n",
              "            mths_since_last_record:0-2 mths_since_last_record:3-20  \\\n",
              "Unnamed: 0                                                           \n",
              "427211                               0                           0   \n",
              "206088                               0                           0   \n",
              "136020                               0                           0   \n",
              "412305                               0                           0   \n",
              "36159                                0                           0   \n",
              "\n",
              "           mths_since_last_record:21-31 mths_since_last_record:32-80  \\\n",
              "Unnamed: 0                                                             \n",
              "427211                                0                            0   \n",
              "206088                                0                            0   \n",
              "136020                                0                            0   \n",
              "412305                                0                            0   \n",
              "36159                                 0                            0   \n",
              "\n",
              "           mths_since_last_record:81-86 mths_since_last_record:>=86  \n",
              "Unnamed: 0                                                           \n",
              "427211                                0                           0  \n",
              "206088                                0                           0  \n",
              "136020                                0                           0  \n",
              "412305                                0                           0  \n",
              "36159                                 0                           0  \n",
              "\n",
              "[5 rows x 315 columns]"
            ]
          },
          "execution_count": 101,
          "metadata": {},
          "output_type": "execute_result"
        }
      ],
      "source": [
        "# Setting the index \n",
        "loan_data_inputs_pd = loan_data_inputs_pd.set_index('Unnamed: 0')\n",
        "loan_data_inputs_pd.head()"
      ]
    },
    {
      "cell_type": "code",
      "execution_count": 102,
      "metadata": {
        "id": "8XhHSqIP5_Me"
      },
      "outputs": [],
      "source": [
        "# Here we select a limited set of input variables                                           \n",
        "features_all_pd = ['grade:A',\n",
        "'grade:B',\n",
        "'grade:C',\n",
        "'grade:D',\n",
        "'grade:E',\n",
        "'grade:F',\n",
        "'grade:G',\n",
        "'home_ownership:RENT_OTHER_NONE_ANY',\n",
        "'home_ownership:OWN',\n",
        "'home_ownership:MORTGAGE',\n",
        "'addr_state:ND_NE_IA_NV_FL_HI_AL',\n",
        "'addr_state:NM_VA',\n",
        "'addr_state:NY',\n",
        "'addr_state:OK_TN_MO_LA_MD_NC',\n",
        "'addr_state:CA',\n",
        "'addr_state:UT_KY_AZ_NJ',\n",
        "'addr_state:AR_MI_PA_OH_MN',\n",
        "'addr_state:RI_MA_DE_SD_IN',\n",
        "'addr_state:GA_WA_OR',\n",
        "'addr_state:WI_MT',\n",
        "'addr_state:TX',\n",
        "'addr_state:IL_CT',\n",
        "'addr_state:KS_SC_CO_VT_AK_MS',\n",
        "'addr_state:WV_NH_WY_DC_ME_ID',\n",
        "'verification_status:Not Verified',\n",
        "'verification_status:Source Verified',\n",
        "'verification_status:Verified',\n",
        "'purpose:educ__sm_b__wedd__ren_en__mov__house',\n",
        "'purpose:credit_card',\n",
        "'purpose:debt_consolidation',\n",
        "'purpose:oth__med__vacation',\n",
        "'purpose:major_purch__car__home_impr',\n",
        "'initial_list_status:f',\n",
        "'initial_list_status:w',\n",
        "'term:36',\n",
        "'term:60',\n",
        "'emp_length:0',\n",
        "'emp_length:1',\n",
        "'emp_length:2-4',\n",
        "'emp_length:5-6',\n",
        "'emp_length:7-9',\n",
        "'emp_length:10',\n",
        "'int_rate:<9.548',\n",
        "'int_rate:9.548-12.025',\n",
        "'int_rate:12.025-15.74',\n",
        "'int_rate:15.74-20.281',\n",
        "'int_rate:>20.281',\n",
        "#'mths_since_earliest_cr_line:<140',\n",
        "#'mths_since_earliest_cr_line:141-164',\n",
        "#'mths_since_earliest_cr_line:165-247',\n",
        "#'mths_since_earliest_cr_line:248-270',\n",
        "#'mths_since_earliest_cr_line:271-352',\n",
        "#'mths_since_earliest_cr_line:>352',\n",
        "#'delinq_2yrs:0',\n",
        "#'delinq_2yrs:1-3',\n",
        "#'delinq_2yrs:>=4',\n",
        "'inq_last_6mths:0',\n",
        "'inq_last_6mths:1-2',\n",
        "'inq_last_6mths:3-6',\n",
        "'inq_last_6mths:>6',\n",
        "#'open_acc:0',\n",
        "#'open_acc:1-3',\n",
        "#'open_acc:4-12',\n",
        "#'open_acc:13-17',\n",
        "#'open_acc:18-22',\n",
        "#'open_acc:23-25',\n",
        "#'open_acc:26-30',\n",
        "#'open_acc:>=31',\n",
        "'pub_rec:0-2',\n",
        "'pub_rec:3-4',\n",
        "'pub_rec:>=5',\n",
        "#'total_acc:<=27',\n",
        "#'total_acc:28-51',\n",
        "#'total_acc:>=52',\n",
        "'acc_now_delinq:0',\n",
        "'acc_now_delinq:>=1',\n",
        "'total_rev_hi_lim:<=5K',\n",
        "'total_rev_hi_lim:5K-10K',\n",
        "'total_rev_hi_lim:10K-20K',\n",
        "'total_rev_hi_lim:20K-30K',\n",
        "'total_rev_hi_lim:30K-40K',\n",
        "'total_rev_hi_lim:40K-55K',\n",
        "'total_rev_hi_lim:55K-95K',\n",
        "'total_rev_hi_lim:>95K',\n",
        "'annual_inc:<20K',\n",
        "'annual_inc:20K-30K',\n",
        "'annual_inc:30K-40K',\n",
        "'annual_inc:40K-50K',\n",
        "'annual_inc:50K-60K',\n",
        "'annual_inc:60K-70K',\n",
        "'annual_inc:70K-80K',\n",
        "'annual_inc:80K-90K',\n",
        "'annual_inc:90K-100K',\n",
        "'annual_inc:100K-120K',\n",
        "'annual_inc:120K-140K',\n",
        "'annual_inc:>140K',\n",
        "'dti:<=1.4',\n",
        "'dti:1.4-3.5',\n",
        "'dti:3.5-7.7',\n",
        "'dti:7.7-10.5',\n",
        "'dti:10.5-16.1',\n",
        "'dti:16.1-20.3',\n",
        "'dti:20.3-21.7',\n",
        "'dti:21.7-22.4',\n",
        "'dti:22.4-35',\n",
        "'dti:>35',\n",
        "#'mths_since_last_delinq:Missing',\n",
        "#'mths_since_last_delinq:0-3',\n",
        "#'mths_since_last_delinq:4-30',\n",
        "#'mths_since_last_delinq:31-56',\n",
        "#'mths_since_last_delinq:>=57',\n",
        "#'mths_since_last_record:Missing',\n",
        "#'mths_since_last_record:0-2',\n",
        "#'mths_since_last_record:3-20',\n",
        "#'mths_since_last_record:21-31',\n",
        "#'mths_since_last_record:32-80',\n",
        "#'mths_since_last_record:81-86',\n",
        "#'mths_since_last_record:>=86',\n",
        "]"
      ]
    },
    {
      "cell_type": "code",
      "execution_count": 103,
      "metadata": {
        "id": "a3Z8LLH-5_Mg"
      },
      "outputs": [],
      "source": [
        "# Here we store the names of the reference category dummy variables in a list.\n",
        "ref_categories_pd = ['grade:G',\n",
        "'home_ownership:RENT_OTHER_NONE_ANY',\n",
        "'addr_state:ND_NE_IA_NV_FL_HI_AL',\n",
        "'verification_status:Verified',\n",
        "'purpose:educ__sm_b__wedd__ren_en__mov__house',\n",
        "'initial_list_status:f',\n",
        "'term:60',\n",
        "'emp_length:0',\n",
        "'int_rate:>20.281',\n",
        "#'mths_since_earliest_cr_line:<140',\n",
        "#'delinq_2yrs:>=4',\n",
        "'inq_last_6mths:>6',\n",
        "#'open_acc:0',\n",
        "'pub_rec:0-2',\n",
        "#'total_acc:<=27',\n",
        "'acc_now_delinq:0',\n",
        "'total_rev_hi_lim:<=5K',\n",
        "'annual_inc:<20K',\n",
        "'dti:>35'\n",
        "#'mths_since_last_delinq:0-3',\n",
        "#'mths_since_last_record:0-2'\n",
        "]"
      ]
    },
    {
      "cell_type": "code",
      "execution_count": 104,
      "metadata": {
        "id": "_TCKDrJj5_Mh"
      },
      "outputs": [],
      "source": [
        "# keeping the variables that we need for the PD model.\n",
        "loan_data_inputs_pd_temp = loan_data_inputs_pd[features_all_pd]\n",
        "# removing the dummy variable reference categories.\n",
        "loan_data_inputs_pd_temp = loan_data_inputs_pd_temp.drop(ref_categories_pd, axis = 1)"
      ]
    },
    {
      "cell_type": "code",
      "execution_count": 105,
      "metadata": {
        "colab": {
          "base_uri": "https://localhost:8080/"
        },
        "id": "1af6MVXL5_Mi",
        "outputId": "6b51f748-58c9-46e9-c677-b6a62a692d5a"
      },
      "outputs": [
        {
          "data": {
            "text/plain": [
              "(466285, 71)"
            ]
          },
          "execution_count": 105,
          "metadata": {},
          "output_type": "execute_result"
        }
      ],
      "source": [
        "loan_data_inputs_pd_temp.shape"
      ]
    },
    {
      "cell_type": "code",
      "execution_count": 106,
      "metadata": {
        "colab": {
          "base_uri": "https://localhost:8080/"
        },
        "id": "5SgNfWhw5_Mi",
        "outputId": "fbf5981b-a7bd-4091-9322-b6b7d40d3463"
      },
      "outputs": [
        {
          "data": {
            "text/plain": [
              "count    466285.000000\n",
              "mean          0.107746\n",
              "std           0.062673\n",
              "min           0.007272\n",
              "25%           0.059833\n",
              "50%           0.096167\n",
              "75%           0.142880\n",
              "max           0.491694\n",
              "Name: PD, dtype: float64"
            ]
          },
          "execution_count": 106,
          "metadata": {},
          "output_type": "execute_result"
        }
      ],
      "source": [
        "# Importing the PD model, stored in second notebook\n",
        "reg_pd = pickle.load(open('../models/pd_model.sav', 'rb'))\n",
        "# applying the PD model -  estimated default probabilities\n",
        "loan_data_inputs_pd['PD'] = reg_pd.model.predict_proba(loan_data_inputs_pd_temp)[: ][: , 0]\n",
        "# Some descriptive stats\n",
        "loan_data_inputs_pd['PD'].describe()"
      ]
    },
    {
      "cell_type": "code",
      "execution_count": 107,
      "metadata": {
        "id": "guT2Gjmr5_Mo"
      },
      "outputs": [],
      "source": [
        "# Concanating the dfs of LGD and EAD with the one of PD\n",
        "loan_data_preprocessed_new = pd.concat([loan_data_preprocessed, loan_data_inputs_pd], axis = 1)\n",
        "# Keeping necessary colomns for memory\n",
        "loan_data_preprocessed_new = loan_data_preprocessed_new[['funded_amnt', 'PD', 'LGD', 'EAD']] \n",
        "# Cleaning memory\n",
        "loan_data_preprocessed, loan_data_inputs_pd = [],[] "
      ]
    },
    {
      "cell_type": "code",
      "execution_count": 108,
      "metadata": {
        "colab": {
          "base_uri": "https://localhost:8080/"
        },
        "id": "QMmVl1LL5_Mo",
        "outputId": "fe939ca9-9a30-4ee0-abd4-cd038676cb33"
      },
      "outputs": [
        {
          "data": {
            "text/plain": [
              "(466285, 5)"
            ]
          },
          "execution_count": 108,
          "metadata": {},
          "output_type": "execute_result"
        }
      ],
      "source": [
        "loan_data_preprocessed_new.shape"
      ]
    },
    {
      "cell_type": "code",
      "execution_count": 109,
      "metadata": {
        "colab": {
          "base_uri": "https://localhost:8080/"
        },
        "id": "s0_5KKo15_Mp",
        "outputId": "6eb52aff-9e97-4c8f-bf53-5555769d0f90"
      },
      "outputs": [
        {
          "name": "stderr",
          "output_type": "stream",
          "text": [
            "<ipython-input-109-b53696a527d5>:2: SettingWithCopyWarning: \n",
            "A value is trying to be set on a copy of a slice from a DataFrame.\n",
            "Try using .loc[row_indexer,col_indexer] = value instead\n",
            "\n",
            "See the caveats in the documentation: https://pandas.pydata.org/pandas-docs/stable/user_guide/indexing.html#returning-a-view-versus-a-copy\n",
            "  loan_data_preprocessed_new['EL'] = loan_data_preprocessed_new['PD'] * loan_data_preprocessed_new['LGD'] * loan_data_preprocessed_new['EAD']\n"
          ]
        },
        {
          "data": {
            "text/plain": [
              "count    466285.000000\n",
              "mean       1089.528047\n",
              "std        1057.398173\n",
              "min           3.237384\n",
              "25%         373.019056\n",
              "50%         719.606208\n",
              "75%        1429.413128\n",
              "max       10708.662390\n",
              "Name: EL, dtype: float64"
            ]
          },
          "execution_count": 109,
          "metadata": {},
          "output_type": "execute_result"
        }
      ],
      "source": [
        "# Calculating Expected Loss. EL = PD * LGD * EAD.\n",
        "loan_data_preprocessed_new['EL'] = loan_data_preprocessed_new['PD'] * loan_data_preprocessed_new['LGD'] * loan_data_preprocessed_new['EAD']\n",
        "# Some descriptive statisics for the values of a column.\n",
        "loan_data_preprocessed_new['EL'].describe()"
      ]
    },
    {
      "cell_type": "code",
      "execution_count": 110,
      "metadata": {
        "colab": {
          "base_uri": "https://localhost:8080/",
          "height": 206
        },
        "id": "5oy6Bin15_Mp",
        "outputId": "1cc26b75-85f6-4620-9e51-f9bd93d3f711"
      },
      "outputs": [
        {
          "data": {
            "text/html": [
              "\n",
              "  <div id=\"df-c0c14041-de75-4391-9f5f-7369ff008aff\">\n",
              "    <div class=\"colab-df-container\">\n",
              "      <div>\n",
              "<style scoped>\n",
              "    .dataframe tbody tr th:only-of-type {\n",
              "        vertical-align: middle;\n",
              "    }\n",
              "\n",
              "    .dataframe tbody tr th {\n",
              "        vertical-align: top;\n",
              "    }\n",
              "\n",
              "    .dataframe thead th {\n",
              "        text-align: right;\n",
              "    }\n",
              "</style>\n",
              "<table border=\"1\" class=\"dataframe\">\n",
              "  <thead>\n",
              "    <tr style=\"text-align: right;\">\n",
              "      <th></th>\n",
              "      <th>funded_amnt</th>\n",
              "      <th>funded_amnt</th>\n",
              "      <th>PD</th>\n",
              "      <th>LGD</th>\n",
              "      <th>EAD</th>\n",
              "      <th>EL</th>\n",
              "    </tr>\n",
              "  </thead>\n",
              "  <tbody>\n",
              "    <tr>\n",
              "      <th>427211</th>\n",
              "      <td>24000</td>\n",
              "      <td>24000</td>\n",
              "      <td>0.034747</td>\n",
              "      <td>1.000000</td>\n",
              "      <td>16098.746413</td>\n",
              "      <td>559.379840</td>\n",
              "    </tr>\n",
              "    <tr>\n",
              "      <th>206088</th>\n",
              "      <td>10000</td>\n",
              "      <td>10000</td>\n",
              "      <td>0.077211</td>\n",
              "      <td>0.897945</td>\n",
              "      <td>6543.429629</td>\n",
              "      <td>453.662480</td>\n",
              "    </tr>\n",
              "    <tr>\n",
              "      <th>136020</th>\n",
              "      <td>20425</td>\n",
              "      <td>20425</td>\n",
              "      <td>0.037696</td>\n",
              "      <td>0.907296</td>\n",
              "      <td>12536.060878</td>\n",
              "      <td>428.751320</td>\n",
              "    </tr>\n",
              "    <tr>\n",
              "      <th>412305</th>\n",
              "      <td>17200</td>\n",
              "      <td>17200</td>\n",
              "      <td>0.218506</td>\n",
              "      <td>0.880072</td>\n",
              "      <td>13709.024966</td>\n",
              "      <td>2636.256270</td>\n",
              "    </tr>\n",
              "    <tr>\n",
              "      <th>36159</th>\n",
              "      <td>8400</td>\n",
              "      <td>8400</td>\n",
              "      <td>0.157997</td>\n",
              "      <td>0.891743</td>\n",
              "      <td>5091.514864</td>\n",
              "      <td>717.357217</td>\n",
              "    </tr>\n",
              "  </tbody>\n",
              "</table>\n",
              "</div>\n",
              "      <button class=\"colab-df-convert\" onclick=\"convertToInteractive('df-c0c14041-de75-4391-9f5f-7369ff008aff')\"\n",
              "              title=\"Convert this dataframe to an interactive table.\"\n",
              "              style=\"display:none;\">\n",
              "        \n",
              "  <svg xmlns=\"http://www.w3.org/2000/svg\" height=\"24px\"viewBox=\"0 0 24 24\"\n",
              "       width=\"24px\">\n",
              "    <path d=\"M0 0h24v24H0V0z\" fill=\"none\"/>\n",
              "    <path d=\"M18.56 5.44l.94 2.06.94-2.06 2.06-.94-2.06-.94-.94-2.06-.94 2.06-2.06.94zm-11 1L8.5 8.5l.94-2.06 2.06-.94-2.06-.94L8.5 2.5l-.94 2.06-2.06.94zm10 10l.94 2.06.94-2.06 2.06-.94-2.06-.94-.94-2.06-.94 2.06-2.06.94z\"/><path d=\"M17.41 7.96l-1.37-1.37c-.4-.4-.92-.59-1.43-.59-.52 0-1.04.2-1.43.59L10.3 9.45l-7.72 7.72c-.78.78-.78 2.05 0 2.83L4 21.41c.39.39.9.59 1.41.59.51 0 1.02-.2 1.41-.59l7.78-7.78 2.81-2.81c.8-.78.8-2.07 0-2.86zM5.41 20L4 18.59l7.72-7.72 1.47 1.35L5.41 20z\"/>\n",
              "  </svg>\n",
              "      </button>\n",
              "      \n",
              "  <style>\n",
              "    .colab-df-container {\n",
              "      display:flex;\n",
              "      flex-wrap:wrap;\n",
              "      gap: 12px;\n",
              "    }\n",
              "\n",
              "    .colab-df-convert {\n",
              "      background-color: #E8F0FE;\n",
              "      border: none;\n",
              "      border-radius: 50%;\n",
              "      cursor: pointer;\n",
              "      display: none;\n",
              "      fill: #1967D2;\n",
              "      height: 32px;\n",
              "      padding: 0 0 0 0;\n",
              "      width: 32px;\n",
              "    }\n",
              "\n",
              "    .colab-df-convert:hover {\n",
              "      background-color: #E2EBFA;\n",
              "      box-shadow: 0px 1px 2px rgba(60, 64, 67, 0.3), 0px 1px 3px 1px rgba(60, 64, 67, 0.15);\n",
              "      fill: #174EA6;\n",
              "    }\n",
              "\n",
              "    [theme=dark] .colab-df-convert {\n",
              "      background-color: #3B4455;\n",
              "      fill: #D2E3FC;\n",
              "    }\n",
              "\n",
              "    [theme=dark] .colab-df-convert:hover {\n",
              "      background-color: #434B5C;\n",
              "      box-shadow: 0px 1px 3px 1px rgba(0, 0, 0, 0.15);\n",
              "      filter: drop-shadow(0px 1px 2px rgba(0, 0, 0, 0.3));\n",
              "      fill: #FFFFFF;\n",
              "    }\n",
              "  </style>\n",
              "\n",
              "      <script>\n",
              "        const buttonEl =\n",
              "          document.querySelector('#df-c0c14041-de75-4391-9f5f-7369ff008aff button.colab-df-convert');\n",
              "        buttonEl.style.display =\n",
              "          google.colab.kernel.accessAllowed ? 'block' : 'none';\n",
              "\n",
              "        async function convertToInteractive(key) {\n",
              "          const element = document.querySelector('#df-c0c14041-de75-4391-9f5f-7369ff008aff');\n",
              "          const dataTable =\n",
              "            await google.colab.kernel.invokeFunction('convertToInteractive',\n",
              "                                                     [key], {});\n",
              "          if (!dataTable) return;\n",
              "\n",
              "          const docLinkHtml = 'Like what you see? Visit the ' +\n",
              "            '<a target=\"_blank\" href=https://colab.research.google.com/notebooks/data_table.ipynb>data table notebook</a>'\n",
              "            + ' to learn more about interactive tables.';\n",
              "          element.innerHTML = '';\n",
              "          dataTable['output_type'] = 'display_data';\n",
              "          await google.colab.output.renderOutput(dataTable, element);\n",
              "          const docLink = document.createElement('div');\n",
              "          docLink.innerHTML = docLinkHtml;\n",
              "          element.appendChild(docLink);\n",
              "        }\n",
              "      </script>\n",
              "    </div>\n",
              "  </div>\n",
              "  "
            ],
            "text/plain": [
              "        funded_amnt  funded_amnt        PD       LGD           EAD  \\\n",
              "427211        24000        24000  0.034747  1.000000  16098.746413   \n",
              "206088        10000        10000  0.077211  0.897945   6543.429629   \n",
              "136020        20425        20425  0.037696  0.907296  12536.060878   \n",
              "412305        17200        17200  0.218506  0.880072  13709.024966   \n",
              "36159          8400         8400  0.157997  0.891743   5091.514864   \n",
              "\n",
              "                 EL  \n",
              "427211   559.379840  \n",
              "206088   453.662480  \n",
              "136020   428.751320  \n",
              "412305  2636.256270  \n",
              "36159    717.357217  "
            ]
          },
          "execution_count": 110,
          "metadata": {},
          "output_type": "execute_result"
        }
      ],
      "source": [
        "loan_data_preprocessed_new[['funded_amnt', 'PD', 'LGD', 'EAD', 'EL']].head()"
      ]
    },
    {
      "cell_type": "code",
      "execution_count": 111,
      "metadata": {
        "colab": {
          "base_uri": "https://localhost:8080/",
          "height": 300
        },
        "id": "dRn5yprX5_Mp",
        "outputId": "1c02cdca-7c34-4396-fb2a-6ea3d6a1c961"
      },
      "outputs": [
        {
          "data": {
            "text/html": [
              "\n",
              "  <div id=\"df-a05daf69-5834-4606-afa7-82516b0fc254\">\n",
              "    <div class=\"colab-df-container\">\n",
              "      <div>\n",
              "<style scoped>\n",
              "    .dataframe tbody tr th:only-of-type {\n",
              "        vertical-align: middle;\n",
              "    }\n",
              "\n",
              "    .dataframe tbody tr th {\n",
              "        vertical-align: top;\n",
              "    }\n",
              "\n",
              "    .dataframe thead th {\n",
              "        text-align: right;\n",
              "    }\n",
              "</style>\n",
              "<table border=\"1\" class=\"dataframe\">\n",
              "  <thead>\n",
              "    <tr style=\"text-align: right;\">\n",
              "      <th></th>\n",
              "      <th>funded_amnt</th>\n",
              "      <th>funded_amnt</th>\n",
              "    </tr>\n",
              "  </thead>\n",
              "  <tbody>\n",
              "    <tr>\n",
              "      <th>count</th>\n",
              "      <td>466285.000000</td>\n",
              "      <td>466285.000000</td>\n",
              "    </tr>\n",
              "    <tr>\n",
              "      <th>mean</th>\n",
              "      <td>14291.801044</td>\n",
              "      <td>14291.801044</td>\n",
              "    </tr>\n",
              "    <tr>\n",
              "      <th>std</th>\n",
              "      <td>8274.371300</td>\n",
              "      <td>8274.371300</td>\n",
              "    </tr>\n",
              "    <tr>\n",
              "      <th>min</th>\n",
              "      <td>500.000000</td>\n",
              "      <td>500.000000</td>\n",
              "    </tr>\n",
              "    <tr>\n",
              "      <th>25%</th>\n",
              "      <td>8000.000000</td>\n",
              "      <td>8000.000000</td>\n",
              "    </tr>\n",
              "    <tr>\n",
              "      <th>50%</th>\n",
              "      <td>12000.000000</td>\n",
              "      <td>12000.000000</td>\n",
              "    </tr>\n",
              "    <tr>\n",
              "      <th>75%</th>\n",
              "      <td>20000.000000</td>\n",
              "      <td>20000.000000</td>\n",
              "    </tr>\n",
              "    <tr>\n",
              "      <th>max</th>\n",
              "      <td>35000.000000</td>\n",
              "      <td>35000.000000</td>\n",
              "    </tr>\n",
              "  </tbody>\n",
              "</table>\n",
              "</div>\n",
              "      <button class=\"colab-df-convert\" onclick=\"convertToInteractive('df-a05daf69-5834-4606-afa7-82516b0fc254')\"\n",
              "              title=\"Convert this dataframe to an interactive table.\"\n",
              "              style=\"display:none;\">\n",
              "        \n",
              "  <svg xmlns=\"http://www.w3.org/2000/svg\" height=\"24px\"viewBox=\"0 0 24 24\"\n",
              "       width=\"24px\">\n",
              "    <path d=\"M0 0h24v24H0V0z\" fill=\"none\"/>\n",
              "    <path d=\"M18.56 5.44l.94 2.06.94-2.06 2.06-.94-2.06-.94-.94-2.06-.94 2.06-2.06.94zm-11 1L8.5 8.5l.94-2.06 2.06-.94-2.06-.94L8.5 2.5l-.94 2.06-2.06.94zm10 10l.94 2.06.94-2.06 2.06-.94-2.06-.94-.94-2.06-.94 2.06-2.06.94z\"/><path d=\"M17.41 7.96l-1.37-1.37c-.4-.4-.92-.59-1.43-.59-.52 0-1.04.2-1.43.59L10.3 9.45l-7.72 7.72c-.78.78-.78 2.05 0 2.83L4 21.41c.39.39.9.59 1.41.59.51 0 1.02-.2 1.41-.59l7.78-7.78 2.81-2.81c.8-.78.8-2.07 0-2.86zM5.41 20L4 18.59l7.72-7.72 1.47 1.35L5.41 20z\"/>\n",
              "  </svg>\n",
              "      </button>\n",
              "      \n",
              "  <style>\n",
              "    .colab-df-container {\n",
              "      display:flex;\n",
              "      flex-wrap:wrap;\n",
              "      gap: 12px;\n",
              "    }\n",
              "\n",
              "    .colab-df-convert {\n",
              "      background-color: #E8F0FE;\n",
              "      border: none;\n",
              "      border-radius: 50%;\n",
              "      cursor: pointer;\n",
              "      display: none;\n",
              "      fill: #1967D2;\n",
              "      height: 32px;\n",
              "      padding: 0 0 0 0;\n",
              "      width: 32px;\n",
              "    }\n",
              "\n",
              "    .colab-df-convert:hover {\n",
              "      background-color: #E2EBFA;\n",
              "      box-shadow: 0px 1px 2px rgba(60, 64, 67, 0.3), 0px 1px 3px 1px rgba(60, 64, 67, 0.15);\n",
              "      fill: #174EA6;\n",
              "    }\n",
              "\n",
              "    [theme=dark] .colab-df-convert {\n",
              "      background-color: #3B4455;\n",
              "      fill: #D2E3FC;\n",
              "    }\n",
              "\n",
              "    [theme=dark] .colab-df-convert:hover {\n",
              "      background-color: #434B5C;\n",
              "      box-shadow: 0px 1px 3px 1px rgba(0, 0, 0, 0.15);\n",
              "      filter: drop-shadow(0px 1px 2px rgba(0, 0, 0, 0.3));\n",
              "      fill: #FFFFFF;\n",
              "    }\n",
              "  </style>\n",
              "\n",
              "      <script>\n",
              "        const buttonEl =\n",
              "          document.querySelector('#df-a05daf69-5834-4606-afa7-82516b0fc254 button.colab-df-convert');\n",
              "        buttonEl.style.display =\n",
              "          google.colab.kernel.accessAllowed ? 'block' : 'none';\n",
              "\n",
              "        async function convertToInteractive(key) {\n",
              "          const element = document.querySelector('#df-a05daf69-5834-4606-afa7-82516b0fc254');\n",
              "          const dataTable =\n",
              "            await google.colab.kernel.invokeFunction('convertToInteractive',\n",
              "                                                     [key], {});\n",
              "          if (!dataTable) return;\n",
              "\n",
              "          const docLinkHtml = 'Like what you see? Visit the ' +\n",
              "            '<a target=\"_blank\" href=https://colab.research.google.com/notebooks/data_table.ipynb>data table notebook</a>'\n",
              "            + ' to learn more about interactive tables.';\n",
              "          element.innerHTML = '';\n",
              "          dataTable['output_type'] = 'display_data';\n",
              "          await google.colab.output.renderOutput(dataTable, element);\n",
              "          const docLink = document.createElement('div');\n",
              "          docLink.innerHTML = docLinkHtml;\n",
              "          element.appendChild(docLink);\n",
              "        }\n",
              "      </script>\n",
              "    </div>\n",
              "  </div>\n",
              "  "
            ],
            "text/plain": [
              "         funded_amnt    funded_amnt\n",
              "count  466285.000000  466285.000000\n",
              "mean    14291.801044   14291.801044\n",
              "std      8274.371300    8274.371300\n",
              "min       500.000000     500.000000\n",
              "25%      8000.000000    8000.000000\n",
              "50%     12000.000000   12000.000000\n",
              "75%     20000.000000   20000.000000\n",
              "max     35000.000000   35000.000000"
            ]
          },
          "execution_count": 111,
          "metadata": {},
          "output_type": "execute_result"
        }
      ],
      "source": [
        "loan_data_preprocessed_new['funded_amnt'].describe()"
      ]
    },
    {
      "cell_type": "code",
      "execution_count": 112,
      "metadata": {
        "colab": {
          "base_uri": "https://localhost:8080/"
        },
        "id": "OsOtRJ725_Mq",
        "outputId": "67b88f71-2564-4295-80f6-83bcf1dd187a"
      },
      "outputs": [
        {
          "data": {
            "text/plain": [
              "508030585.4615325"
            ]
          },
          "execution_count": 112,
          "metadata": {},
          "output_type": "execute_result"
        }
      ],
      "source": [
        "# Total Expected Loss for All Loans calculated below\n",
        "loan_data_preprocessed_new['EL'].sum()"
      ]
    },
    {
      "cell_type": "code",
      "execution_count": 113,
      "metadata": {
        "colab": {
          "base_uri": "https://localhost:8080/"
        },
        "id": "30zBMuA15_Mq",
        "outputId": "54700ff1-e90d-4992-f2bf-17a7b339765c"
      },
      "outputs": [
        {
          "data": {
            "text/plain": [
              "funded_amnt    6664052450\n",
              "funded_amnt    6664052450\n",
              "dtype: int64"
            ]
          },
          "execution_count": 113,
          "metadata": {},
          "output_type": "execute_result"
        }
      ],
      "source": [
        "# Total funded amount for all loans calculated below\n",
        "loan_data_preprocessed_new['funded_amnt'].sum()"
      ]
    },
    {
      "cell_type": "code",
      "execution_count": 114,
      "metadata": {
        "colab": {
          "base_uri": "https://localhost:8080/"
        },
        "id": "4zmgFNh85_Mq",
        "outputId": "5864bc28-7bbe-4298-bf63-9ff84788c65f",
        "scrolled": true
      },
      "outputs": [
        {
          "data": {
            "text/plain": [
              "funded_amnt    0.076234\n",
              "funded_amnt    0.076234\n",
              "dtype: float64"
            ]
          },
          "execution_count": 114,
          "metadata": {},
          "output_type": "execute_result"
        }
      ],
      "source": [
        "# Total expected loss divided by total funded amount for all loans.\n",
        "loan_data_preprocessed_new['EL'].sum() / loan_data_preprocessed_new['funded_amnt'].sum()"
      ]
    },
    {
      "cell_type": "markdown",
      "metadata": {
        "id": "b6f-s1JsnJPg"
      },
      "source": [
        "Total expected loss divided by total funded amount for all loans is equal to **7.6%**. It is the percentage that the credit institute needs to take into consideration in its future decisions on credit loan requirements."
      ]
    },
    {
      "cell_type": "markdown",
      "metadata": {
        "id": "gbO-q4zX6IS5"
      },
      "source": [
        "--- End of Notebook ---\n",
        "# END"
      ]
    }
  ],
  "metadata": {
    "colab": {
      "provenance": []
    },
    "gpuClass": "standard",
    "kernelspec": {
      "display_name": "Python 3",
      "language": "python",
      "name": "python3"
    },
    "language_info": {
      "codemirror_mode": {
        "name": "ipython",
        "version": 3
      },
      "file_extension": ".py",
      "mimetype": "text/x-python",
      "name": "python",
      "nbconvert_exporter": "python",
      "pygments_lexer": "ipython3",
      "version": "3.7.6"
    }
  },
  "nbformat": 4,
  "nbformat_minor": 0
}
